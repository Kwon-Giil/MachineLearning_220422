{
  "nbformat": 4,
  "nbformat_minor": 0,
  "metadata": {
    "colab": {
      "name": "01_MNIST_CNNv1_220524.ipynb",
      "provenance": [],
      "collapsed_sections": []
    },
    "kernelspec": {
      "name": "python3",
      "display_name": "Python 3"
    },
    "language_info": {
      "name": "python"
    },
    "accelerator": "GPU"
  },
  "cells": [
    {
      "cell_type": "markdown",
      "source": [
        "# MNIST 손글씨 CNN v1\n",
        " - 2 x Conv2D layers\n",
        " - 1 FCN layer\n",
        " - 1 Output layer"
      ],
      "metadata": {
        "id": "Ti5jkf6Gdxej"
      }
    },
    {
      "cell_type": "code",
      "execution_count": 13,
      "metadata": {
        "id": "VTJDuwFUXtKA"
      },
      "outputs": [],
      "source": [
        "import numpy as np\n",
        "import matplotlib.pyplot as plt\n",
        "import tensorflow as tf\n",
        "seed = 2022\n",
        "np.random.seed(seed)\n",
        "tf.random.set_seed(seed)"
      ]
    },
    {
      "cell_type": "markdown",
      "source": [
        " - 데이터 전처리"
      ],
      "metadata": {
        "id": "DZKIhUDhfNjd"
      }
    },
    {
      "cell_type": "code",
      "source": [
        "from tensorflow.keras.datasets import mnist\n",
        "(X_train, y_train), (X_test,y_test) = mnist.load_data()\n",
        "X_train.shape, y_train.shape, X_test.shape, y_test.shape"
      ],
      "metadata": {
        "colab": {
          "base_uri": "https://localhost:8080/"
        },
        "id": "xSv8FRI7ePfi",
        "outputId": "08978e29-8e08-4c93-8ec4-e941d29a2bba"
      },
      "execution_count": 14,
      "outputs": [
        {
          "output_type": "execute_result",
          "data": {
            "text/plain": [
              "((60000, 28, 28), (60000,), (10000, 28, 28), (10000,))"
            ]
          },
          "metadata": {},
          "execution_count": 14
        }
      ]
    },
    {
      "cell_type": "code",
      "source": [
        "# X_train, X_test 정규화 (0~1)\n",
        "X_train = X_train.reshape(-1,28,28,1)/ 255.\n",
        "X_test = X_test.reshape(-1,28,28,1)/ 255.\n",
        "X_train.shape, X_test.shape"
      ],
      "metadata": {
        "colab": {
          "base_uri": "https://localhost:8080/"
        },
        "id": "DisZSCEmeoOM",
        "outputId": "1b6fb63b-f7c3-490e-8573-2001192ce1fa"
      },
      "execution_count": 15,
      "outputs": [
        {
          "output_type": "execute_result",
          "data": {
            "text/plain": [
              "((60000, 28, 28, 1), (10000, 28, 28, 1))"
            ]
          },
          "metadata": {},
          "execution_count": 15
        }
      ]
    },
    {
      "cell_type": "code",
      "source": [
        "# one hot encoding\n",
        "from tensorflow.keras.utils import to_categorical\n",
        "Y_train = to_categorical(y_train)\n",
        "Y_test = to_categorical(y_test)\n",
        "Y_train.shape, Y_test.shape"
      ],
      "metadata": {
        "colab": {
          "base_uri": "https://localhost:8080/"
        },
        "id": "Q6e2rkn9erOH",
        "outputId": "0ee7a450-253d-4262-9a31-12230759e480"
      },
      "execution_count": 16,
      "outputs": [
        {
          "output_type": "execute_result",
          "data": {
            "text/plain": [
              "((60000, 10), (10000, 10))"
            ]
          },
          "metadata": {},
          "execution_count": 16
        }
      ]
    },
    {
      "cell_type": "markdown",
      "source": [
        " - 모델 정의 / 설정 / 학습 / 평가"
      ],
      "metadata": {
        "id": "E_FTs3sUfIbU"
      }
    },
    {
      "cell_type": "code",
      "source": [
        "from tensorflow.keras.models import Sequential, load_model\n",
        "from tensorflow.keras.layers import Dense, Conv2D, Flatten\n",
        "from tensorflow.keras.callbacks import ModelCheckpoint, EarlyStopping"
      ],
      "metadata": {
        "id": "o63wBbmOfD9Y"
      },
      "execution_count": 17,
      "outputs": []
    },
    {
      "cell_type": "code",
      "source": [
        "model = Sequential([Conv2D(32, kernel_size=(3,3), input_shape=(28,28,1), activation='relu'),\n",
        "                    Conv2D(64, kernel_size=(3,3), activation='relu'),\n",
        "                    Flatten(),Dense(512, activation='relu'),\n",
        "                    Dense(10, activation='softmax')]) # output node\n",
        "\n",
        "model.summary()"
      ],
      "metadata": {
        "colab": {
          "base_uri": "https://localhost:8080/"
        },
        "id": "AAABsX-3ftNe",
        "outputId": "9fe27c84-5632-465a-dcb4-0f124bd12a35"
      },
      "execution_count": 18,
      "outputs": [
        {
          "output_type": "stream",
          "name": "stdout",
          "text": [
            "Model: \"sequential_1\"\n",
            "_________________________________________________________________\n",
            " Layer (type)                Output Shape              Param #   \n",
            "=================================================================\n",
            " conv2d_2 (Conv2D)           (None, 26, 26, 32)        320       \n",
            "                                                                 \n",
            " conv2d_3 (Conv2D)           (None, 24, 24, 64)        18496     \n",
            "                                                                 \n",
            " flatten_1 (Flatten)         (None, 36864)             0         \n",
            "                                                                 \n",
            " dense_2 (Dense)             (None, 512)               18874880  \n",
            "                                                                 \n",
            " dense_3 (Dense)             (None, 10)                5130      \n",
            "                                                                 \n",
            "=================================================================\n",
            "Total params: 18,898,826\n",
            "Trainable params: 18,898,826\n",
            "Non-trainable params: 0\n",
            "_________________________________________________________________\n"
          ]
        }
      ]
    },
    {
      "cell_type": "code",
      "source": [
        "model.compile('adam', 'categorical_crossentropy', metrics=['accuracy'])"
      ],
      "metadata": {
        "id": "p5zcUqZohnGC"
      },
      "execution_count": 19,
      "outputs": []
    },
    {
      "cell_type": "code",
      "source": [
        "model_path = 'best_mnist_cnn_v1.h5'\n",
        "mc = ModelCheckpoint(model_path, save_best_only=True, verbose=1)\n",
        "es = EarlyStopping(patience=10)"
      ],
      "metadata": {
        "id": "o9vgjeOci9FE"
      },
      "execution_count": 20,
      "outputs": []
    },
    {
      "cell_type": "code",
      "source": [
        "hist = model.fit(X_train, Y_train, validation_split=0.2, epochs = 100, batch_size=200, callbacks=[mc,es])"
      ],
      "metadata": {
        "colab": {
          "base_uri": "https://localhost:8080/"
        },
        "id": "6qUd___illTW",
        "outputId": "442b5149-d090-4a01-86dc-203cd85973ab"
      },
      "execution_count": 21,
      "outputs": [
        {
          "output_type": "stream",
          "name": "stdout",
          "text": [
            "Epoch 1/100\n",
            "239/240 [============================>.] - ETA: 0s - loss: 0.1524 - accuracy: 0.9530\n",
            "Epoch 1: val_loss improved from inf to 0.05605, saving model to best_mnist_cnn_v1.h5\n",
            "240/240 [==============================] - 7s 28ms/step - loss: 0.1521 - accuracy: 0.9531 - val_loss: 0.0561 - val_accuracy: 0.9834\n",
            "Epoch 2/100\n",
            "240/240 [==============================] - ETA: 0s - loss: 0.0354 - accuracy: 0.9892\n",
            "Epoch 2: val_loss improved from 0.05605 to 0.05353, saving model to best_mnist_cnn_v1.h5\n",
            "240/240 [==============================] - 6s 23ms/step - loss: 0.0354 - accuracy: 0.9892 - val_loss: 0.0535 - val_accuracy: 0.9851\n",
            "Epoch 3/100\n",
            "238/240 [============================>.] - ETA: 0s - loss: 0.0172 - accuracy: 0.9948\n",
            "Epoch 3: val_loss improved from 0.05353 to 0.04775, saving model to best_mnist_cnn_v1.h5\n",
            "240/240 [==============================] - 6s 23ms/step - loss: 0.0171 - accuracy: 0.9948 - val_loss: 0.0477 - val_accuracy: 0.9868\n",
            "Epoch 4/100\n",
            "238/240 [============================>.] - ETA: 0s - loss: 0.0098 - accuracy: 0.9969\n",
            "Epoch 4: val_loss did not improve from 0.04775\n",
            "240/240 [==============================] - 5s 20ms/step - loss: 0.0098 - accuracy: 0.9969 - val_loss: 0.0504 - val_accuracy: 0.9879\n",
            "Epoch 5/100\n",
            "238/240 [============================>.] - ETA: 0s - loss: 0.0081 - accuracy: 0.9974\n",
            "Epoch 5: val_loss did not improve from 0.04775\n",
            "240/240 [==============================] - 5s 20ms/step - loss: 0.0081 - accuracy: 0.9974 - val_loss: 0.0522 - val_accuracy: 0.9881\n",
            "Epoch 6/100\n",
            "238/240 [============================>.] - ETA: 0s - loss: 0.0061 - accuracy: 0.9983\n",
            "Epoch 6: val_loss did not improve from 0.04775\n",
            "240/240 [==============================] - 5s 20ms/step - loss: 0.0062 - accuracy: 0.9983 - val_loss: 0.0478 - val_accuracy: 0.9877\n",
            "Epoch 7/100\n",
            "238/240 [============================>.] - ETA: 0s - loss: 0.0037 - accuracy: 0.9988\n",
            "Epoch 7: val_loss did not improve from 0.04775\n",
            "240/240 [==============================] - 5s 21ms/step - loss: 0.0037 - accuracy: 0.9988 - val_loss: 0.0723 - val_accuracy: 0.9835\n",
            "Epoch 8/100\n",
            "238/240 [============================>.] - ETA: 0s - loss: 0.0083 - accuracy: 0.9970\n",
            "Epoch 8: val_loss did not improve from 0.04775\n",
            "240/240 [==============================] - 5s 20ms/step - loss: 0.0083 - accuracy: 0.9970 - val_loss: 0.0512 - val_accuracy: 0.9895\n",
            "Epoch 9/100\n",
            "238/240 [============================>.] - ETA: 0s - loss: 0.0024 - accuracy: 0.9993\n",
            "Epoch 9: val_loss did not improve from 0.04775\n",
            "240/240 [==============================] - 5s 21ms/step - loss: 0.0025 - accuracy: 0.9993 - val_loss: 0.0591 - val_accuracy: 0.9879\n",
            "Epoch 10/100\n",
            "238/240 [============================>.] - ETA: 0s - loss: 0.0033 - accuracy: 0.9989\n",
            "Epoch 10: val_loss did not improve from 0.04775\n",
            "240/240 [==============================] - 5s 20ms/step - loss: 0.0034 - accuracy: 0.9989 - val_loss: 0.0505 - val_accuracy: 0.9898\n",
            "Epoch 11/100\n",
            "238/240 [============================>.] - ETA: 0s - loss: 0.0014 - accuracy: 0.9997\n",
            "Epoch 11: val_loss did not improve from 0.04775\n",
            "240/240 [==============================] - 5s 20ms/step - loss: 0.0014 - accuracy: 0.9997 - val_loss: 0.0522 - val_accuracy: 0.9903\n",
            "Epoch 12/100\n",
            "238/240 [============================>.] - ETA: 0s - loss: 0.0021 - accuracy: 0.9993\n",
            "Epoch 12: val_loss did not improve from 0.04775\n",
            "240/240 [==============================] - 5s 20ms/step - loss: 0.0022 - accuracy: 0.9993 - val_loss: 0.0581 - val_accuracy: 0.9882\n",
            "Epoch 13/100\n",
            "238/240 [============================>.] - ETA: 0s - loss: 0.0035 - accuracy: 0.9990\n",
            "Epoch 13: val_loss did not improve from 0.04775\n",
            "240/240 [==============================] - 5s 20ms/step - loss: 0.0035 - accuracy: 0.9990 - val_loss: 0.0747 - val_accuracy: 0.9864\n"
          ]
        }
      ]
    },
    {
      "cell_type": "code",
      "source": [
        "best_model = load_model(model_path)\n",
        "best_model.evaluate(X_test, Y_test)"
      ],
      "metadata": {
        "colab": {
          "base_uri": "https://localhost:8080/"
        },
        "id": "SNUt7jW0l4JU",
        "outputId": "24219ca4-6794-43ef-9863-775bab95d306"
      },
      "execution_count": 22,
      "outputs": [
        {
          "output_type": "stream",
          "name": "stdout",
          "text": [
            "313/313 [==============================] - 1s 3ms/step - loss: 0.0401 - accuracy: 0.9880\n"
          ]
        },
        {
          "output_type": "execute_result",
          "data": {
            "text/plain": [
              "[0.04013516381382942, 0.9879999756813049]"
            ]
          },
          "metadata": {},
          "execution_count": 22
        }
      ]
    },
    {
      "cell_type": "markdown",
      "source": [
        " - 학습과정 시각화"
      ],
      "metadata": {
        "id": "Xl3WyUr0nPiT"
      }
    },
    {
      "cell_type": "code",
      "source": [
        "y_acc = hist.history['accuracy']\n",
        "y_vloss = hist.history['val_loss']\n",
        "xs = np.arange(1, len(y_acc)+1)"
      ],
      "metadata": {
        "id": "knvZ9AX0nR22"
      },
      "execution_count": 23,
      "outputs": []
    },
    {
      "cell_type": "code",
      "source": [
        "plt.figure(figsize=(12,8))\n",
        "plt.plot(xs, y_acc, label='train accuracy')\n",
        "plt.plot(xs, y_vloss, label='validation loss')\n",
        "plt.legend(), plt.grid()\n",
        "plt.xlabel('Epoch')\n",
        "plt.title(\"MNIST CNN v1\")\n",
        "plt.show()"
      ],
      "metadata": {
        "colab": {
          "base_uri": "https://localhost:8080/",
          "height": 513
        },
        "id": "ZP6wjW6-nk0S",
        "outputId": "8e6c32b7-7de7-4fc0-cd37-6dc760447db9"
      },
      "execution_count": 24,
      "outputs": [
        {
          "output_type": "display_data",
          "data": {
            "text/plain": [
              "<Figure size 864x576 with 1 Axes>"
            ],
            "image/png": "[encoded data removed]"
          },
          "metadata": {
            "needs_background": "light"
          }
        }
      ]
    }
  ]
}