{
  "nbformat": 4,
  "nbformat_minor": 0,
  "metadata": {
    "colab": {
      "name": "03_MNIST_CNNv3_220524.ipynb",
      "provenance": [],
      "collapsed_sections": []
    },
    "kernelspec": {
      "name": "python3",
      "display_name": "Python 3"
    },
    "language_info": {
      "name": "python"
    },
    "accelerator": "GPU"
  },
  "cells": [
    {
      "cell_type": "markdown",
      "source": [
        "# MNIST 손글씨 CNN v3\n",
        " - 2 x Conv2D layers\n",
        " - 1 Maxpooling2D layer\n",
        " - 1 Dropout (0.25) layer \n",
        " - 1 FCN layer\n",
        " - 1 Dropout (0.25) layer\n",
        " - 1 Output layer\n",
        "\n"
      ],
      "metadata": {
        "id": "Ti5jkf6Gdxej"
      }
    },
    {
      "cell_type": "code",
      "execution_count": 1,
      "metadata": {
        "id": "VTJDuwFUXtKA"
      },
      "outputs": [],
      "source": [
        "import numpy as np\n",
        "import matplotlib.pyplot as plt\n",
        "import tensorflow as tf\n",
        "seed = 2022\n",
        "np.random.seed(seed)\n",
        "tf.random.set_seed(seed)"
      ]
    },
    {
      "cell_type": "markdown",
      "source": [
        " - 데이터 전처리"
      ],
      "metadata": {
        "id": "DZKIhUDhfNjd"
      }
    },
    {
      "cell_type": "code",
      "source": [
        "from tensorflow.keras.datasets import mnist\n",
        "(X_train, y_train), (X_test,y_test) = mnist.load_data()\n",
        "X_train.shape, y_train.shape, X_test.shape, y_test.shape"
      ],
      "metadata": {
        "colab": {
          "base_uri": "https://localhost:8080/"
        },
        "id": "xSv8FRI7ePfi",
        "outputId": "09ab1b61-4ed0-4217-dca3-8b146bb315f8"
      },
      "execution_count": 2,
      "outputs": [
        {
          "output_type": "stream",
          "name": "stdout",
          "text": [
            "Downloading data from https://storage.googleapis.com/tensorflow/tf-keras-datasets/mnist.npz\n",
            "11493376/11490434 [==============================] - 0s 0us/step\n",
            "11501568/11490434 [==============================] - 0s 0us/step\n"
          ]
        },
        {
          "output_type": "execute_result",
          "data": {
            "text/plain": [
              "((60000, 28, 28), (60000,), (10000, 28, 28), (10000,))"
            ]
          },
          "metadata": {},
          "execution_count": 2
        }
      ]
    },
    {
      "cell_type": "code",
      "source": [
        "# X_train, X_test 정규화 (0~1)\n",
        "X_train = X_train.reshape(-1,28,28,1)/ 255.\n",
        "X_test = X_test.reshape(-1,28,28,1)/ 255.\n",
        "X_train.shape, X_test.shape"
      ],
      "metadata": {
        "colab": {
          "base_uri": "https://localhost:8080/"
        },
        "id": "DisZSCEmeoOM",
        "outputId": "d282a83e-bb8e-46d6-e1c7-fef781c7465a"
      },
      "execution_count": 3,
      "outputs": [
        {
          "output_type": "execute_result",
          "data": {
            "text/plain": [
              "((60000, 28, 28, 1), (10000, 28, 28, 1))"
            ]
          },
          "metadata": {},
          "execution_count": 3
        }
      ]
    },
    {
      "cell_type": "code",
      "source": [
        "# one hot encoding\n",
        "from tensorflow.keras.utils import to_categorical\n",
        "Y_train = to_categorical(y_train)\n",
        "Y_test = to_categorical(y_test)\n",
        "Y_train.shape, Y_test.shape"
      ],
      "metadata": {
        "colab": {
          "base_uri": "https://localhost:8080/"
        },
        "id": "Q6e2rkn9erOH",
        "outputId": "10ae2808-4455-4ada-c0f3-95b3f3ff504f"
      },
      "execution_count": 4,
      "outputs": [
        {
          "output_type": "execute_result",
          "data": {
            "text/plain": [
              "((60000, 10), (10000, 10))"
            ]
          },
          "metadata": {},
          "execution_count": 4
        }
      ]
    },
    {
      "cell_type": "markdown",
      "source": [
        " - 모델 정의 / 설정 / 학습 / 평가"
      ],
      "metadata": {
        "id": "E_FTs3sUfIbU"
      }
    },
    {
      "cell_type": "code",
      "source": [
        "from tensorflow.keras.models import Sequential, load_model\n",
        "from tensorflow.keras.layers import Dense, Conv2D, Flatten, MaxPooling2D, Dropout\n",
        "from tensorflow.keras.callbacks import ModelCheckpoint, EarlyStopping"
      ],
      "metadata": {
        "id": "o63wBbmOfD9Y"
      },
      "execution_count": 5,
      "outputs": []
    },
    {
      "cell_type": "code",
      "source": [
        "model = Sequential([Conv2D(32, kernel_size=(3,3), input_shape=(28,28,1), activation='relu'),\n",
        "                    Conv2D(64, kernel_size=(3,3), activation='relu'),\n",
        "                    MaxPooling2D(), # MaxPooling2D (pool_size=(2,2))\n",
        "                    Dropout(0.25),\n",
        "                    Flatten(),Dense(512, activation='relu'),\n",
        "                    Dropout(0.5),\n",
        "                    Dense(10, activation='softmax')]) # output node\n",
        "\n",
        "model.summary()"
      ],
      "metadata": {
        "colab": {
          "base_uri": "https://localhost:8080/"
        },
        "id": "AAABsX-3ftNe",
        "outputId": "a576fc9b-b401-48bf-eb44-6f94ec81e2a6"
      },
      "execution_count": 6,
      "outputs": [
        {
          "output_type": "stream",
          "name": "stdout",
          "text": [
            "Model: \"sequential\"\n",
            "_________________________________________________________________\n",
            " Layer (type)                Output Shape              Param #   \n",
            "=================================================================\n",
            " conv2d (Conv2D)             (None, 26, 26, 32)        320       \n",
            "                                                                 \n",
            " conv2d_1 (Conv2D)           (None, 24, 24, 64)        18496     \n",
            "                                                                 \n",
            " max_pooling2d (MaxPooling2D  (None, 12, 12, 64)       0         \n",
            " )                                                               \n",
            "                                                                 \n",
            " dropout (Dropout)           (None, 12, 12, 64)        0         \n",
            "                                                                 \n",
            " flatten (Flatten)           (None, 9216)              0         \n",
            "                                                                 \n",
            " dense (Dense)               (None, 512)               4719104   \n",
            "                                                                 \n",
            " dropout_1 (Dropout)         (None, 512)               0         \n",
            "                                                                 \n",
            " dense_1 (Dense)             (None, 10)                5130      \n",
            "                                                                 \n",
            "=================================================================\n",
            "Total params: 4,743,050\n",
            "Trainable params: 4,743,050\n",
            "Non-trainable params: 0\n",
            "_________________________________________________________________\n"
          ]
        }
      ]
    },
    {
      "cell_type": "code",
      "source": [
        "model.compile('adam', 'categorical_crossentropy', metrics=['accuracy'])"
      ],
      "metadata": {
        "id": "p5zcUqZohnGC"
      },
      "execution_count": 7,
      "outputs": []
    },
    {
      "cell_type": "code",
      "source": [
        "model_path = 'best_mnist_cnn_v3.h5'\n",
        "mc = ModelCheckpoint(model_path, save_best_only=True, verbose=1)\n",
        "es = EarlyStopping(patience=10)"
      ],
      "metadata": {
        "id": "o9vgjeOci9FE"
      },
      "execution_count": 8,
      "outputs": []
    },
    {
      "cell_type": "code",
      "source": [
        "hist = model.fit(X_train, Y_train, validation_split=0.2, epochs = 100, batch_size=200, callbacks=[mc,es])"
      ],
      "metadata": {
        "colab": {
          "base_uri": "https://localhost:8080/"
        },
        "id": "6qUd___illTW",
        "outputId": "ad7dc782-23c3-40c7-f7f9-a7f3c7c3e1c3"
      },
      "execution_count": 9,
      "outputs": [
        {
          "output_type": "stream",
          "name": "stdout",
          "text": [
            "Epoch 1/100\n",
            "240/240 [==============================] - ETA: 0s - loss: 0.2197 - accuracy: 0.9317\n",
            "Epoch 1: val_loss improved from inf to 0.05656, saving model to best_mnist_cnn_v3.h5\n",
            "240/240 [==============================] - 15s 15ms/step - loss: 0.2197 - accuracy: 0.9317 - val_loss: 0.0566 - val_accuracy: 0.9834\n",
            "Epoch 2/100\n",
            "236/240 [============================>.] - ETA: 0s - loss: 0.0627 - accuracy: 0.9806\n",
            "Epoch 2: val_loss improved from 0.05656 to 0.05122, saving model to best_mnist_cnn_v3.h5\n",
            "240/240 [==============================] - 3s 14ms/step - loss: 0.0623 - accuracy: 0.9807 - val_loss: 0.0512 - val_accuracy: 0.9859\n",
            "Epoch 3/100\n",
            "239/240 [============================>.] - ETA: 0s - loss: 0.0431 - accuracy: 0.9867\n",
            "Epoch 3: val_loss improved from 0.05122 to 0.03934, saving model to best_mnist_cnn_v3.h5\n",
            "240/240 [==============================] - 3s 14ms/step - loss: 0.0430 - accuracy: 0.9868 - val_loss: 0.0393 - val_accuracy: 0.9889\n",
            "Epoch 4/100\n",
            "238/240 [============================>.] - ETA: 0s - loss: 0.0341 - accuracy: 0.9890\n",
            "Epoch 4: val_loss improved from 0.03934 to 0.03826, saving model to best_mnist_cnn_v3.h5\n",
            "240/240 [==============================] - 3s 14ms/step - loss: 0.0340 - accuracy: 0.9890 - val_loss: 0.0383 - val_accuracy: 0.9895\n",
            "Epoch 5/100\n",
            "238/240 [============================>.] - ETA: 0s - loss: 0.0272 - accuracy: 0.9915\n",
            "Epoch 5: val_loss did not improve from 0.03826\n",
            "240/240 [==============================] - 3s 15ms/step - loss: 0.0271 - accuracy: 0.9915 - val_loss: 0.0404 - val_accuracy: 0.9890\n",
            "Epoch 6/100\n",
            "239/240 [============================>.] - ETA: 0s - loss: 0.0226 - accuracy: 0.9928\n",
            "Epoch 6: val_loss improved from 0.03826 to 0.03408, saving model to best_mnist_cnn_v3.h5\n",
            "240/240 [==============================] - 4s 15ms/step - loss: 0.0226 - accuracy: 0.9928 - val_loss: 0.0341 - val_accuracy: 0.9904\n",
            "Epoch 7/100\n",
            "238/240 [============================>.] - ETA: 0s - loss: 0.0193 - accuracy: 0.9939\n",
            "Epoch 7: val_loss improved from 0.03408 to 0.03299, saving model to best_mnist_cnn_v3.h5\n",
            "240/240 [==============================] - 3s 14ms/step - loss: 0.0192 - accuracy: 0.9939 - val_loss: 0.0330 - val_accuracy: 0.9909\n",
            "Epoch 8/100\n",
            "237/240 [============================>.] - ETA: 0s - loss: 0.0175 - accuracy: 0.9938\n",
            "Epoch 8: val_loss did not improve from 0.03299\n",
            "240/240 [==============================] - 3s 14ms/step - loss: 0.0175 - accuracy: 0.9938 - val_loss: 0.0344 - val_accuracy: 0.9910\n",
            "Epoch 9/100\n",
            "239/240 [============================>.] - ETA: 0s - loss: 0.0158 - accuracy: 0.9947\n",
            "Epoch 9: val_loss did not improve from 0.03299\n",
            "240/240 [==============================] - 3s 13ms/step - loss: 0.0157 - accuracy: 0.9947 - val_loss: 0.0345 - val_accuracy: 0.9902\n",
            "Epoch 10/100\n",
            "237/240 [============================>.] - ETA: 0s - loss: 0.0134 - accuracy: 0.9955\n",
            "Epoch 10: val_loss did not improve from 0.03299\n",
            "240/240 [==============================] - 3s 13ms/step - loss: 0.0134 - accuracy: 0.9955 - val_loss: 0.0384 - val_accuracy: 0.9900\n",
            "Epoch 11/100\n",
            "239/240 [============================>.] - ETA: 0s - loss: 0.0123 - accuracy: 0.9958\n",
            "Epoch 11: val_loss did not improve from 0.03299\n",
            "240/240 [==============================] - 3s 14ms/step - loss: 0.0122 - accuracy: 0.9958 - val_loss: 0.0423 - val_accuracy: 0.9893\n",
            "Epoch 12/100\n",
            "237/240 [============================>.] - ETA: 0s - loss: 0.0112 - accuracy: 0.9962\n",
            "Epoch 12: val_loss did not improve from 0.03299\n",
            "240/240 [==============================] - 3s 14ms/step - loss: 0.0112 - accuracy: 0.9962 - val_loss: 0.0381 - val_accuracy: 0.9903\n",
            "Epoch 13/100\n",
            "239/240 [============================>.] - ETA: 0s - loss: 0.0103 - accuracy: 0.9963\n",
            "Epoch 13: val_loss did not improve from 0.03299\n",
            "240/240 [==============================] - 3s 14ms/step - loss: 0.0104 - accuracy: 0.9962 - val_loss: 0.0381 - val_accuracy: 0.9905\n",
            "Epoch 14/100\n",
            "236/240 [============================>.] - ETA: 0s - loss: 0.0104 - accuracy: 0.9964\n",
            "Epoch 14: val_loss did not improve from 0.03299\n",
            "240/240 [==============================] - 3s 14ms/step - loss: 0.0103 - accuracy: 0.9965 - val_loss: 0.0373 - val_accuracy: 0.9918\n",
            "Epoch 15/100\n",
            "238/240 [============================>.] - ETA: 0s - loss: 0.0098 - accuracy: 0.9966\n",
            "Epoch 15: val_loss did not improve from 0.03299\n",
            "240/240 [==============================] - 3s 14ms/step - loss: 0.0097 - accuracy: 0.9967 - val_loss: 0.0405 - val_accuracy: 0.9908\n",
            "Epoch 16/100\n",
            "239/240 [============================>.] - ETA: 0s - loss: 0.0081 - accuracy: 0.9974\n",
            "Epoch 16: val_loss did not improve from 0.03299\n",
            "240/240 [==============================] - 3s 14ms/step - loss: 0.0081 - accuracy: 0.9974 - val_loss: 0.0381 - val_accuracy: 0.9913\n",
            "Epoch 17/100\n",
            "238/240 [============================>.] - ETA: 0s - loss: 0.0075 - accuracy: 0.9974\n",
            "Epoch 17: val_loss did not improve from 0.03299\n",
            "240/240 [==============================] - 3s 14ms/step - loss: 0.0074 - accuracy: 0.9974 - val_loss: 0.0376 - val_accuracy: 0.9918\n"
          ]
        }
      ]
    },
    {
      "cell_type": "code",
      "source": [
        "best_model = load_model(model_path)\n",
        "best_model.evaluate(X_test, Y_test)"
      ],
      "metadata": {
        "colab": {
          "base_uri": "https://localhost:8080/"
        },
        "id": "SNUt7jW0l4JU",
        "outputId": "5c894e2f-750d-4031-93f7-3111500c0f45"
      },
      "execution_count": 10,
      "outputs": [
        {
          "output_type": "stream",
          "name": "stdout",
          "text": [
            "313/313 [==============================] - 1s 3ms/step - loss: 0.0254 - accuracy: 0.9921\n"
          ]
        },
        {
          "output_type": "execute_result",
          "data": {
            "text/plain": [
              "[0.025380734354257584, 0.9921000003814697]"
            ]
          },
          "metadata": {},
          "execution_count": 10
        }
      ]
    },
    {
      "cell_type": "markdown",
      "source": [
        " - 학습과정 시각화"
      ],
      "metadata": {
        "id": "Xl3WyUr0nPiT"
      }
    },
    {
      "cell_type": "code",
      "source": [
        "y_acc = hist.history['accuracy']\n",
        "y_vloss = hist.history['val_loss']\n",
        "xs = np.arange(1, len(y_acc)+1)"
      ],
      "metadata": {
        "id": "knvZ9AX0nR22"
      },
      "execution_count": 11,
      "outputs": []
    },
    {
      "cell_type": "code",
      "source": [
        "plt.figure(figsize=(12,8))\n",
        "plt.plot(xs, y_acc, label='train accuracy')\n",
        "plt.plot(xs, y_vloss, label='validation loss')\n",
        "plt.legend(), plt.grid()\n",
        "plt.xlabel('Epoch')\n",
        "plt.title(\"MNIST CNN v3\")\n",
        "plt.show()"
      ],
      "metadata": {
        "colab": {
          "base_uri": "https://localhost:8080/",
          "height": 513
        },
        "id": "ZP6wjW6-nk0S",
        "outputId": "4d4c19e3-526d-450b-e825-a2d32a02b356"
      },
      "execution_count": 12,
      "outputs": [
        {
          "output_type": "display_data",
          "data": {
            "text/plain": [
              "<Figure size 864x576 with 1 Axes>"
            ],
            "image/png": "[encoded data removed]"
          },
          "metadata": {
            "needs_background": "light"
          }
        }
      ]
    }
  ]
}