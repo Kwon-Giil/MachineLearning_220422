{
  "nbformat": 4,
  "nbformat_minor": 0,
  "metadata": {
    "colab": {
      "name": "11_Fasion_MNIST_CNNv1_220524.ipynb",
      "provenance": [],
      "collapsed_sections": []
    },
    "kernelspec": {
      "name": "python3",
      "display_name": "Python 3"
    },
    "language_info": {
      "name": "python"
    },
    "accelerator": "GPU"
  },
  "cells": [
    {
      "cell_type": "markdown",
      "source": [
        "# Fashion MNIST CNN v1\n",
        " - 2 x Conv2D layers\n",
        " - 1 Maxpooling2D layer\n",
        " - 1 Dropout (0.25) layer \n",
        " - 1 FCN layer\n",
        " - 1 Dropout (0.25) layer\n",
        " - 1 Output layer\n",
        "\n"
      ],
      "metadata": {
        "id": "Ti5jkf6Gdxej"
      }
    },
    {
      "cell_type": "code",
      "execution_count": 1,
      "metadata": {
        "id": "VTJDuwFUXtKA"
      },
      "outputs": [],
      "source": [
        "import numpy as np\n",
        "import matplotlib.pyplot as plt\n",
        "import tensorflow as tf\n",
        "seed = 2022\n",
        "np.random.seed(seed)\n",
        "tf.random.set_seed(seed)"
      ]
    },
    {
      "cell_type": "markdown",
      "source": [
        " - 데이터 전처리"
      ],
      "metadata": {
        "id": "DZKIhUDhfNjd"
      }
    },
    {
      "cell_type": "code",
      "source": [
        "from tensorflow.keras.datasets import fashion_mnist\n",
        "(X_train, y_train), (X_test,y_test) = fashion_mnist.load_data()\n",
        "X_train.shape, y_train.shape, X_test.shape, y_test.shape"
      ],
      "metadata": {
        "colab": {
          "base_uri": "https://localhost:8080/"
        },
        "id": "xSv8FRI7ePfi",
        "outputId": "4f850bbe-fdd9-473f-8796-96282b36160c"
      },
      "execution_count": 2,
      "outputs": [
        {
          "output_type": "stream",
          "name": "stdout",
          "text": [
            "Downloading data from https://storage.googleapis.com/tensorflow/tf-keras-datasets/train-labels-idx1-ubyte.gz\n",
            "32768/29515 [=================================] - 0s 0us/step\n",
            "40960/29515 [=========================================] - 0s 0us/step\n",
            "Downloading data from https://storage.googleapis.com/tensorflow/tf-keras-datasets/train-images-idx3-ubyte.gz\n",
            "26427392/26421880 [==============================] - 0s 0us/step\n",
            "26435584/26421880 [==============================] - 0s 0us/step\n",
            "Downloading data from https://storage.googleapis.com/tensorflow/tf-keras-datasets/t10k-labels-idx1-ubyte.gz\n",
            "16384/5148 [===============================================================================================] - 0s 0us/step\n",
            "Downloading data from https://storage.googleapis.com/tensorflow/tf-keras-datasets/t10k-images-idx3-ubyte.gz\n",
            "4423680/4422102 [==============================] - 0s 0us/step\n",
            "4431872/4422102 [==============================] - 0s 0us/step\n"
          ]
        },
        {
          "output_type": "execute_result",
          "data": {
            "text/plain": [
              "((60000, 28, 28), (60000,), (10000, 28, 28), (10000,))"
            ]
          },
          "metadata": {},
          "execution_count": 2
        }
      ]
    },
    {
      "cell_type": "code",
      "source": [
        "plt.imshow(X_train[0], cmap = 'Greys');"
      ],
      "metadata": {
        "colab": {
          "base_uri": "https://localhost:8080/",
          "height": 265
        },
        "id": "zi6F_nafzaeA",
        "outputId": "a8be216e-faf2-409a-a63d-c00ad2b36d1e"
      },
      "execution_count": 4,
      "outputs": [
        {
          "output_type": "display_data",
          "data": {
            "text/plain": [
              "<Figure size 432x288 with 1 Axes>"
            ],
            "image/png": "[encoded data removed]"
          },
          "metadata": {
            "needs_background": "light"
          }
        }
      ]
    },
    {
      "cell_type": "code",
      "source": [
        "class_names = ['T-shirt/top', 'Trouser', 'Pullover', 'Dress', 'Coat',\n",
        "               'Sandal', 'Shirt', 'Sneaker', 'Bag', 'Ankle boot']"
      ],
      "metadata": {
        "id": "YA2d-n5PzrR9"
      },
      "execution_count": 5,
      "outputs": []
    },
    {
      "cell_type": "code",
      "source": [
        "plt.figure(figsize=(14,6))\n",
        "for i in range(1, 11):\n",
        "    plt.subplot(2,5, i)\n",
        "    plt.imshow(X_train[i], cmap='Greys')\n",
        "    plt.title(class_names[y_train[i]])\n",
        "    plt.xticks([]), plt.yticks([])\n",
        "plt.show()"
      ],
      "metadata": {
        "colab": {
          "base_uri": "https://localhost:8080/",
          "height": 354
        },
        "id": "OdIl1enwzthI",
        "outputId": "e085b7a4-7cec-4c5d-ec3d-a4dc48357812"
      },
      "execution_count": 6,
      "outputs": [
        {
          "output_type": "display_data",
          "data": {
            "text/plain": [
              "<Figure size 1008x432 with 10 Axes>"
            ],
            "image/png": "[encoded data removed]"
          },
          "metadata": {}
        }
      ]
    },
    {
      "cell_type": "code",
      "source": [
        "# X_train, X_test 정규화 (0~1)\n",
        "X_train = X_train.reshape(-1,28,28,1)/ 255.\n",
        "X_test = X_test.reshape(-1,28,28,1)/ 255.\n",
        "X_train.shape, X_test.shape"
      ],
      "metadata": {
        "colab": {
          "base_uri": "https://localhost:8080/"
        },
        "id": "DisZSCEmeoOM",
        "outputId": "3ec545c8-7ea5-4f87-d53c-8be8c5d957c3"
      },
      "execution_count": 7,
      "outputs": [
        {
          "output_type": "execute_result",
          "data": {
            "text/plain": [
              "((60000, 28, 28, 1), (10000, 28, 28, 1))"
            ]
          },
          "metadata": {},
          "execution_count": 7
        }
      ]
    },
    {
      "cell_type": "code",
      "source": [
        "# one hot encoding\n",
        "from tensorflow.keras.utils import to_categorical\n",
        "Y_train = to_categorical(y_train)\n",
        "Y_test = to_categorical(y_test)\n",
        "Y_train.shape, Y_test.shape"
      ],
      "metadata": {
        "colab": {
          "base_uri": "https://localhost:8080/"
        },
        "id": "Q6e2rkn9erOH",
        "outputId": "4ac1ac71-11a1-49af-ae98-ce541c06ce30"
      },
      "execution_count": 8,
      "outputs": [
        {
          "output_type": "execute_result",
          "data": {
            "text/plain": [
              "((60000, 10), (10000, 10))"
            ]
          },
          "metadata": {},
          "execution_count": 8
        }
      ]
    },
    {
      "cell_type": "markdown",
      "source": [
        " - 모델 정의 / 설정 / 학습 / 평가"
      ],
      "metadata": {
        "id": "E_FTs3sUfIbU"
      }
    },
    {
      "cell_type": "code",
      "source": [
        "from tensorflow.keras.models import Sequential, load_model\n",
        "from tensorflow.keras.layers import Dense, Conv2D, Flatten, MaxPooling2D, Dropout\n",
        "from tensorflow.keras.callbacks import ModelCheckpoint, EarlyStopping"
      ],
      "metadata": {
        "id": "o63wBbmOfD9Y"
      },
      "execution_count": 9,
      "outputs": []
    },
    {
      "cell_type": "code",
      "source": [
        "model = Sequential([Conv2D(32, kernel_size=(3,3), input_shape=(28,28,1), activation='relu'),\n",
        "                    Conv2D(64, kernel_size=(3,3), activation='relu'),\n",
        "                    MaxPooling2D(), # MaxPooling2D (pool_size=(2,2))\n",
        "                    Dropout(0.25),\n",
        "                    Flatten(),Dense(512, activation='relu'),\n",
        "                    Dropout(0.5),\n",
        "                    Dense(10, activation='softmax')]) # output node\n",
        "\n",
        "model.summary()"
      ],
      "metadata": {
        "colab": {
          "base_uri": "https://localhost:8080/"
        },
        "id": "AAABsX-3ftNe",
        "outputId": "17dad622-68a1-41c4-bbdb-048bff7dbbb1"
      },
      "execution_count": 10,
      "outputs": [
        {
          "output_type": "stream",
          "name": "stdout",
          "text": [
            "Model: \"sequential\"\n",
            "_________________________________________________________________\n",
            " Layer (type)                Output Shape              Param #   \n",
            "=================================================================\n",
            " conv2d (Conv2D)             (None, 26, 26, 32)        320       \n",
            "                                                                 \n",
            " conv2d_1 (Conv2D)           (None, 24, 24, 64)        18496     \n",
            "                                                                 \n",
            " max_pooling2d (MaxPooling2D  (None, 12, 12, 64)       0         \n",
            " )                                                               \n",
            "                                                                 \n",
            " dropout (Dropout)           (None, 12, 12, 64)        0         \n",
            "                                                                 \n",
            " flatten (Flatten)           (None, 9216)              0         \n",
            "                                                                 \n",
            " dense (Dense)               (None, 512)               4719104   \n",
            "                                                                 \n",
            " dropout_1 (Dropout)         (None, 512)               0         \n",
            "                                                                 \n",
            " dense_1 (Dense)             (None, 10)                5130      \n",
            "                                                                 \n",
            "=================================================================\n",
            "Total params: 4,743,050\n",
            "Trainable params: 4,743,050\n",
            "Non-trainable params: 0\n",
            "_________________________________________________________________\n"
          ]
        }
      ]
    },
    {
      "cell_type": "code",
      "source": [
        "model.compile('adam', 'categorical_crossentropy', metrics=['accuracy'])"
      ],
      "metadata": {
        "id": "p5zcUqZohnGC"
      },
      "execution_count": 11,
      "outputs": []
    },
    {
      "cell_type": "code",
      "source": [
        "model_path = 'best_fashion_mnist_cnn_v1.h5'\n",
        "mc = ModelCheckpoint(model_path, save_best_only=True, verbose=1)\n",
        "es = EarlyStopping(patience=10)"
      ],
      "metadata": {
        "id": "o9vgjeOci9FE"
      },
      "execution_count": 12,
      "outputs": []
    },
    {
      "cell_type": "code",
      "source": [
        "hist = model.fit(X_train, Y_train, validation_split=0.2, epochs = 100, batch_size=200, callbacks=[mc,es])"
      ],
      "metadata": {
        "colab": {
          "base_uri": "https://localhost:8080/"
        },
        "id": "6qUd___illTW",
        "outputId": "fdf36c91-42e0-45de-b395-df4215ed9706"
      },
      "execution_count": 13,
      "outputs": [
        {
          "output_type": "stream",
          "name": "stdout",
          "text": [
            "Epoch 1/100\n",
            "240/240 [==============================] - ETA: 0s - loss: 0.5020 - accuracy: 0.8215\n",
            "Epoch 1: val_loss improved from inf to 0.32605, saving model to best_fashion_mnist_cnn_v1.h5\n",
            "240/240 [==============================] - 14s 15ms/step - loss: 0.5020 - accuracy: 0.8215 - val_loss: 0.3260 - val_accuracy: 0.8808\n",
            "Epoch 2/100\n",
            "238/240 [============================>.] - ETA: 0s - loss: 0.3136 - accuracy: 0.8874\n",
            "Epoch 2: val_loss improved from 0.32605 to 0.27528, saving model to best_fashion_mnist_cnn_v1.h5\n",
            "240/240 [==============================] - 3s 14ms/step - loss: 0.3134 - accuracy: 0.8874 - val_loss: 0.2753 - val_accuracy: 0.9005\n",
            "Epoch 3/100\n",
            "237/240 [============================>.] - ETA: 0s - loss: 0.2617 - accuracy: 0.9056\n",
            "Epoch 3: val_loss improved from 0.27528 to 0.23935, saving model to best_fashion_mnist_cnn_v1.h5\n",
            "240/240 [==============================] - 3s 14ms/step - loss: 0.2619 - accuracy: 0.9054 - val_loss: 0.2393 - val_accuracy: 0.9095\n",
            "Epoch 4/100\n",
            "239/240 [============================>.] - ETA: 0s - loss: 0.2280 - accuracy: 0.9159\n",
            "Epoch 4: val_loss improved from 0.23935 to 0.23403, saving model to best_fashion_mnist_cnn_v1.h5\n",
            "240/240 [==============================] - 3s 14ms/step - loss: 0.2279 - accuracy: 0.9159 - val_loss: 0.2340 - val_accuracy: 0.9133\n",
            "Epoch 5/100\n",
            "240/240 [==============================] - ETA: 0s - loss: 0.2044 - accuracy: 0.9244\n",
            "Epoch 5: val_loss improved from 0.23403 to 0.22713, saving model to best_fashion_mnist_cnn_v1.h5\n",
            "240/240 [==============================] - 3s 14ms/step - loss: 0.2044 - accuracy: 0.9244 - val_loss: 0.2271 - val_accuracy: 0.9161\n",
            "Epoch 6/100\n",
            "237/240 [============================>.] - ETA: 0s - loss: 0.1821 - accuracy: 0.9334\n",
            "Epoch 6: val_loss improved from 0.22713 to 0.21754, saving model to best_fashion_mnist_cnn_v1.h5\n",
            "240/240 [==============================] - 3s 14ms/step - loss: 0.1824 - accuracy: 0.9333 - val_loss: 0.2175 - val_accuracy: 0.9197\n",
            "Epoch 7/100\n",
            "237/240 [============================>.] - ETA: 0s - loss: 0.1588 - accuracy: 0.9410\n",
            "Epoch 7: val_loss improved from 0.21754 to 0.20348, saving model to best_fashion_mnist_cnn_v1.h5\n",
            "240/240 [==============================] - 3s 14ms/step - loss: 0.1590 - accuracy: 0.9409 - val_loss: 0.2035 - val_accuracy: 0.9272\n",
            "Epoch 8/100\n",
            "240/240 [==============================] - ETA: 0s - loss: 0.1420 - accuracy: 0.9480\n",
            "Epoch 8: val_loss did not improve from 0.20348\n",
            "240/240 [==============================] - 3s 14ms/step - loss: 0.1420 - accuracy: 0.9480 - val_loss: 0.2038 - val_accuracy: 0.9265\n",
            "Epoch 9/100\n",
            "239/240 [============================>.] - ETA: 0s - loss: 0.1289 - accuracy: 0.9528\n",
            "Epoch 9: val_loss improved from 0.20348 to 0.20083, saving model to best_fashion_mnist_cnn_v1.h5\n",
            "240/240 [==============================] - 3s 14ms/step - loss: 0.1289 - accuracy: 0.9529 - val_loss: 0.2008 - val_accuracy: 0.9298\n",
            "Epoch 10/100\n",
            "237/240 [============================>.] - ETA: 0s - loss: 0.1106 - accuracy: 0.9591\n",
            "Epoch 10: val_loss did not improve from 0.20083\n",
            "240/240 [==============================] - 3s 14ms/step - loss: 0.1106 - accuracy: 0.9591 - val_loss: 0.2223 - val_accuracy: 0.9237\n",
            "Epoch 11/100\n",
            "237/240 [============================>.] - ETA: 0s - loss: 0.0983 - accuracy: 0.9639\n",
            "Epoch 11: val_loss did not improve from 0.20083\n",
            "240/240 [==============================] - 3s 14ms/step - loss: 0.0986 - accuracy: 0.9637 - val_loss: 0.2100 - val_accuracy: 0.9305\n",
            "Epoch 12/100\n",
            "238/240 [============================>.] - ETA: 0s - loss: 0.0899 - accuracy: 0.9671\n",
            "Epoch 12: val_loss did not improve from 0.20083\n",
            "240/240 [==============================] - 3s 13ms/step - loss: 0.0900 - accuracy: 0.9671 - val_loss: 0.2155 - val_accuracy: 0.9294\n",
            "Epoch 13/100\n",
            "238/240 [============================>.] - ETA: 0s - loss: 0.0797 - accuracy: 0.9708\n",
            "Epoch 13: val_loss did not improve from 0.20083\n",
            "240/240 [==============================] - 3s 13ms/step - loss: 0.0799 - accuracy: 0.9707 - val_loss: 0.2207 - val_accuracy: 0.9319\n",
            "Epoch 14/100\n",
            "238/240 [============================>.] - ETA: 0s - loss: 0.0734 - accuracy: 0.9731\n",
            "Epoch 14: val_loss did not improve from 0.20083\n",
            "240/240 [==============================] - 3s 14ms/step - loss: 0.0734 - accuracy: 0.9731 - val_loss: 0.2289 - val_accuracy: 0.9316\n",
            "Epoch 15/100\n",
            "240/240 [==============================] - ETA: 0s - loss: 0.0689 - accuracy: 0.9749\n",
            "Epoch 15: val_loss did not improve from 0.20083\n",
            "240/240 [==============================] - 3s 14ms/step - loss: 0.0689 - accuracy: 0.9749 - val_loss: 0.2286 - val_accuracy: 0.9297\n",
            "Epoch 16/100\n",
            "240/240 [==============================] - ETA: 0s - loss: 0.0603 - accuracy: 0.9781\n",
            "Epoch 16: val_loss did not improve from 0.20083\n",
            "240/240 [==============================] - 3s 14ms/step - loss: 0.0603 - accuracy: 0.9781 - val_loss: 0.2263 - val_accuracy: 0.9338\n",
            "Epoch 17/100\n",
            "237/240 [============================>.] - ETA: 0s - loss: 0.0552 - accuracy: 0.9801\n",
            "Epoch 17: val_loss did not improve from 0.20083\n",
            "240/240 [==============================] - 3s 13ms/step - loss: 0.0550 - accuracy: 0.9802 - val_loss: 0.2448 - val_accuracy: 0.9326\n",
            "Epoch 18/100\n",
            "240/240 [==============================] - ETA: 0s - loss: 0.0517 - accuracy: 0.9811\n",
            "Epoch 18: val_loss did not improve from 0.20083\n",
            "240/240 [==============================] - 3s 13ms/step - loss: 0.0517 - accuracy: 0.9811 - val_loss: 0.2624 - val_accuracy: 0.9311\n",
            "Epoch 19/100\n",
            "238/240 [============================>.] - ETA: 0s - loss: 0.0461 - accuracy: 0.9825\n",
            "Epoch 19: val_loss did not improve from 0.20083\n",
            "240/240 [==============================] - 3s 14ms/step - loss: 0.0460 - accuracy: 0.9826 - val_loss: 0.2707 - val_accuracy: 0.9296\n"
          ]
        }
      ]
    },
    {
      "cell_type": "code",
      "source": [
        "best_model = load_model(model_path)\n",
        "best_model.evaluate(X_test, Y_test)"
      ],
      "metadata": {
        "colab": {
          "base_uri": "https://localhost:8080/"
        },
        "id": "SNUt7jW0l4JU",
        "outputId": "816cce22-c0a1-44f1-f6cb-2f9500c76c7b"
      },
      "execution_count": 14,
      "outputs": [
        {
          "output_type": "stream",
          "name": "stdout",
          "text": [
            "313/313 [==============================] - 1s 3ms/step - loss: 0.2165 - accuracy: 0.9254\n"
          ]
        },
        {
          "output_type": "execute_result",
          "data": {
            "text/plain": [
              "[0.2164941430091858, 0.9254000186920166]"
            ]
          },
          "metadata": {},
          "execution_count": 14
        }
      ]
    },
    {
      "cell_type": "markdown",
      "source": [
        " - 학습과정 시각화"
      ],
      "metadata": {
        "id": "Xl3WyUr0nPiT"
      }
    },
    {
      "cell_type": "code",
      "source": [
        "y_acc = hist.history['accuracy']\n",
        "y_vloss = hist.history['val_loss']\n",
        "xs = np.arange(1, len(y_acc)+1)"
      ],
      "metadata": {
        "id": "knvZ9AX0nR22"
      },
      "execution_count": 15,
      "outputs": []
    },
    {
      "cell_type": "code",
      "source": [
        "plt.figure(figsize=(12,8))\n",
        "plt.plot(xs, y_acc, label='train accuracy')\n",
        "plt.plot(xs, y_vloss, label='validation loss')\n",
        "plt.legend(), plt.grid()\n",
        "plt.xlabel('Epoch')\n",
        "plt.title(\"Fashion MNIST CNN v1\")\n",
        "plt.show()"
      ],
      "metadata": {
        "colab": {
          "base_uri": "https://localhost:8080/",
          "height": 513
        },
        "id": "ZP6wjW6-nk0S",
        "outputId": "808f414b-4fdb-4573-b354-c17046889bb2"
      },
      "execution_count": 17,
      "outputs": [
        {
          "output_type": "display_data",
          "data": {
            "text/plain": [
              "<Figure size 864x576 with 1 Axes>"
            ],
            "image/png": "[encoded data removed]"
          },
          "metadata": {
            "needs_background": "light"
          }
        }
      ]
    },
    {
      "cell_type": "code",
      "source": [
        ""
      ],
      "metadata": {
        "id": "T3UoplLN1dPg"
      },
      "execution_count": null,
      "outputs": []
    }
  ]
}