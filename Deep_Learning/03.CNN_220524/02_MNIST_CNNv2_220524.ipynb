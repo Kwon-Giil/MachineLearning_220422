{
  "nbformat": 4,
  "nbformat_minor": 0,
  "metadata": {
    "colab": {
      "name": "02_MNIST_CNNv2_220524.ipynb",
      "provenance": [],
      "collapsed_sections": []
    },
    "kernelspec": {
      "name": "python3",
      "display_name": "Python 3"
    },
    "language_info": {
      "name": "python"
    },
    "accelerator": "GPU"
  },
  "cells": [
    {
      "cell_type": "markdown",
      "source": [
        "# MNIST 손글씨 CNN v2\n",
        " - 2 x Conv2D layers\n",
        " - 1 Maxpooling2D layer \n",
        " - 1 FCN layer\n",
        " - 1 Output layer\n",
        "\n"
      ],
      "metadata": {
        "id": "Ti5jkf6Gdxej"
      }
    },
    {
      "cell_type": "code",
      "execution_count": 4,
      "metadata": {
        "id": "VTJDuwFUXtKA"
      },
      "outputs": [],
      "source": [
        "import numpy as np\n",
        "import matplotlib.pyplot as plt\n",
        "import tensorflow as tf\n",
        "seed = 2022\n",
        "np.random.seed(seed)\n",
        "tf.random.set_seed(seed)"
      ]
    },
    {
      "cell_type": "markdown",
      "source": [
        " - 데이터 전처리"
      ],
      "metadata": {
        "id": "DZKIhUDhfNjd"
      }
    },
    {
      "cell_type": "code",
      "source": [
        "from tensorflow.keras.datasets import mnist\n",
        "(X_train, y_train), (X_test,y_test) = mnist.load_data()\n",
        "X_train.shape, y_train.shape, X_test.shape, y_test.shape"
      ],
      "metadata": {
        "colab": {
          "base_uri": "https://localhost:8080/"
        },
        "id": "xSv8FRI7ePfi",
        "outputId": "7d03e97f-42bc-4cc3-b545-31ac9aa8feb7"
      },
      "execution_count": 5,
      "outputs": [
        {
          "output_type": "execute_result",
          "data": {
            "text/plain": [
              "((60000, 28, 28), (60000,), (10000, 28, 28), (10000,))"
            ]
          },
          "metadata": {},
          "execution_count": 5
        }
      ]
    },
    {
      "cell_type": "code",
      "source": [
        "# X_train, X_test 정규화 (0~1)\n",
        "X_train = X_train.reshape(-1,28,28,1)/ 255.\n",
        "X_test = X_test.reshape(-1,28,28,1)/ 255.\n",
        "X_train.shape, X_test.shape"
      ],
      "metadata": {
        "colab": {
          "base_uri": "https://localhost:8080/"
        },
        "id": "DisZSCEmeoOM",
        "outputId": "aaf79ba0-7b7c-4078-b3fd-2cd35e50ff54"
      },
      "execution_count": 6,
      "outputs": [
        {
          "output_type": "execute_result",
          "data": {
            "text/plain": [
              "((60000, 28, 28, 1), (10000, 28, 28, 1))"
            ]
          },
          "metadata": {},
          "execution_count": 6
        }
      ]
    },
    {
      "cell_type": "code",
      "source": [
        "# one hot encoding\n",
        "from tensorflow.keras.utils import to_categorical\n",
        "Y_train = to_categorical(y_train)\n",
        "Y_test = to_categorical(y_test)\n",
        "Y_train.shape, Y_test.shape"
      ],
      "metadata": {
        "colab": {
          "base_uri": "https://localhost:8080/"
        },
        "id": "Q6e2rkn9erOH",
        "outputId": "08618c6a-b76d-476d-e9b9-433a9508cbdf"
      },
      "execution_count": 7,
      "outputs": [
        {
          "output_type": "execute_result",
          "data": {
            "text/plain": [
              "((60000, 10), (10000, 10))"
            ]
          },
          "metadata": {},
          "execution_count": 7
        }
      ]
    },
    {
      "cell_type": "markdown",
      "source": [
        " - 모델 정의 / 설정 / 학습 / 평가"
      ],
      "metadata": {
        "id": "E_FTs3sUfIbU"
      }
    },
    {
      "cell_type": "code",
      "source": [
        "from tensorflow.keras.models import Sequential, load_model\n",
        "from tensorflow.keras.layers import Dense, Conv2D, Flatten, MaxPooling2D\n",
        "from tensorflow.keras.callbacks import ModelCheckpoint, EarlyStopping"
      ],
      "metadata": {
        "id": "o63wBbmOfD9Y"
      },
      "execution_count": 8,
      "outputs": []
    },
    {
      "cell_type": "code",
      "source": [
        "model = Sequential([Conv2D(32, kernel_size=(3,3), input_shape=(28,28,1), activation='relu'),\n",
        "                    Conv2D(64, kernel_size=(3,3), activation='relu'),\n",
        "                    MaxPooling2D(), # MaxPooling2D (pool_size=(2,2))\n",
        "                    Flatten(),Dense(512, activation='relu'),\n",
        "                    Dense(10, activation='softmax')]) # output node\n",
        "\n",
        "model.summary()"
      ],
      "metadata": {
        "colab": {
          "base_uri": "https://localhost:8080/"
        },
        "id": "AAABsX-3ftNe",
        "outputId": "c5a62a9f-3bc5-4b3e-a83f-c171eede8ae8"
      },
      "execution_count": 9,
      "outputs": [
        {
          "output_type": "stream",
          "name": "stdout",
          "text": [
            "Model: \"sequential\"\n",
            "_________________________________________________________________\n",
            " Layer (type)                Output Shape              Param #   \n",
            "=================================================================\n",
            " conv2d (Conv2D)             (None, 26, 26, 32)        320       \n",
            "                                                                 \n",
            " conv2d_1 (Conv2D)           (None, 24, 24, 64)        18496     \n",
            "                                                                 \n",
            " max_pooling2d (MaxPooling2D  (None, 12, 12, 64)       0         \n",
            " )                                                               \n",
            "                                                                 \n",
            " flatten (Flatten)           (None, 9216)              0         \n",
            "                                                                 \n",
            " dense (Dense)               (None, 512)               4719104   \n",
            "                                                                 \n",
            " dense_1 (Dense)             (None, 10)                5130      \n",
            "                                                                 \n",
            "=================================================================\n",
            "Total params: 4,743,050\n",
            "Trainable params: 4,743,050\n",
            "Non-trainable params: 0\n",
            "_________________________________________________________________\n"
          ]
        }
      ]
    },
    {
      "cell_type": "code",
      "source": [
        "model.compile('adam', 'categorical_crossentropy', metrics=['accuracy'])"
      ],
      "metadata": {
        "id": "p5zcUqZohnGC"
      },
      "execution_count": 10,
      "outputs": []
    },
    {
      "cell_type": "code",
      "source": [
        "model_path = 'best_mnist_cnn_v2.h5'\n",
        "mc = ModelCheckpoint(model_path, save_best_only=True, verbose=1)\n",
        "es = EarlyStopping(patience=10)"
      ],
      "metadata": {
        "id": "o9vgjeOci9FE"
      },
      "execution_count": 11,
      "outputs": []
    },
    {
      "cell_type": "code",
      "source": [
        "hist = model.fit(X_train, Y_train, validation_split=0.2, epochs = 100, batch_size=200, callbacks=[mc,es])"
      ],
      "metadata": {
        "colab": {
          "base_uri": "https://localhost:8080/"
        },
        "id": "6qUd___illTW",
        "outputId": "a38cdd56-352d-4cb1-9132-ea73c20ea1ea"
      },
      "execution_count": 12,
      "outputs": [
        {
          "output_type": "stream",
          "name": "stdout",
          "text": [
            "Epoch 1/100\n",
            "236/240 [============================>.] - ETA: 0s - loss: 0.1848 - accuracy: 0.9433\n",
            "Epoch 1: val_loss improved from inf to 0.06049, saving model to best_mnist_cnn_v2.h5\n",
            "240/240 [==============================] - 14s 15ms/step - loss: 0.1828 - accuracy: 0.9439 - val_loss: 0.0605 - val_accuracy: 0.9816\n",
            "Epoch 2/100\n",
            "236/240 [============================>.] - ETA: 0s - loss: 0.0440 - accuracy: 0.9864\n",
            "Epoch 2: val_loss improved from 0.06049 to 0.05516, saving model to best_mnist_cnn_v2.h5\n",
            "240/240 [==============================] - 3s 14ms/step - loss: 0.0439 - accuracy: 0.9864 - val_loss: 0.0552 - val_accuracy: 0.9850\n",
            "Epoch 3/100\n",
            "239/240 [============================>.] - ETA: 0s - loss: 0.0258 - accuracy: 0.9917\n",
            "Epoch 3: val_loss improved from 0.05516 to 0.03801, saving model to best_mnist_cnn_v2.h5\n",
            "240/240 [==============================] - 3s 14ms/step - loss: 0.0257 - accuracy: 0.9917 - val_loss: 0.0380 - val_accuracy: 0.9887\n",
            "Epoch 4/100\n",
            "237/240 [============================>.] - ETA: 0s - loss: 0.0166 - accuracy: 0.9946\n",
            "Epoch 4: val_loss did not improve from 0.03801\n",
            "240/240 [==============================] - 3s 13ms/step - loss: 0.0166 - accuracy: 0.9946 - val_loss: 0.0449 - val_accuracy: 0.9867\n",
            "Epoch 5/100\n",
            "236/240 [============================>.] - ETA: 0s - loss: 0.0118 - accuracy: 0.9960\n",
            "Epoch 5: val_loss did not improve from 0.03801\n",
            "240/240 [==============================] - 3s 13ms/step - loss: 0.0118 - accuracy: 0.9960 - val_loss: 0.0500 - val_accuracy: 0.9867\n",
            "Epoch 6/100\n",
            "237/240 [============================>.] - ETA: 0s - loss: 0.0096 - accuracy: 0.9967\n",
            "Epoch 6: val_loss did not improve from 0.03801\n",
            "240/240 [==============================] - 3s 13ms/step - loss: 0.0095 - accuracy: 0.9967 - val_loss: 0.0452 - val_accuracy: 0.9881\n",
            "Epoch 7/100\n",
            "240/240 [==============================] - ETA: 0s - loss: 0.0065 - accuracy: 0.9978\n",
            "Epoch 7: val_loss did not improve from 0.03801\n",
            "240/240 [==============================] - 4s 15ms/step - loss: 0.0065 - accuracy: 0.9978 - val_loss: 0.0528 - val_accuracy: 0.9876\n",
            "Epoch 8/100\n",
            "240/240 [==============================] - ETA: 0s - loss: 0.0049 - accuracy: 0.9985\n",
            "Epoch 8: val_loss did not improve from 0.03801\n",
            "240/240 [==============================] - 3s 13ms/step - loss: 0.0049 - accuracy: 0.9985 - val_loss: 0.0432 - val_accuracy: 0.9904\n",
            "Epoch 9/100\n",
            "238/240 [============================>.] - ETA: 0s - loss: 0.0033 - accuracy: 0.9990\n",
            "Epoch 9: val_loss did not improve from 0.03801\n",
            "240/240 [==============================] - 3s 13ms/step - loss: 0.0033 - accuracy: 0.9990 - val_loss: 0.0524 - val_accuracy: 0.9888\n",
            "Epoch 10/100\n",
            "238/240 [============================>.] - ETA: 0s - loss: 0.0034 - accuracy: 0.9988\n",
            "Epoch 10: val_loss did not improve from 0.03801\n",
            "240/240 [==============================] - 3s 13ms/step - loss: 0.0034 - accuracy: 0.9988 - val_loss: 0.0507 - val_accuracy: 0.9898\n",
            "Epoch 11/100\n",
            "237/240 [============================>.] - ETA: 0s - loss: 0.0049 - accuracy: 0.9984\n",
            "Epoch 11: val_loss did not improve from 0.03801\n",
            "240/240 [==============================] - 3s 13ms/step - loss: 0.0049 - accuracy: 0.9985 - val_loss: 0.0480 - val_accuracy: 0.9898\n",
            "Epoch 12/100\n",
            "238/240 [============================>.] - ETA: 0s - loss: 0.0033 - accuracy: 0.9989\n",
            "Epoch 12: val_loss did not improve from 0.03801\n",
            "240/240 [==============================] - 3s 13ms/step - loss: 0.0033 - accuracy: 0.9989 - val_loss: 0.0522 - val_accuracy: 0.9898\n",
            "Epoch 13/100\n",
            "238/240 [============================>.] - ETA: 0s - loss: 0.0023 - accuracy: 0.9992\n",
            "Epoch 13: val_loss did not improve from 0.03801\n",
            "240/240 [==============================] - 3s 14ms/step - loss: 0.0024 - accuracy: 0.9991 - val_loss: 0.0497 - val_accuracy: 0.9893\n"
          ]
        }
      ]
    },
    {
      "cell_type": "code",
      "source": [
        "best_model = load_model(model_path)\n",
        "best_model.evaluate(X_test, Y_test)"
      ],
      "metadata": {
        "colab": {
          "base_uri": "https://localhost:8080/"
        },
        "id": "SNUt7jW0l4JU",
        "outputId": "0da53888-efcd-40d2-e796-17d623108828"
      },
      "execution_count": 13,
      "outputs": [
        {
          "output_type": "stream",
          "name": "stdout",
          "text": [
            "313/313 [==============================] - 1s 3ms/step - loss: 0.0363 - accuracy: 0.9878\n"
          ]
        },
        {
          "output_type": "execute_result",
          "data": {
            "text/plain": [
              "[0.03629819303750992, 0.9878000020980835]"
            ]
          },
          "metadata": {},
          "execution_count": 13
        }
      ]
    },
    {
      "cell_type": "markdown",
      "source": [
        " - 학습과정 시각화"
      ],
      "metadata": {
        "id": "Xl3WyUr0nPiT"
      }
    },
    {
      "cell_type": "code",
      "source": [
        "y_acc = hist.history['accuracy']\n",
        "y_vloss = hist.history['val_loss']\n",
        "xs = np.arange(1, len(y_acc)+1)"
      ],
      "metadata": {
        "id": "knvZ9AX0nR22"
      },
      "execution_count": 14,
      "outputs": []
    },
    {
      "cell_type": "code",
      "source": [
        "plt.figure(figsize=(12,8))\n",
        "plt.plot(xs, y_acc, label='train accuracy')\n",
        "plt.plot(xs, y_vloss, label='validation loss')\n",
        "plt.legend(), plt.grid()\n",
        "plt.xlabel('Epoch')\n",
        "plt.title(\"MNIST CNN v2\")\n",
        "plt.show()"
      ],
      "metadata": {
        "colab": {
          "base_uri": "https://localhost:8080/",
          "height": 513
        },
        "id": "ZP6wjW6-nk0S",
        "outputId": "c7b76a80-2314-4a40-a7ef-8e8bd18c85b9"
      },
      "execution_count": 16,
      "outputs": [
        {
          "output_type": "display_data",
          "data": {
            "text/plain": [
              "<Figure size 864x576 with 1 Axes>"
            ],
            "image/png": "[encoded data removed]"
          },
          "metadata": {
            "needs_background": "light"
          }
        }
      ]
    }
  ]
}