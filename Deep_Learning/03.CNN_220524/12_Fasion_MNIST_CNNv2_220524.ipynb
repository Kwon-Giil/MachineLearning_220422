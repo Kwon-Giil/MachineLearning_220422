{
  "nbformat": 4,
  "nbformat_minor": 0,
  "metadata": {
    "colab": {
      "name": "12_Fasion_MNIST_CNNv2_220524.ipynb",
      "provenance": [],
      "collapsed_sections": []
    },
    "kernelspec": {
      "name": "python3",
      "display_name": "Python 3"
    },
    "language_info": {
      "name": "python"
    },
    "accelerator": "GPU"
  },
  "cells": [
    {
      "cell_type": "markdown",
      "source": [
        "# Fashion MNIST CNN v2\n",
        " - 2 x Conv2D layers with padding\n",
        " - 1 Maxpooling2D layer\n",
        " - 1 Dropout (0.25) layer \n",
        " - 1 FCN layer\n",
        " - 1 Dropout (0.25) layer\n",
        " - 1 Output layer\n",
        "\n"
      ],
      "metadata": {
        "id": "Ti5jkf6Gdxej"
      }
    },
    {
      "cell_type": "code",
      "execution_count": 1,
      "metadata": {
        "id": "VTJDuwFUXtKA"
      },
      "outputs": [],
      "source": [
        "import numpy as np\n",
        "import matplotlib.pyplot as plt\n",
        "import tensorflow as tf\n",
        "seed = 2022\n",
        "np.random.seed(seed)\n",
        "tf.random.set_seed(seed)"
      ]
    },
    {
      "cell_type": "markdown",
      "source": [
        " - 데이터 전처리"
      ],
      "metadata": {
        "id": "DZKIhUDhfNjd"
      }
    },
    {
      "cell_type": "code",
      "source": [
        "from tensorflow.keras.datasets import fashion_mnist\n",
        "(X_train, y_train), (X_test,y_test) = fashion_mnist.load_data()\n",
        "X_train.shape, y_train.shape, X_test.shape, y_test.shape"
      ],
      "metadata": {
        "colab": {
          "base_uri": "https://localhost:8080/"
        },
        "id": "xSv8FRI7ePfi",
        "outputId": "d932d551-ba83-4d86-acef-b0899908e4f2"
      },
      "execution_count": 2,
      "outputs": [
        {
          "output_type": "stream",
          "name": "stdout",
          "text": [
            "Downloading data from https://storage.googleapis.com/tensorflow/tf-keras-datasets/train-labels-idx1-ubyte.gz\n",
            "32768/29515 [=================================] - 0s 0us/step\n",
            "40960/29515 [=========================================] - 0s 0us/step\n",
            "Downloading data from https://storage.googleapis.com/tensorflow/tf-keras-datasets/train-images-idx3-ubyte.gz\n",
            "26427392/26421880 [==============================] - 0s 0us/step\n",
            "26435584/26421880 [==============================] - 0s 0us/step\n",
            "Downloading data from https://storage.googleapis.com/tensorflow/tf-keras-datasets/t10k-labels-idx1-ubyte.gz\n",
            "16384/5148 [===============================================================================================] - 0s 0us/step\n",
            "Downloading data from https://storage.googleapis.com/tensorflow/tf-keras-datasets/t10k-images-idx3-ubyte.gz\n",
            "4423680/4422102 [==============================] - 0s 0us/step\n",
            "4431872/4422102 [==============================] - 0s 0us/step\n"
          ]
        },
        {
          "output_type": "execute_result",
          "data": {
            "text/plain": [
              "((60000, 28, 28), (60000,), (10000, 28, 28), (10000,))"
            ]
          },
          "metadata": {},
          "execution_count": 2
        }
      ]
    },
    {
      "cell_type": "code",
      "source": [
        "# X_train, X_test 정규화 (0~1)\n",
        "X_train = X_train.reshape(-1,28,28,1)/ 255.\n",
        "X_test = X_test.reshape(-1,28,28,1)/ 255.\n",
        "X_train.shape, X_test.shape"
      ],
      "metadata": {
        "colab": {
          "base_uri": "https://localhost:8080/"
        },
        "id": "DisZSCEmeoOM",
        "outputId": "08d7855d-cec4-4ae9-823f-49ec3264cef1"
      },
      "execution_count": 3,
      "outputs": [
        {
          "output_type": "execute_result",
          "data": {
            "text/plain": [
              "((60000, 28, 28, 1), (10000, 28, 28, 1))"
            ]
          },
          "metadata": {},
          "execution_count": 3
        }
      ]
    },
    {
      "cell_type": "code",
      "source": [
        "# one hot encoding\n",
        "from tensorflow.keras.utils import to_categorical\n",
        "Y_train = to_categorical(y_train)\n",
        "Y_test = to_categorical(y_test)\n",
        "Y_train.shape, Y_test.shape"
      ],
      "metadata": {
        "colab": {
          "base_uri": "https://localhost:8080/"
        },
        "id": "Q6e2rkn9erOH",
        "outputId": "322d50ff-0c87-4351-8358-0d6a3c66f817"
      },
      "execution_count": 4,
      "outputs": [
        {
          "output_type": "execute_result",
          "data": {
            "text/plain": [
              "((60000, 10), (10000, 10))"
            ]
          },
          "metadata": {},
          "execution_count": 4
        }
      ]
    },
    {
      "cell_type": "markdown",
      "source": [
        " - 모델 정의 / 설정 / 학습 / 평가"
      ],
      "metadata": {
        "id": "E_FTs3sUfIbU"
      }
    },
    {
      "cell_type": "code",
      "source": [
        "from tensorflow.keras.models import Sequential, load_model\n",
        "from tensorflow.keras.layers import Dense, Conv2D, Flatten, MaxPooling2D, Dropout\n",
        "from tensorflow.keras.callbacks import ModelCheckpoint, EarlyStopping"
      ],
      "metadata": {
        "id": "o63wBbmOfD9Y"
      },
      "execution_count": 5,
      "outputs": []
    },
    {
      "cell_type": "code",
      "source": [
        "model = Sequential([Conv2D(32, kernel_size=(3,3), padding='same', input_shape=(28,28,1), activation='relu'),\n",
        "                    Conv2D(64, kernel_size=(3,3), padding='same', activation='relu'),\n",
        "                    MaxPooling2D(), # MaxPooling2D (pool_size=(2,2))\n",
        "                    Dropout(0.25),\n",
        "                    Flatten(),Dense(512, activation='relu'),\n",
        "                    Dropout(0.5),\n",
        "                    Dense(10, activation='softmax')]) # output node\n",
        "\n",
        "model.summary()"
      ],
      "metadata": {
        "colab": {
          "base_uri": "https://localhost:8080/"
        },
        "id": "AAABsX-3ftNe",
        "outputId": "ed11e587-3ff6-4236-adce-a2831cb103d4"
      },
      "execution_count": 6,
      "outputs": [
        {
          "output_type": "stream",
          "name": "stdout",
          "text": [
            "Model: \"sequential\"\n",
            "_________________________________________________________________\n",
            " Layer (type)                Output Shape              Param #   \n",
            "=================================================================\n",
            " conv2d (Conv2D)             (None, 28, 28, 32)        320       \n",
            "                                                                 \n",
            " conv2d_1 (Conv2D)           (None, 28, 28, 64)        18496     \n",
            "                                                                 \n",
            " max_pooling2d (MaxPooling2D  (None, 14, 14, 64)       0         \n",
            " )                                                               \n",
            "                                                                 \n",
            " dropout (Dropout)           (None, 14, 14, 64)        0         \n",
            "                                                                 \n",
            " flatten (Flatten)           (None, 12544)             0         \n",
            "                                                                 \n",
            " dense (Dense)               (None, 512)               6423040   \n",
            "                                                                 \n",
            " dropout_1 (Dropout)         (None, 512)               0         \n",
            "                                                                 \n",
            " dense_1 (Dense)             (None, 10)                5130      \n",
            "                                                                 \n",
            "=================================================================\n",
            "Total params: 6,446,986\n",
            "Trainable params: 6,446,986\n",
            "Non-trainable params: 0\n",
            "_________________________________________________________________\n"
          ]
        }
      ]
    },
    {
      "cell_type": "code",
      "source": [
        "model.compile('adam', 'categorical_crossentropy', metrics=['accuracy'])"
      ],
      "metadata": {
        "id": "p5zcUqZohnGC"
      },
      "execution_count": 7,
      "outputs": []
    },
    {
      "cell_type": "code",
      "source": [
        "model_path = 'best_fashion_mnist_cnn_v2.h5'\n",
        "mc = ModelCheckpoint(model_path, save_best_only=True, verbose=1)\n",
        "es = EarlyStopping(patience=10)"
      ],
      "metadata": {
        "id": "o9vgjeOci9FE"
      },
      "execution_count": 8,
      "outputs": []
    },
    {
      "cell_type": "code",
      "source": [
        "hist = model.fit(X_train, Y_train, validation_split=0.2, epochs = 100, batch_size=200, callbacks=[mc,es])"
      ],
      "metadata": {
        "colab": {
          "base_uri": "https://localhost:8080/"
        },
        "id": "6qUd___illTW",
        "outputId": "0585c2c3-facd-49de-d540-f430a906477e"
      },
      "execution_count": 9,
      "outputs": [
        {
          "output_type": "stream",
          "name": "stdout",
          "text": [
            "Epoch 1/100\n",
            "237/240 [============================>.] - ETA: 0s - loss: 0.4809 - accuracy: 0.8285\n",
            "Epoch 1: val_loss improved from inf to 0.30769, saving model to best_fashion_mnist_cnn_v2.h5\n",
            "240/240 [==============================] - 15s 19ms/step - loss: 0.4796 - accuracy: 0.8289 - val_loss: 0.3077 - val_accuracy: 0.8887\n",
            "Epoch 2/100\n",
            "238/240 [============================>.] - ETA: 0s - loss: 0.3015 - accuracy: 0.8907\n",
            "Epoch 2: val_loss improved from 0.30769 to 0.26796, saving model to best_fashion_mnist_cnn_v2.h5\n",
            "240/240 [==============================] - 4s 18ms/step - loss: 0.3012 - accuracy: 0.8906 - val_loss: 0.2680 - val_accuracy: 0.9015\n",
            "Epoch 3/100\n",
            "238/240 [============================>.] - ETA: 0s - loss: 0.2472 - accuracy: 0.9106\n",
            "Epoch 3: val_loss improved from 0.26796 to 0.23321, saving model to best_fashion_mnist_cnn_v2.h5\n",
            "240/240 [==============================] - 4s 17ms/step - loss: 0.2476 - accuracy: 0.9104 - val_loss: 0.2332 - val_accuracy: 0.9133\n",
            "Epoch 4/100\n",
            "240/240 [==============================] - ETA: 0s - loss: 0.2123 - accuracy: 0.9218\n",
            "Epoch 4: val_loss improved from 0.23321 to 0.22060, saving model to best_fashion_mnist_cnn_v2.h5\n",
            "240/240 [==============================] - 4s 17ms/step - loss: 0.2123 - accuracy: 0.9218 - val_loss: 0.2206 - val_accuracy: 0.9179\n",
            "Epoch 5/100\n",
            "240/240 [==============================] - ETA: 0s - loss: 0.1870 - accuracy: 0.9305\n",
            "Epoch 5: val_loss improved from 0.22060 to 0.21260, saving model to best_fashion_mnist_cnn_v2.h5\n",
            "240/240 [==============================] - 4s 17ms/step - loss: 0.1870 - accuracy: 0.9305 - val_loss: 0.2126 - val_accuracy: 0.9220\n",
            "Epoch 6/100\n",
            "240/240 [==============================] - ETA: 0s - loss: 0.1624 - accuracy: 0.9410\n",
            "Epoch 6: val_loss improved from 0.21260 to 0.20457, saving model to best_fashion_mnist_cnn_v2.h5\n",
            "240/240 [==============================] - 4s 17ms/step - loss: 0.1624 - accuracy: 0.9410 - val_loss: 0.2046 - val_accuracy: 0.9277\n",
            "Epoch 7/100\n",
            "237/240 [============================>.] - ETA: 0s - loss: 0.1427 - accuracy: 0.9462\n",
            "Epoch 7: val_loss improved from 0.20457 to 0.19874, saving model to best_fashion_mnist_cnn_v2.h5\n",
            "240/240 [==============================] - 4s 17ms/step - loss: 0.1429 - accuracy: 0.9462 - val_loss: 0.1987 - val_accuracy: 0.9313\n",
            "Epoch 8/100\n",
            "239/240 [============================>.] - ETA: 0s - loss: 0.1257 - accuracy: 0.9543\n",
            "Epoch 8: val_loss did not improve from 0.19874\n",
            "240/240 [==============================] - 4s 17ms/step - loss: 0.1257 - accuracy: 0.9542 - val_loss: 0.2025 - val_accuracy: 0.9291\n",
            "Epoch 9/100\n",
            "237/240 [============================>.] - ETA: 0s - loss: 0.1110 - accuracy: 0.9584\n",
            "Epoch 9: val_loss did not improve from 0.19874\n",
            "240/240 [==============================] - 4s 16ms/step - loss: 0.1115 - accuracy: 0.9582 - val_loss: 0.2074 - val_accuracy: 0.9301\n",
            "Epoch 10/100\n",
            "240/240 [==============================] - ETA: 0s - loss: 0.0969 - accuracy: 0.9647\n",
            "Epoch 10: val_loss did not improve from 0.19874\n",
            "240/240 [==============================] - 4s 17ms/step - loss: 0.0969 - accuracy: 0.9647 - val_loss: 0.2276 - val_accuracy: 0.9266\n",
            "Epoch 11/100\n",
            "237/240 [============================>.] - ETA: 0s - loss: 0.0828 - accuracy: 0.9690\n",
            "Epoch 11: val_loss did not improve from 0.19874\n",
            "240/240 [==============================] - 4s 16ms/step - loss: 0.0828 - accuracy: 0.9691 - val_loss: 0.2302 - val_accuracy: 0.9292\n",
            "Epoch 12/100\n",
            "237/240 [============================>.] - ETA: 0s - loss: 0.0765 - accuracy: 0.9721\n",
            "Epoch 12: val_loss did not improve from 0.19874\n",
            "240/240 [==============================] - 4s 17ms/step - loss: 0.0765 - accuracy: 0.9721 - val_loss: 0.2323 - val_accuracy: 0.9295\n",
            "Epoch 13/100\n",
            "237/240 [============================>.] - ETA: 0s - loss: 0.0669 - accuracy: 0.9747\n",
            "Epoch 13: val_loss did not improve from 0.19874\n",
            "240/240 [==============================] - 4s 17ms/step - loss: 0.0674 - accuracy: 0.9745 - val_loss: 0.2448 - val_accuracy: 0.9287\n",
            "Epoch 14/100\n",
            "240/240 [==============================] - ETA: 0s - loss: 0.0617 - accuracy: 0.9772\n",
            "Epoch 14: val_loss did not improve from 0.19874\n",
            "240/240 [==============================] - 4s 16ms/step - loss: 0.0617 - accuracy: 0.9772 - val_loss: 0.2457 - val_accuracy: 0.9313\n",
            "Epoch 15/100\n",
            "237/240 [============================>.] - ETA: 0s - loss: 0.0560 - accuracy: 0.9801\n",
            "Epoch 15: val_loss did not improve from 0.19874\n",
            "240/240 [==============================] - 4s 17ms/step - loss: 0.0562 - accuracy: 0.9799 - val_loss: 0.2377 - val_accuracy: 0.9309\n",
            "Epoch 16/100\n",
            "237/240 [============================>.] - ETA: 0s - loss: 0.0481 - accuracy: 0.9824\n",
            "Epoch 16: val_loss did not improve from 0.19874\n",
            "240/240 [==============================] - 4s 16ms/step - loss: 0.0484 - accuracy: 0.9823 - val_loss: 0.2584 - val_accuracy: 0.9310\n",
            "Epoch 17/100\n",
            "239/240 [============================>.] - ETA: 0s - loss: 0.0440 - accuracy: 0.9840\n",
            "Epoch 17: val_loss did not improve from 0.19874\n",
            "240/240 [==============================] - 4s 18ms/step - loss: 0.0441 - accuracy: 0.9840 - val_loss: 0.2567 - val_accuracy: 0.9315\n"
          ]
        }
      ]
    },
    {
      "cell_type": "code",
      "source": [
        "best_model = load_model(model_path)\n",
        "best_model.evaluate(X_test, Y_test)"
      ],
      "metadata": {
        "colab": {
          "base_uri": "https://localhost:8080/"
        },
        "id": "SNUt7jW0l4JU",
        "outputId": "13bae59d-3636-4e40-9304-19374b974134"
      },
      "execution_count": 10,
      "outputs": [
        {
          "output_type": "stream",
          "name": "stdout",
          "text": [
            "313/313 [==============================] - 1s 3ms/step - loss: 0.2174 - accuracy: 0.9258\n"
          ]
        },
        {
          "output_type": "execute_result",
          "data": {
            "text/plain": [
              "[0.21741889417171478, 0.9258000254631042]"
            ]
          },
          "metadata": {},
          "execution_count": 10
        }
      ]
    },
    {
      "cell_type": "markdown",
      "source": [
        " - 학습과정 시각화"
      ],
      "metadata": {
        "id": "Xl3WyUr0nPiT"
      }
    },
    {
      "cell_type": "code",
      "source": [
        "y_acc = hist.history['accuracy']\n",
        "y_vloss = hist.history['val_loss']\n",
        "xs = np.arange(1, len(y_acc)+1)"
      ],
      "metadata": {
        "id": "knvZ9AX0nR22"
      },
      "execution_count": 12,
      "outputs": []
    },
    {
      "cell_type": "code",
      "source": [
        "plt.figure(figsize=(12,8))\n",
        "plt.plot(xs, y_acc, label='train accuracy')\n",
        "plt.plot(xs, y_vloss, label='validation loss')\n",
        "plt.legend(), plt.grid()\n",
        "plt.xlabel('Epoch')\n",
        "plt.title(\"Fashion MNIST CNN v2\")\n",
        "plt.show()"
      ],
      "metadata": {
        "colab": {
          "base_uri": "https://localhost:8080/",
          "height": 513
        },
        "id": "ZP6wjW6-nk0S",
        "outputId": "e4b50c31-dfcc-4b7a-c417-ba8daec96d89"
      },
      "execution_count": 14,
      "outputs": [
        {
          "output_type": "display_data",
          "data": {
            "text/plain": [
              "<Figure size 864x576 with 1 Axes>"
            ],
            "image/png": "[encoded data removed]"
          },
          "metadata": {
            "needs_background": "light"
          }
        }
      ]
    },
    {
      "cell_type": "code",
      "source": [
        ""
      ],
      "metadata": {
        "id": "T3UoplLN1dPg"
      },
      "execution_count": null,
      "outputs": []
    }
  ]
}