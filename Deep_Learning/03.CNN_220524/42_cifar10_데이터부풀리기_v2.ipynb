{
  "nbformat": 4,
  "nbformat_minor": 0,
  "metadata": {
    "colab": {
      "name": "42_cifar10_데이터부풀리기_v2.ipynb",
      "provenance": [],
      "collapsed_sections": []
    },
    "kernelspec": {
      "name": "python3",
      "display_name": "Python 3"
    },
    "language_info": {
      "name": "python"
    },
    "accelerator": "GPU"
  },
  "cells": [
    {
      "cell_type": "code",
      "execution_count": 1,
      "metadata": {
        "id": "bTIZGuli8fAB"
      },
      "outputs": [],
      "source": [
        "import numpy as np\n",
        "import matplotlib.pyplot as plt\n",
        "import tensorflow as tf\n",
        "seed = 2022\n",
        "np.random.seed(seed)\n",
        "tf.random.set_seed(seed)"
      ]
    },
    {
      "cell_type": "code",
      "source": [
        "from tensorflow.keras.datasets import cifar10\n",
        "(X_train, y_train), (X_test, y_test) = cifar10.load_data()"
      ],
      "metadata": {
        "colab": {
          "base_uri": "https://localhost:8080/"
        },
        "id": "UZ4gWY0p8tmx",
        "outputId": "f70b0659-70bf-4b92-ee51-53420135da3d"
      },
      "execution_count": 2,
      "outputs": [
        {
          "output_type": "stream",
          "name": "stdout",
          "text": [
            "Downloading data from https://www.cs.toronto.edu/~kriz/cifar-10-python.tar.gz\n",
            "170500096/170498071 [==============================] - 4s 0us/step\n",
            "170508288/170498071 [==============================] - 4s 0us/step\n"
          ]
        }
      ]
    },
    {
      "cell_type": "code",
      "source": [
        "# X_data: scaling\n",
        "X_train = X_train/255.\n",
        "X_test = X_test/255."
      ],
      "metadata": {
        "id": "ki48B42r8_rV"
      },
      "execution_count": 3,
      "outputs": []
    },
    {
      "cell_type": "code",
      "source": [
        "# y_data: one hot encoding\n",
        "from tensorflow.keras.utils import to_categorical\n",
        "Y_train = to_categorical(y_train)\n",
        "Y_test = to_categorical(y_test)"
      ],
      "metadata": {
        "id": "Y-P60t9h9Em8"
      },
      "execution_count": 4,
      "outputs": []
    },
    {
      "cell_type": "code",
      "source": [
        "from tensorflow.keras.models import Sequential,load_model\n",
        "from tensorflow.keras.layers import Conv2D, MaxPooling2D, Flatten, Dense, Dropout\n",
        "from tensorflow.keras.callbacks import ModelCheckpoint, EarlyStopping\n",
        "from tensorflow.keras.optimizers import RMSprop"
      ],
      "metadata": {
        "id": "z_fesquT9GTK"
      },
      "execution_count": 5,
      "outputs": []
    },
    {
      "cell_type": "code",
      "source": [
        "model = Sequential([ \n",
        "    Conv2D(32, (3,3), input_shape=X_train.shape[1:], padding='same', activation='relu'),\n",
        "    Conv2D(32, (3,3), activation='relu'),\n",
        "    MaxPooling2D(),\n",
        "    Dropout(0.25),\n",
        "    Conv2D(64, (3,3), padding='same', activation='relu'),\n",
        "    Conv2D(64, (3,3), activation='relu'),\n",
        "    MaxPooling2D(),\n",
        "    Dropout(0.25),\n",
        "    Flatten(),\n",
        "    Dense(512, activation='relu'),\n",
        "    Dropout(0.5),\n",
        "    Dense(10, activation='softmax')\n",
        "])\n",
        "model.summary()"
      ],
      "metadata": {
        "colab": {
          "base_uri": "https://localhost:8080/"
        },
        "id": "exCUovHE9IWy",
        "outputId": "adb69bb7-a404-4bf9-a156-154be5fe9670"
      },
      "execution_count": 6,
      "outputs": [
        {
          "output_type": "stream",
          "name": "stdout",
          "text": [
            "Model: \"sequential\"\n",
            "_________________________________________________________________\n",
            " Layer (type)                Output Shape              Param #   \n",
            "=================================================================\n",
            " conv2d (Conv2D)             (None, 32, 32, 32)        896       \n",
            "                                                                 \n",
            " conv2d_1 (Conv2D)           (None, 30, 30, 32)        9248      \n",
            "                                                                 \n",
            " max_pooling2d (MaxPooling2D  (None, 15, 15, 32)       0         \n",
            " )                                                               \n",
            "                                                                 \n",
            " dropout (Dropout)           (None, 15, 15, 32)        0         \n",
            "                                                                 \n",
            " conv2d_2 (Conv2D)           (None, 15, 15, 64)        18496     \n",
            "                                                                 \n",
            " conv2d_3 (Conv2D)           (None, 13, 13, 64)        36928     \n",
            "                                                                 \n",
            " max_pooling2d_1 (MaxPooling  (None, 6, 6, 64)         0         \n",
            " 2D)                                                             \n",
            "                                                                 \n",
            " dropout_1 (Dropout)         (None, 6, 6, 64)          0         \n",
            "                                                                 \n",
            " flatten (Flatten)           (None, 2304)              0         \n",
            "                                                                 \n",
            " dense (Dense)               (None, 512)               1180160   \n",
            "                                                                 \n",
            " dropout_2 (Dropout)         (None, 512)               0         \n",
            "                                                                 \n",
            " dense_1 (Dense)             (None, 10)                5130      \n",
            "                                                                 \n",
            "=================================================================\n",
            "Total params: 1,250,858\n",
            "Trainable params: 1,250,858\n",
            "Non-trainable params: 0\n",
            "_________________________________________________________________\n"
          ]
        }
      ]
    },
    {
      "cell_type": "code",
      "source": [
        "model.compile(\n",
        "    optimizer=RMSprop(learning_rate=0.0001, decay=1e-6),\n",
        "    loss='categorical_crossentropy', metrics=['accuracy']\n",
        ")"
      ],
      "metadata": {
        "id": "oEVLQc3q9Kjq"
      },
      "execution_count": 7,
      "outputs": []
    },
    {
      "cell_type": "code",
      "source": [
        "model_path = 'best-cifar10-v2.h5'\n",
        "mc = ModelCheckpoint(model_path, save_best_only=True, verbose=1)\n",
        "es = EarlyStopping(patience=10)"
      ],
      "metadata": {
        "id": "NXU27K139NnW"
      },
      "execution_count": 8,
      "outputs": []
    },
    {
      "cell_type": "markdown",
      "source": [
        " - 데이터 부풀리기"
      ],
      "metadata": {
        "id": "WYQSObBV9SZu"
      }
    },
    {
      "cell_type": "code",
      "source": [
        "from sklearn.model_selection import train_test_split\n",
        "X_train, X_valid, Y_train, Y_valid = train_test_split(\n",
        "    X_train, Y_train, stratify=Y_train, test_size=0.2, random_state=seed\n",
        ")"
      ],
      "metadata": {
        "id": "zg8u9BpL9R2H"
      },
      "execution_count": 9,
      "outputs": []
    },
    {
      "cell_type": "code",
      "source": [
        "from tensorflow.keras.preprocessing.image import ImageDataGenerator\n",
        "\n",
        "datagen = ImageDataGenerator(\n",
        "    rotation_range=10,          # randomly rotate images in the range 15 degree\n",
        "    width_shift_range=0.1,      # randomly shift images horizontally \n",
        "    height_shift_range=0.1,     # randomly shift images vertically\n",
        "    shear_range=0.1,            # 도형의 기울기\n",
        "    zoom_range=[0.8,1.2],       # 0.8~1.2 배 크기로 임의로 확대/축소\n",
        "    horizontal_flip=True,       # randomly flip images\n",
        "    vertical_flip=False,        # randomly flip images\n",
        "    fill_mode='nearest'         # set mode for filling points outside the input boundaries\n",
        ")"
      ],
      "metadata": {
        "id": "by-9ijM79vrH"
      },
      "execution_count": 10,
      "outputs": []
    },
    {
      "cell_type": "code",
      "source": [
        "# data fitting\n",
        "datagen.fit(X_train)"
      ],
      "metadata": {
        "id": "I9UWkyWv-bij"
      },
      "execution_count": 11,
      "outputs": []
    },
    {
      "cell_type": "markdown",
      "source": [
        " - 데이터 부풀리기 한 결과로 학습시키기"
      ],
      "metadata": {
        "id": "x0D_vqFg-pK9"
      }
    },
    {
      "cell_type": "code",
      "source": [
        "hist = model.fit(\n",
        "    datagen.flow(X_train, Y_train, batch_size=32),\n",
        "    validation_data=(X_valid, Y_valid),\n",
        "    epochs=100, callbacks=[mc, es]\n",
        ")"
      ],
      "metadata": {
        "colab": {
          "base_uri": "https://localhost:8080/"
        },
        "id": "hFPWvDel-nzC",
        "outputId": "06a4fffc-50da-4206-8072-808f3147db20"
      },
      "execution_count": 12,
      "outputs": [
        {
          "output_type": "stream",
          "name": "stdout",
          "text": [
            "Epoch 1/100\n",
            "1250/1250 [==============================] - ETA: 0s - loss: 1.8962 - accuracy: 0.2974\n",
            "Epoch 1: val_loss improved from inf to 1.60860, saving model to best-cifar10-v2.h5\n",
            "1250/1250 [==============================] - 36s 20ms/step - loss: 1.8962 - accuracy: 0.2974 - val_loss: 1.6086 - val_accuracy: 0.4160\n",
            "Epoch 2/100\n",
            "1248/1250 [============================>.] - ETA: 0s - loss: 1.6360 - accuracy: 0.4006\n",
            "Epoch 2: val_loss improved from 1.60860 to 1.53812, saving model to best-cifar10-v2.h5\n",
            "1250/1250 [==============================] - 26s 21ms/step - loss: 1.6361 - accuracy: 0.4006 - val_loss: 1.5381 - val_accuracy: 0.4399\n",
            "Epoch 3/100\n",
            "1249/1250 [============================>.] - ETA: 0s - loss: 1.5387 - accuracy: 0.4373\n",
            "Epoch 3: val_loss improved from 1.53812 to 1.38297, saving model to best-cifar10-v2.h5\n",
            "1250/1250 [==============================] - 25s 20ms/step - loss: 1.5389 - accuracy: 0.4372 - val_loss: 1.3830 - val_accuracy: 0.5075\n",
            "Epoch 4/100\n",
            "1248/1250 [============================>.] - ETA: 0s - loss: 1.4653 - accuracy: 0.4695\n",
            "Epoch 4: val_loss improved from 1.38297 to 1.35821, saving model to best-cifar10-v2.h5\n",
            "1250/1250 [==============================] - 24s 20ms/step - loss: 1.4649 - accuracy: 0.4696 - val_loss: 1.3582 - val_accuracy: 0.5123\n",
            "Epoch 5/100\n",
            "1249/1250 [============================>.] - ETA: 0s - loss: 1.4052 - accuracy: 0.4975\n",
            "Epoch 5: val_loss improved from 1.35821 to 1.33865, saving model to best-cifar10-v2.h5\n",
            "1250/1250 [==============================] - 24s 20ms/step - loss: 1.4050 - accuracy: 0.4976 - val_loss: 1.3386 - val_accuracy: 0.5278\n",
            "Epoch 6/100\n",
            "1248/1250 [============================>.] - ETA: 0s - loss: 1.3527 - accuracy: 0.5151\n",
            "Epoch 6: val_loss did not improve from 1.33865\n",
            "1250/1250 [==============================] - 24s 19ms/step - loss: 1.3526 - accuracy: 0.5151 - val_loss: 1.3475 - val_accuracy: 0.5385\n",
            "Epoch 7/100\n",
            "1249/1250 [============================>.] - ETA: 0s - loss: 1.3025 - accuracy: 0.5354\n",
            "Epoch 7: val_loss improved from 1.33865 to 1.23802, saving model to best-cifar10-v2.h5\n",
            "1250/1250 [==============================] - 24s 20ms/step - loss: 1.3022 - accuracy: 0.5355 - val_loss: 1.2380 - val_accuracy: 0.5654\n",
            "Epoch 8/100\n",
            "1249/1250 [============================>.] - ETA: 0s - loss: 1.2653 - accuracy: 0.5494\n",
            "Epoch 8: val_loss improved from 1.23802 to 1.08533, saving model to best-cifar10-v2.h5\n",
            "1250/1250 [==============================] - 24s 19ms/step - loss: 1.2653 - accuracy: 0.5494 - val_loss: 1.0853 - val_accuracy: 0.6110\n",
            "Epoch 9/100\n",
            "1248/1250 [============================>.] - ETA: 0s - loss: 1.2315 - accuracy: 0.5649\n",
            "Epoch 9: val_loss did not improve from 1.08533\n",
            "1250/1250 [==============================] - 25s 20ms/step - loss: 1.2315 - accuracy: 0.5648 - val_loss: 1.1557 - val_accuracy: 0.5884\n",
            "Epoch 10/100\n",
            "1249/1250 [============================>.] - ETA: 0s - loss: 1.2006 - accuracy: 0.5717\n",
            "Epoch 10: val_loss improved from 1.08533 to 1.08175, saving model to best-cifar10-v2.h5\n",
            "1250/1250 [==============================] - 24s 19ms/step - loss: 1.2006 - accuracy: 0.5716 - val_loss: 1.0818 - val_accuracy: 0.6241\n",
            "Epoch 11/100\n",
            "1249/1250 [============================>.] - ETA: 0s - loss: 1.1750 - accuracy: 0.5837\n",
            "Epoch 11: val_loss did not improve from 1.08175\n",
            "1250/1250 [==============================] - 24s 20ms/step - loss: 1.1749 - accuracy: 0.5837 - val_loss: 1.0874 - val_accuracy: 0.6210\n",
            "Epoch 12/100\n",
            "1250/1250 [==============================] - ETA: 0s - loss: 1.1498 - accuracy: 0.5939\n",
            "Epoch 12: val_loss improved from 1.08175 to 0.98217, saving model to best-cifar10-v2.h5\n",
            "1250/1250 [==============================] - 24s 19ms/step - loss: 1.1498 - accuracy: 0.5939 - val_loss: 0.9822 - val_accuracy: 0.6537\n",
            "Epoch 13/100\n",
            "1249/1250 [============================>.] - ETA: 0s - loss: 1.1268 - accuracy: 0.6025\n",
            "Epoch 13: val_loss did not improve from 0.98217\n",
            "1250/1250 [==============================] - 24s 19ms/step - loss: 1.1266 - accuracy: 0.6026 - val_loss: 1.0319 - val_accuracy: 0.6418\n",
            "Epoch 14/100\n",
            "1248/1250 [============================>.] - ETA: 0s - loss: 1.0997 - accuracy: 0.6158\n",
            "Epoch 14: val_loss did not improve from 0.98217\n",
            "1250/1250 [==============================] - 24s 19ms/step - loss: 1.0996 - accuracy: 0.6158 - val_loss: 1.0201 - val_accuracy: 0.6431\n",
            "Epoch 15/100\n",
            "1250/1250 [==============================] - ETA: 0s - loss: 1.0888 - accuracy: 0.6174\n",
            "Epoch 15: val_loss improved from 0.98217 to 0.91443, saving model to best-cifar10-v2.h5\n",
            "1250/1250 [==============================] - 24s 19ms/step - loss: 1.0888 - accuracy: 0.6174 - val_loss: 0.9144 - val_accuracy: 0.6783\n",
            "Epoch 16/100\n",
            "1250/1250 [==============================] - ETA: 0s - loss: 1.0680 - accuracy: 0.6238\n",
            "Epoch 16: val_loss did not improve from 0.91443\n",
            "1250/1250 [==============================] - 24s 19ms/step - loss: 1.0680 - accuracy: 0.6238 - val_loss: 0.9594 - val_accuracy: 0.6642\n",
            "Epoch 17/100\n",
            "1248/1250 [============================>.] - ETA: 0s - loss: 1.0549 - accuracy: 0.6297\n",
            "Epoch 17: val_loss did not improve from 0.91443\n",
            "1250/1250 [==============================] - 24s 19ms/step - loss: 1.0548 - accuracy: 0.6296 - val_loss: 0.9503 - val_accuracy: 0.6679\n",
            "Epoch 18/100\n",
            "1249/1250 [============================>.] - ETA: 0s - loss: 1.0483 - accuracy: 0.6307\n",
            "Epoch 18: val_loss did not improve from 0.91443\n",
            "1250/1250 [==============================] - 24s 19ms/step - loss: 1.0482 - accuracy: 0.6309 - val_loss: 1.0114 - val_accuracy: 0.6515\n",
            "Epoch 19/100\n",
            "1248/1250 [============================>.] - ETA: 0s - loss: 1.0297 - accuracy: 0.6362\n",
            "Epoch 19: val_loss did not improve from 0.91443\n",
            "1250/1250 [==============================] - 24s 19ms/step - loss: 1.0297 - accuracy: 0.6362 - val_loss: 0.9241 - val_accuracy: 0.6778\n",
            "Epoch 20/100\n",
            "1250/1250 [==============================] - ETA: 0s - loss: 1.0217 - accuracy: 0.6407\n",
            "Epoch 20: val_loss did not improve from 0.91443\n",
            "1250/1250 [==============================] - 24s 19ms/step - loss: 1.0217 - accuracy: 0.6407 - val_loss: 0.9331 - val_accuracy: 0.6715\n",
            "Epoch 21/100\n",
            "1250/1250 [==============================] - ETA: 0s - loss: 1.0121 - accuracy: 0.6421\n",
            "Epoch 21: val_loss did not improve from 0.91443\n",
            "1250/1250 [==============================] - 24s 19ms/step - loss: 1.0121 - accuracy: 0.6421 - val_loss: 0.9323 - val_accuracy: 0.6755\n",
            "Epoch 22/100\n",
            "1248/1250 [============================>.] - ETA: 0s - loss: 0.9932 - accuracy: 0.6533\n",
            "Epoch 22: val_loss improved from 0.91443 to 0.89114, saving model to best-cifar10-v2.h5\n",
            "1250/1250 [==============================] - 24s 19ms/step - loss: 0.9931 - accuracy: 0.6535 - val_loss: 0.8911 - val_accuracy: 0.6958\n",
            "Epoch 23/100\n",
            "1250/1250 [==============================] - ETA: 0s - loss: 0.9925 - accuracy: 0.6505\n",
            "Epoch 23: val_loss improved from 0.89114 to 0.84930, saving model to best-cifar10-v2.h5\n",
            "1250/1250 [==============================] - 24s 19ms/step - loss: 0.9925 - accuracy: 0.6505 - val_loss: 0.8493 - val_accuracy: 0.7039\n",
            "Epoch 24/100\n",
            "1249/1250 [============================>.] - ETA: 0s - loss: 0.9814 - accuracy: 0.6587\n",
            "Epoch 24: val_loss did not improve from 0.84930\n",
            "1250/1250 [==============================] - 24s 19ms/step - loss: 0.9813 - accuracy: 0.6588 - val_loss: 0.8892 - val_accuracy: 0.6967\n",
            "Epoch 25/100\n",
            "1250/1250 [==============================] - ETA: 0s - loss: 0.9743 - accuracy: 0.6609\n",
            "Epoch 25: val_loss did not improve from 0.84930\n",
            "1250/1250 [==============================] - 24s 19ms/step - loss: 0.9743 - accuracy: 0.6609 - val_loss: 0.9180 - val_accuracy: 0.6889\n",
            "Epoch 26/100\n",
            "1248/1250 [============================>.] - ETA: 0s - loss: 0.9707 - accuracy: 0.6635\n",
            "Epoch 26: val_loss improved from 0.84930 to 0.83241, saving model to best-cifar10-v2.h5\n",
            "1250/1250 [==============================] - 24s 19ms/step - loss: 0.9706 - accuracy: 0.6636 - val_loss: 0.8324 - val_accuracy: 0.7107\n",
            "Epoch 27/100\n",
            "1248/1250 [============================>.] - ETA: 0s - loss: 0.9664 - accuracy: 0.6635\n",
            "Epoch 27: val_loss improved from 0.83241 to 0.81102, saving model to best-cifar10-v2.h5\n",
            "1250/1250 [==============================] - 24s 19ms/step - loss: 0.9660 - accuracy: 0.6637 - val_loss: 0.8110 - val_accuracy: 0.7177\n",
            "Epoch 28/100\n",
            "1248/1250 [============================>.] - ETA: 0s - loss: 0.9599 - accuracy: 0.6648\n",
            "Epoch 28: val_loss did not improve from 0.81102\n",
            "1250/1250 [==============================] - 24s 19ms/step - loss: 0.9599 - accuracy: 0.6649 - val_loss: 0.8201 - val_accuracy: 0.7159\n",
            "Epoch 29/100\n",
            "1249/1250 [============================>.] - ETA: 0s - loss: 0.9495 - accuracy: 0.6710\n",
            "Epoch 29: val_loss did not improve from 0.81102\n",
            "1250/1250 [==============================] - 24s 19ms/step - loss: 0.9495 - accuracy: 0.6709 - val_loss: 0.8173 - val_accuracy: 0.7177\n",
            "Epoch 30/100\n",
            "1249/1250 [============================>.] - ETA: 0s - loss: 0.9475 - accuracy: 0.6714\n",
            "Epoch 30: val_loss did not improve from 0.81102\n",
            "1250/1250 [==============================] - 24s 19ms/step - loss: 0.9477 - accuracy: 0.6713 - val_loss: 0.8344 - val_accuracy: 0.7123\n",
            "Epoch 31/100\n",
            "1249/1250 [============================>.] - ETA: 0s - loss: 0.9463 - accuracy: 0.6715\n",
            "Epoch 31: val_loss did not improve from 0.81102\n",
            "1250/1250 [==============================] - 24s 20ms/step - loss: 0.9464 - accuracy: 0.6715 - val_loss: 0.9487 - val_accuracy: 0.6822\n",
            "Epoch 32/100\n",
            "1250/1250 [==============================] - ETA: 0s - loss: 0.9320 - accuracy: 0.6765\n",
            "Epoch 32: val_loss did not improve from 0.81102\n",
            "1250/1250 [==============================] - 25s 20ms/step - loss: 0.9320 - accuracy: 0.6765 - val_loss: 0.8134 - val_accuracy: 0.7182\n",
            "Epoch 33/100\n",
            "1250/1250 [==============================] - ETA: 0s - loss: 0.9336 - accuracy: 0.6761\n",
            "Epoch 33: val_loss did not improve from 0.81102\n",
            "1250/1250 [==============================] - 24s 19ms/step - loss: 0.9336 - accuracy: 0.6761 - val_loss: 0.8485 - val_accuracy: 0.7091\n",
            "Epoch 34/100\n",
            "1248/1250 [============================>.] - ETA: 0s - loss: 0.9292 - accuracy: 0.6760\n",
            "Epoch 34: val_loss did not improve from 0.81102\n",
            "1250/1250 [==============================] - 24s 19ms/step - loss: 0.9296 - accuracy: 0.6759 - val_loss: 0.8683 - val_accuracy: 0.7054\n",
            "Epoch 35/100\n",
            "1248/1250 [============================>.] - ETA: 0s - loss: 0.9252 - accuracy: 0.6796\n",
            "Epoch 35: val_loss improved from 0.81102 to 0.77601, saving model to best-cifar10-v2.h5\n",
            "1250/1250 [==============================] - 25s 20ms/step - loss: 0.9253 - accuracy: 0.6796 - val_loss: 0.7760 - val_accuracy: 0.7325\n",
            "Epoch 36/100\n",
            "1250/1250 [==============================] - ETA: 0s - loss: 0.9230 - accuracy: 0.6804\n",
            "Epoch 36: val_loss did not improve from 0.77601\n",
            "1250/1250 [==============================] - 24s 19ms/step - loss: 0.9230 - accuracy: 0.6804 - val_loss: 0.7971 - val_accuracy: 0.7254\n",
            "Epoch 37/100\n",
            "1250/1250 [==============================] - ETA: 0s - loss: 0.9072 - accuracy: 0.6854\n",
            "Epoch 37: val_loss did not improve from 0.77601\n",
            "1250/1250 [==============================] - 24s 20ms/step - loss: 0.9072 - accuracy: 0.6854 - val_loss: 0.8126 - val_accuracy: 0.7235\n",
            "Epoch 38/100\n",
            "1249/1250 [============================>.] - ETA: 0s - loss: 0.9027 - accuracy: 0.6893\n",
            "Epoch 38: val_loss improved from 0.77601 to 0.73696, saving model to best-cifar10-v2.h5\n",
            "1250/1250 [==============================] - 25s 20ms/step - loss: 0.9025 - accuracy: 0.6894 - val_loss: 0.7370 - val_accuracy: 0.7461\n",
            "Epoch 39/100\n",
            "1250/1250 [==============================] - ETA: 0s - loss: 0.9106 - accuracy: 0.6888\n",
            "Epoch 39: val_loss did not improve from 0.73696\n",
            "1250/1250 [==============================] - 24s 19ms/step - loss: 0.9106 - accuracy: 0.6888 - val_loss: 0.8213 - val_accuracy: 0.7249\n",
            "Epoch 40/100\n",
            "1248/1250 [============================>.] - ETA: 0s - loss: 0.8988 - accuracy: 0.6898\n",
            "Epoch 40: val_loss did not improve from 0.73696\n",
            "1250/1250 [==============================] - 24s 19ms/step - loss: 0.8987 - accuracy: 0.6898 - val_loss: 0.7470 - val_accuracy: 0.7439\n",
            "Epoch 41/100\n",
            "1249/1250 [============================>.] - ETA: 0s - loss: 0.9002 - accuracy: 0.6890\n",
            "Epoch 41: val_loss did not improve from 0.73696\n",
            "1250/1250 [==============================] - 24s 20ms/step - loss: 0.9000 - accuracy: 0.6890 - val_loss: 0.8125 - val_accuracy: 0.7198\n",
            "Epoch 42/100\n",
            "1250/1250 [==============================] - ETA: 0s - loss: 0.9003 - accuracy: 0.6925\n",
            "Epoch 42: val_loss did not improve from 0.73696\n",
            "1250/1250 [==============================] - 24s 19ms/step - loss: 0.9003 - accuracy: 0.6925 - val_loss: 0.7541 - val_accuracy: 0.7464\n",
            "Epoch 43/100\n",
            "1248/1250 [============================>.] - ETA: 0s - loss: 0.8975 - accuracy: 0.6902\n",
            "Epoch 43: val_loss did not improve from 0.73696\n",
            "1250/1250 [==============================] - 24s 19ms/step - loss: 0.8972 - accuracy: 0.6903 - val_loss: 0.9050 - val_accuracy: 0.7041\n",
            "Epoch 44/100\n",
            "1250/1250 [==============================] - ETA: 0s - loss: 0.8968 - accuracy: 0.6939\n",
            "Epoch 44: val_loss did not improve from 0.73696\n",
            "1250/1250 [==============================] - 24s 20ms/step - loss: 0.8968 - accuracy: 0.6939 - val_loss: 0.7763 - val_accuracy: 0.7393\n",
            "Epoch 45/100\n",
            "1248/1250 [============================>.] - ETA: 0s - loss: 0.8879 - accuracy: 0.6954\n",
            "Epoch 45: val_loss did not improve from 0.73696\n",
            "1250/1250 [==============================] - 25s 20ms/step - loss: 0.8879 - accuracy: 0.6955 - val_loss: 0.7762 - val_accuracy: 0.7305\n",
            "Epoch 46/100\n",
            "1249/1250 [============================>.] - ETA: 0s - loss: 0.8890 - accuracy: 0.6948\n",
            "Epoch 46: val_loss did not improve from 0.73696\n",
            "1250/1250 [==============================] - 25s 20ms/step - loss: 0.8889 - accuracy: 0.6949 - val_loss: 0.7524 - val_accuracy: 0.7456\n",
            "Epoch 47/100\n",
            "1249/1250 [============================>.] - ETA: 0s - loss: 0.8828 - accuracy: 0.6953\n",
            "Epoch 47: val_loss did not improve from 0.73696\n",
            "1250/1250 [==============================] - 24s 19ms/step - loss: 0.8828 - accuracy: 0.6952 - val_loss: 0.8400 - val_accuracy: 0.7256\n",
            "Epoch 48/100\n",
            "1249/1250 [============================>.] - ETA: 0s - loss: 0.8867 - accuracy: 0.6955\n",
            "Epoch 48: val_loss did not improve from 0.73696\n",
            "1250/1250 [==============================] - 25s 20ms/step - loss: 0.8870 - accuracy: 0.6953 - val_loss: 0.7595 - val_accuracy: 0.7442\n"
          ]
        }
      ]
    },
    {
      "cell_type": "code",
      "source": [
        "best_model = load_model(model_path)\n",
        "best_model.evaluate(X_test, Y_test)"
      ],
      "metadata": {
        "colab": {
          "base_uri": "https://localhost:8080/"
        },
        "id": "b9Kw7oVw_Grc",
        "outputId": "c431c7ca-53f9-4146-ee8e-040f9b379aa8"
      },
      "execution_count": 13,
      "outputs": [
        {
          "output_type": "stream",
          "name": "stdout",
          "text": [
            "313/313 [==============================] - 1s 4ms/step - loss: 0.7537 - accuracy: 0.7393\n"
          ]
        },
        {
          "output_type": "execute_result",
          "data": {
            "text/plain": [
              "[0.7537194490432739, 0.739300012588501]"
            ]
          },
          "metadata": {},
          "execution_count": 13
        }
      ]
    },
    {
      "cell_type": "code",
      "source": [
        "y_acc = hist.history['accuracy']\n",
        "y_vloss = hist.history['val_loss']\n",
        "xs = np.arange(1, len(y_acc)+1)"
      ],
      "metadata": {
        "id": "RNMu0rONAHM6"
      },
      "execution_count": 14,
      "outputs": []
    },
    {
      "cell_type": "code",
      "source": [
        "plt.figure(figsize=(12,8))\n",
        "plt.plot(xs, y_acc, label='train accuracy')\n",
        "plt.plot(xs, y_vloss, label='validation loss')\n",
        "plt.legend(), plt.grid(), plt.ylim(0,1.2),\n",
        "plt.xlabel('Epoch')\n",
        "plt.title('Cifar-10 CNN model v2')\n",
        "plt.show()"
      ],
      "metadata": {
        "colab": {
          "base_uri": "https://localhost:8080/",
          "height": 513
        },
        "id": "yfBZVY4gATix",
        "outputId": "ff3d48a4-c880-42bd-914c-01299a99da33"
      },
      "execution_count": 15,
      "outputs": [
        {
          "output_type": "display_data",
          "data": {
            "text/plain": [
              "<Figure size 864x576 with 1 Axes>"
            ],
            "image/png": "[encoded data removed]"
          },
          "metadata": {
            "needs_background": "light"
          }
        }
      ]
    },
    {
      "cell_type": "code",
      "source": [
        ""
      ],
      "metadata": {
        "id": "Gtz4pdKJB5Ac"
      },
      "execution_count": 15,
      "outputs": []
    }
  ]
}