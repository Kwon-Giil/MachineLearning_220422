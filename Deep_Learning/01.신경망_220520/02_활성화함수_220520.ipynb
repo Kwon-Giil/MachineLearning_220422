{
  "nbformat": 4,
  "nbformat_minor": 0,
  "metadata": {
    "colab": {
      "name": "02_활성화함수_220520.ipynb",
      "provenance": [],
      "collapsed_sections": []
    },
    "kernelspec": {
      "name": "python3",
      "display_name": "Python 3"
    },
    "language_info": {
      "name": "python"
    }
  },
  "cells": [
    {
      "cell_type": "markdown",
      "source": [
        "# 활성화 함수"
      ],
      "metadata": {
        "id": "eHr60ndX-8jp"
      }
    },
    {
      "cell_type": "code",
      "execution_count": 20,
      "metadata": {
        "id": "egOTGztk-6k3"
      },
      "outputs": [],
      "source": [
        "import numpy as np\n",
        "import matplotlib.pyplot as plt"
      ]
    },
    {
      "cell_type": "code",
      "source": [
        "xs = np.linspace(-5,5,501)"
      ],
      "metadata": {
        "id": "Barc627CAYqI"
      },
      "execution_count": 21,
      "outputs": []
    },
    {
      "cell_type": "markdown",
      "source": [
        " - heaviside step function"
      ],
      "metadata": {
        "id": "drsSxR2C_280"
      }
    },
    {
      "cell_type": "code",
      "source": [
        "def heaviside(x):\n",
        "    y = np.zeros_like(x)\n",
        "    y[x > 0] = 1\n",
        "    return y # x >1 이면 1, x =< 0 이면 0"
      ],
      "metadata": {
        "id": "fDdLDmNt_Fc_"
      },
      "execution_count": 22,
      "outputs": []
    },
    {
      "cell_type": "code",
      "source": [
        "plt.plot(xs,heaviside(xs))\n",
        "plt.grid()\n",
        "plt.title('heaviside')\n",
        "plt.show()"
      ],
      "metadata": {
        "colab": {
          "base_uri": "https://localhost:8080/",
          "height": 281
        },
        "id": "f51IYoOeAffX",
        "outputId": "26775a06-0943-4309-b146-b1fe276b68ea"
      },
      "execution_count": 23,
      "outputs": [
        {
          "output_type": "display_data",
          "data": {
            "text/plain": [
              "<Figure size 432x288 with 1 Axes>"
            ],
            "image/png": "[encoded data removed]"
          },
          "metadata": {
            "needs_background": "light"
          }
        }
      ]
    },
    {
      "cell_type": "markdown",
      "source": [
        " - Sigmoid"
      ],
      "metadata": {
        "id": "5NYHPm6TAz8n"
      }
    },
    {
      "cell_type": "code",
      "source": [
        "def sigmoid(x):\n",
        "    return 1/ (1+np.exp(-x))"
      ],
      "metadata": {
        "id": "EJzftJMSAltA"
      },
      "execution_count": 24,
      "outputs": []
    },
    {
      "cell_type": "code",
      "source": [
        "plt.plot(xs,sigmoid(xs))\n",
        "plt.grid()\n",
        "plt.title('sigmoid')\n",
        "plt.show()"
      ],
      "metadata": {
        "colab": {
          "base_uri": "https://localhost:8080/",
          "height": 281
        },
        "id": "dF_HRwD-A-IZ",
        "outputId": "f0e30192-e52c-4774-dd16-a8829fa3e3ed"
      },
      "execution_count": 25,
      "outputs": [
        {
          "output_type": "display_data",
          "data": {
            "text/plain": [
              "<Figure size 432x288 with 1 Axes>"
            ],
            "image/png": "[encoded data removed]"
          },
          "metadata": {
            "needs_background": "light"
          }
        }
      ]
    },
    {
      "cell_type": "markdown",
      "source": [
        " - Hyperbolic tangent"
      ],
      "metadata": {
        "id": "AA2-MYxgBOPX"
      }
    },
    {
      "cell_type": "code",
      "source": [
        "plt.plot(xs,np.tanh(xs))\n",
        "plt.grid()\n",
        "plt.title('hyperbolic tangent')\n",
        "plt.show()"
      ],
      "metadata": {
        "colab": {
          "base_uri": "https://localhost:8080/",
          "height": 281
        },
        "id": "GdsbWLXmBCX-",
        "outputId": "b7fbb6c8-3b5d-47fa-ccbc-66c0aba5f378"
      },
      "execution_count": 26,
      "outputs": [
        {
          "output_type": "display_data",
          "data": {
            "text/plain": [
              "<Figure size 432x288 with 1 Axes>"
            ],
            "image/png": "[encoded data removed]"
          },
          "metadata": {
            "needs_background": "light"
          }
        }
      ]
    },
    {
      "cell_type": "markdown",
      "source": [
        " - Relu(rectified linear unit)"
      ],
      "metadata": {
        "id": "f9rUGsC-Brmy"
      }
    },
    {
      "cell_type": "code",
      "source": [
        "def relu(x):\n",
        "    return np.maximum(0, x)"
      ],
      "metadata": {
        "id": "vLyHzmrNBc_k"
      },
      "execution_count": 27,
      "outputs": []
    },
    {
      "cell_type": "code",
      "source": [
        "plt.plot(xs,relu(xs))\n",
        "plt.grid()\n",
        "plt.title('relu')\n",
        "plt.show()"
      ],
      "metadata": {
        "colab": {
          "base_uri": "https://localhost:8080/",
          "height": 281
        },
        "id": "fhnBV6hLB9NA",
        "outputId": "3d70c115-ca97-4252-e629-9ee9ac056df9"
      },
      "execution_count": 28,
      "outputs": [
        {
          "output_type": "display_data",
          "data": {
            "text/plain": [
              "<Figure size 432x288 with 1 Axes>"
            ],
            "image/png": "[encoded data removed]"
          },
          "metadata": {
            "needs_background": "light"
          }
        }
      ]
    },
    {
      "cell_type": "markdown",
      "source": [
        " - Leaky relu"
      ],
      "metadata": {
        "id": "C7n5l2h3CYlO"
      }
    },
    {
      "cell_type": "code",
      "source": [
        "def leaky_relu(x):\n",
        "    return np.maximum(0.01*x, x)"
      ],
      "metadata": {
        "id": "8BaeScGhCFN5"
      },
      "execution_count": 29,
      "outputs": []
    },
    {
      "cell_type": "code",
      "source": [
        "plt.plot(xs,leaky_relu(xs))\n",
        "plt.grid()\n",
        "plt.title('leaky relu')\n",
        "plt.show()"
      ],
      "metadata": {
        "colab": {
          "base_uri": "https://localhost:8080/",
          "height": 281
        },
        "id": "mXgrDZalCpQ_",
        "outputId": "2a235613-9661-4f83-deaf-84e1a30946d6"
      },
      "execution_count": 30,
      "outputs": [
        {
          "output_type": "display_data",
          "data": {
            "text/plain": [
              "<Figure size 432x288 with 1 Axes>"
            ],
            "image/png": "[encoded data removed]"
          },
          "metadata": {
            "needs_background": "light"
          }
        }
      ]
    },
    {
      "cell_type": "markdown",
      "source": [
        " - Soft plus"
      ],
      "metadata": {
        "id": "mY-X-GvJC6Ro"
      }
    },
    {
      "cell_type": "code",
      "source": [
        "def soft_plus(x):\n",
        "    return np.log(1+np.exp(x))"
      ],
      "metadata": {
        "id": "VcEPsOIBCtdH"
      },
      "execution_count": 31,
      "outputs": []
    },
    {
      "cell_type": "code",
      "source": [
        "plt.plot(xs,soft_plus(xs))\n",
        "plt.grid()\n",
        "plt.title('Soft plus')\n",
        "plt.show()"
      ],
      "metadata": {
        "colab": {
          "base_uri": "https://localhost:8080/",
          "height": 281
        },
        "id": "FSd_RTLeDIso",
        "outputId": "dc0dc9db-b141-4bc6-9aa6-b6def610ca14"
      },
      "execution_count": 32,
      "outputs": [
        {
          "output_type": "display_data",
          "data": {
            "text/plain": [
              "<Figure size 432x288 with 1 Axes>"
            ],
            "image/png": "[encoded data removed]"
          },
          "metadata": {
            "needs_background": "light"
          }
        }
      ]
    },
    {
      "cell_type": "markdown",
      "source": [
        "- soft max"
      ],
      "metadata": {
        "id": "h8hkFWU-Fmud"
      }
    },
    {
      "cell_type": "code",
      "source": [
        "def softmax(x):\n",
        "    x = x - np.max(x)\n",
        "    return np.exp(x) / np.sum(np.exp(x))"
      ],
      "metadata": {
        "id": "JKWbRcYADNGd"
      },
      "execution_count": 36,
      "outputs": []
    },
    {
      "cell_type": "code",
      "source": [
        "yhat = np.array([-1,1,3])\n",
        "softmax(yhat)"
      ],
      "metadata": {
        "colab": {
          "base_uri": "https://localhost:8080/"
        },
        "id": "uXd_BvudFwgZ",
        "outputId": "36ce1534-8b13-4abd-af9b-50f47f47d796"
      },
      "execution_count": 37,
      "outputs": [
        {
          "output_type": "execute_result",
          "data": {
            "text/plain": [
              "array([0.01587624, 0.11731043, 0.86681333])"
            ]
          },
          "metadata": {},
          "execution_count": 37
        }
      ]
    },
    {
      "cell_type": "code",
      "source": [
        "np.sum(softmax(yhat))"
      ],
      "metadata": {
        "colab": {
          "base_uri": "https://localhost:8080/"
        },
        "id": "D0SplaxbF4Sc",
        "outputId": "eca834d1-c5eb-408b-9021-d6d4898adea4"
      },
      "execution_count": 38,
      "outputs": [
        {
          "output_type": "execute_result",
          "data": {
            "text/plain": [
              "1.0"
            ]
          },
          "metadata": {},
          "execution_count": 38
        }
      ]
    },
    {
      "cell_type": "code",
      "source": [
        ""
      ],
      "metadata": {
        "id": "FZofcDvUF85s"
      },
      "execution_count": null,
      "outputs": []
    }
  ]
}