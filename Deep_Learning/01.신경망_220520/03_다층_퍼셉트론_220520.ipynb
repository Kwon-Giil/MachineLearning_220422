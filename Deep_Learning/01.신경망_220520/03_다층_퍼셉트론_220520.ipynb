{
  "nbformat": 4,
  "nbformat_minor": 0,
  "metadata": {
    "colab": {
      "name": "03_다층 퍼셉트론_220520.ipynb",
      "provenance": [],
      "collapsed_sections": []
    },
    "kernelspec": {
      "name": "python3",
      "display_name": "Python 3"
    },
    "language_info": {
      "name": "python"
    }
  },
  "cells": [
    {
      "cell_type": "markdown",
      "source": [
        "# Multi Layer Peceptron (MLP)"
      ],
      "metadata": {
        "id": "dpnU3WOr3cHl"
      }
    },
    {
      "cell_type": "code",
      "execution_count": 1,
      "metadata": {
        "id": "RCKkXs9c3Jlb"
      },
      "outputs": [],
      "source": [
        "import numpy as np"
      ]
    },
    {
      "cell_type": "markdown",
      "source": [
        " - AND 게이트"
      ],
      "metadata": {
        "id": "rkc0XxXq3tNq"
      }
    },
    {
      "cell_type": "code",
      "source": [
        "weight = np.array([1,1])\n",
        "bias = -1\n",
        "\n",
        "for x1, x2 in [(0,0), (0,1), (1,0), (1,1)]:\n",
        "    sum = weight[0] * x1 + weight[1] * x2 + bias\n",
        "    print(sum)"
      ],
      "metadata": {
        "colab": {
          "base_uri": "https://localhost:8080/"
        },
        "id": "nVeYp_e-3ibp",
        "outputId": "0e86323f-5cb3-4adc-8544-0983fd19bf05"
      },
      "execution_count": 2,
      "outputs": [
        {
          "output_type": "stream",
          "name": "stdout",
          "text": [
            "-1\n",
            "0\n",
            "0\n",
            "1\n"
          ]
        }
      ]
    },
    {
      "cell_type": "code",
      "source": [
        "# Step 활성화 함수\n",
        "for x1, x2 in [(0,0), (0,1), (1,0), (1,1)]:\n",
        "    sum = weight[0] * x1 + weight[1] * x2 + bias\n",
        "    print(0 if sum <=0 else 1)"
      ],
      "metadata": {
        "colab": {
          "base_uri": "https://localhost:8080/"
        },
        "id": "XGq-qshZ4JoF",
        "outputId": "beaa0fda-44f6-4b6e-e050-5c8daa8ac538"
      },
      "execution_count": 3,
      "outputs": [
        {
          "output_type": "stream",
          "name": "stdout",
          "text": [
            "0\n",
            "0\n",
            "0\n",
            "1\n"
          ]
        }
      ]
    },
    {
      "cell_type": "code",
      "source": [
        "for x1, x2 in [(0,0), (0,1), (1,0), (1,1)]:\n",
        "   x = np.array([x1,x2])\n",
        "   sum = np.dot(weight, x) + bias\n",
        "   print(0 if sum <=0 else 1)"
      ],
      "metadata": {
        "colab": {
          "base_uri": "https://localhost:8080/"
        },
        "id": "sjsY49tK4Zr4",
        "outputId": "c43e3bae-b7c8-40c7-80cb-614fe81c05e4"
      },
      "execution_count": 4,
      "outputs": [
        {
          "output_type": "stream",
          "name": "stdout",
          "text": [
            "0\n",
            "0\n",
            "0\n",
            "1\n"
          ]
        }
      ]
    },
    {
      "cell_type": "code",
      "source": [
        "# And 게이트를 함수로 정의\n",
        "def AND_Gate(x1, x2):\n",
        "    weight = np.array([1,1])\n",
        "    bias = -1\n",
        "    x = np.array([x1,x2])\n",
        "    sum = np.dot(weight, x) + bias\n",
        "    return 0 if sum <=0 else 1"
      ],
      "metadata": {
        "id": "YqhnltGR43ni"
      },
      "execution_count": 5,
      "outputs": []
    },
    {
      "cell_type": "code",
      "source": [
        "for x1, x2 in [(0,0), (0,1), (1,0), (1,1)]:\n",
        "    print(AND_Gate(x1, x2))"
      ],
      "metadata": {
        "colab": {
          "base_uri": "https://localhost:8080/"
        },
        "id": "s8PEhl-i5TYb",
        "outputId": "44b39b74-8aff-4522-b9b5-592daaa30a4b"
      },
      "execution_count": 6,
      "outputs": [
        {
          "output_type": "stream",
          "name": "stdout",
          "text": [
            "0\n",
            "0\n",
            "0\n",
            "1\n"
          ]
        }
      ]
    },
    {
      "cell_type": "markdown",
      "source": [
        " - or 게이트\n"
      ],
      "metadata": {
        "id": "de8S0PXI5fXx"
      }
    },
    {
      "cell_type": "code",
      "source": [
        "# And 게이트를 함수로 정의\n",
        "def OR_Gate(x1, x2):\n",
        "    weight = np.array([2,2])\n",
        "    bias = -1\n",
        "    x = np.array([x1,x2])\n",
        "    sum = np.dot(weight, x) + bias\n",
        "    return 0 if sum <=0 else 1"
      ],
      "metadata": {
        "id": "MjirNysr5al3"
      },
      "execution_count": 7,
      "outputs": []
    },
    {
      "cell_type": "code",
      "source": [
        "for x1, x2 in [(0,0), (0,1), (1,0), (1,1)]:\n",
        "    print(OR_Gate(x1, x2))"
      ],
      "metadata": {
        "colab": {
          "base_uri": "https://localhost:8080/"
        },
        "id": "0rue-BX75mPW",
        "outputId": "1301ad2b-349a-4c2b-bf91-01ac8612e68c"
      },
      "execution_count": 8,
      "outputs": [
        {
          "output_type": "stream",
          "name": "stdout",
          "text": [
            "0\n",
            "1\n",
            "1\n",
            "1\n"
          ]
        }
      ]
    },
    {
      "cell_type": "markdown",
      "source": [
        " - NAND 게이트"
      ],
      "metadata": {
        "id": "Pf9DaNRK51m6"
      }
    },
    {
      "cell_type": "code",
      "source": [
        "def NAND_Gate(x1, x2):\n",
        "    weight = np.array([-2,-2])\n",
        "    bias = 3\n",
        "    x = np.array([x1,x2])\n",
        "    sum = np.dot(weight, x) + bias\n",
        "    return 0 if sum <=0 else 1"
      ],
      "metadata": {
        "id": "xP9tPQZR5u2y"
      },
      "execution_count": 17,
      "outputs": []
    },
    {
      "cell_type": "code",
      "source": [
        "for x1, x2 in [(0,0), (0,1), (1,0), (1,1)]:\n",
        "    print(NAND_Gate(x1, x2))"
      ],
      "metadata": {
        "colab": {
          "base_uri": "https://localhost:8080/"
        },
        "id": "36guObrd5_dv",
        "outputId": "f84e8ca4-4181-424d-edc6-e2dead57ffae"
      },
      "execution_count": 10,
      "outputs": [
        {
          "output_type": "stream",
          "name": "stdout",
          "text": [
            "1\n",
            "1\n",
            "1\n",
            "0\n"
          ]
        }
      ]
    },
    {
      "cell_type": "markdown",
      "source": [
        " - MLP"
      ],
      "metadata": {
        "id": "ADC9KNTTg8yR"
      }
    },
    {
      "cell_type": "code",
      "source": [
        "n1, n2 = [], []\n",
        "for x1, x2 in [(0,0), (0,1), (1,0), (1,1)]:\n",
        "    n1.append(NAND_Gate(x1, x2))\n",
        "    n2.append(OR_Gate(x1,x2))\n",
        "\n",
        "n1, n2"
      ],
      "metadata": {
        "id": "zn2eOeML6BKF",
        "colab": {
          "base_uri": "https://localhost:8080/"
        },
        "outputId": "cbf9d621-80e9-4fb0-d245-936167b9e994"
      },
      "execution_count": 11,
      "outputs": [
        {
          "output_type": "execute_result",
          "data": {
            "text/plain": [
              "([1, 1, 1, 0], [0, 1, 1, 1])"
            ]
          },
          "metadata": {},
          "execution_count": 11
        }
      ]
    },
    {
      "cell_type": "code",
      "source": [
        "for x1, x2 in zip(n1, n2):\n",
        "    print(AND_Gate(x1, x2))"
      ],
      "metadata": {
        "colab": {
          "base_uri": "https://localhost:8080/"
        },
        "id": "IPqlGzSmhccu",
        "outputId": "d5c40399-9266-4c98-f1cc-c97aab736429"
      },
      "execution_count": 12,
      "outputs": [
        {
          "output_type": "stream",
          "name": "stdout",
          "text": [
            "0\n",
            "1\n",
            "1\n",
            "0\n"
          ]
        }
      ]
    },
    {
      "cell_type": "markdown",
      "source": [
        " - XOR Gate"
      ],
      "metadata": {
        "id": "PnS070zbhnn-"
      }
    },
    {
      "cell_type": "code",
      "source": [
        "def XOR_Gate(x1, x2):\n",
        "    return AND_Gate(NAND_Gate(x1, x2), OR_Gate(x1, x2))"
      ],
      "metadata": {
        "id": "7_o-uDdIhkjp"
      },
      "execution_count": 19,
      "outputs": []
    },
    {
      "cell_type": "code",
      "source": [
        "print('x1, x2\\tn1, n2\\tXOR')\n",
        "for x1, x2 in [(0,0), (0,1), (1,0), (1,1)]:\n",
        "     print(f'{x1:2d},{x2:2d}\\t{NAND_Gate(x1,x2):2d},{OR_Gate(x1,x2):2d}\\t{XOR_Gate(x1,x2):3d}')"
      ],
      "metadata": {
        "colab": {
          "base_uri": "https://localhost:8080/"
        },
        "id": "pJgguVHrhxWq",
        "outputId": "615aa106-0e68-4bd0-a0ee-d469ee3a1415"
      },
      "execution_count": 20,
      "outputs": [
        {
          "output_type": "stream",
          "name": "stdout",
          "text": [
            "x1, x2\tn1, n2\tXOR\n",
            " 0, 0\t 1, 0\t  0\n",
            " 0, 1\t 1, 1\t  1\n",
            " 1, 0\t 1, 1\t  1\n",
            " 1, 1\t 0, 1\t  0\n"
          ]
        }
      ]
    },
    {
      "cell_type": "code",
      "source": [
        ""
      ],
      "metadata": {
        "id": "WYVvmOj4iagT"
      },
      "execution_count": null,
      "outputs": []
    }
  ]
}