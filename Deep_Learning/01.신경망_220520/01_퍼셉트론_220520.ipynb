{
  "nbformat": 4,
  "nbformat_minor": 0,
  "metadata": {
    "colab": {
      "name": "01_퍼셉트론_220520.ipynb",
      "provenance": [],
      "collapsed_sections": []
    },
    "kernelspec": {
      "name": "python3",
      "display_name": "Python 3"
    },
    "language_info": {
      "name": "python"
    }
  },
  "cells": [
    {
      "cell_type": "markdown",
      "source": [
        "# Peceptron"
      ],
      "metadata": {
        "id": "dpnU3WOr3cHl"
      }
    },
    {
      "cell_type": "code",
      "execution_count": 1,
      "metadata": {
        "id": "RCKkXs9c3Jlb"
      },
      "outputs": [],
      "source": [
        "import numpy as np"
      ]
    },
    {
      "cell_type": "markdown",
      "source": [
        " - AND 게이트"
      ],
      "metadata": {
        "id": "rkc0XxXq3tNq"
      }
    },
    {
      "cell_type": "code",
      "source": [
        "weight = np.array([1,1])\n",
        "bias = -1\n",
        "\n",
        "for x1, x2 in [(0,0), (0,1), (1,0), (1,1)]:\n",
        "    sum = weight[0] * x1 + weight[1] * x2 + bias\n",
        "    print(sum)"
      ],
      "metadata": {
        "colab": {
          "base_uri": "https://localhost:8080/"
        },
        "id": "nVeYp_e-3ibp",
        "outputId": "07c3b3d5-d399-4030-8aeb-e3702a2dfde2"
      },
      "execution_count": 2,
      "outputs": [
        {
          "output_type": "stream",
          "name": "stdout",
          "text": [
            "-1\n",
            "0\n",
            "0\n",
            "1\n"
          ]
        }
      ]
    },
    {
      "cell_type": "code",
      "source": [
        "# Step 활성화 함수\n",
        "for x1, x2 in [(0,0), (0,1), (1,0), (1,1)]:\n",
        "    sum = weight[0] * x1 + weight[1] * x2 + bias\n",
        "    print(0 if sum <=0 else 1)"
      ],
      "metadata": {
        "colab": {
          "base_uri": "https://localhost:8080/"
        },
        "id": "XGq-qshZ4JoF",
        "outputId": "362dc2b1-2f91-48af-a7b5-e690bff29e13"
      },
      "execution_count": 3,
      "outputs": [
        {
          "output_type": "stream",
          "name": "stdout",
          "text": [
            "0\n",
            "0\n",
            "0\n",
            "1\n"
          ]
        }
      ]
    },
    {
      "cell_type": "code",
      "source": [
        "for x1, x2 in [(0,0), (0,1), (1,0), (1,1)]:\n",
        "   x = np.array([x1,x2])\n",
        "   sum = np.dot(weight, x) + bias\n",
        "   print(0 if sum <=0 else 1)"
      ],
      "metadata": {
        "colab": {
          "base_uri": "https://localhost:8080/"
        },
        "id": "sjsY49tK4Zr4",
        "outputId": "cf499849-3f7e-4f61-d4ae-65ba22203822"
      },
      "execution_count": 5,
      "outputs": [
        {
          "output_type": "stream",
          "name": "stdout",
          "text": [
            "0\n",
            "0\n",
            "0\n",
            "1\n"
          ]
        }
      ]
    },
    {
      "cell_type": "code",
      "source": [
        "# And 게이트를 함수로 정의\n",
        "def AND_Gate(x1, x2):\n",
        "    weight = np.array([1,1])\n",
        "    bias = -1\n",
        "    x = np.array([x1,x2])\n",
        "    sum = np.dot(weight, x) + bias\n",
        "    return 0 if sum <=0 else 1"
      ],
      "metadata": {
        "id": "YqhnltGR43ni"
      },
      "execution_count": 6,
      "outputs": []
    },
    {
      "cell_type": "code",
      "source": [
        "for x1, x2 in [(0,0), (0,1), (1,0), (1,1)]:\n",
        "    print(AND_Gate(x1, x2))"
      ],
      "metadata": {
        "colab": {
          "base_uri": "https://localhost:8080/"
        },
        "id": "s8PEhl-i5TYb",
        "outputId": "2fd55b64-8303-4a62-f996-d5b0ddc38a4b"
      },
      "execution_count": 10,
      "outputs": [
        {
          "output_type": "stream",
          "name": "stdout",
          "text": [
            "0\n",
            "0\n",
            "0\n",
            "1\n"
          ]
        }
      ]
    },
    {
      "cell_type": "markdown",
      "source": [
        " - or 게이트\n"
      ],
      "metadata": {
        "id": "de8S0PXI5fXx"
      }
    },
    {
      "cell_type": "code",
      "source": [
        "# And 게이트를 함수로 정의\n",
        "def OR_Gate(x1, x2):\n",
        "    weight = np.array([2,2])\n",
        "    bias = -1\n",
        "    x = np.array([x1,x2])\n",
        "    sum = np.dot(weight, x) + bias\n",
        "    return 0 if sum <=0 else 1"
      ],
      "metadata": {
        "id": "MjirNysr5al3"
      },
      "execution_count": 8,
      "outputs": []
    },
    {
      "cell_type": "code",
      "source": [
        "for x1, x2 in [(0,0), (0,1), (1,0), (1,1)]:\n",
        "    print(OR_Gate(x1, x2))"
      ],
      "metadata": {
        "colab": {
          "base_uri": "https://localhost:8080/"
        },
        "id": "0rue-BX75mPW",
        "outputId": "bb92e618-fa17-4dc3-e2ab-9a75530e63c2"
      },
      "execution_count": 9,
      "outputs": [
        {
          "output_type": "stream",
          "name": "stdout",
          "text": [
            "0\n",
            "1\n",
            "1\n",
            "1\n"
          ]
        }
      ]
    },
    {
      "cell_type": "markdown",
      "source": [
        " - NAND 게이트"
      ],
      "metadata": {
        "id": "Pf9DaNRK51m6"
      }
    },
    {
      "cell_type": "code",
      "source": [
        "def NAND_Gate(x1, x2):\n",
        "    weight = np.array([-2,-2])\n",
        "    bias = 3\n",
        "    x = np.array([x1,x2])\n",
        "    sum = np.dot(weight, x) + bias\n",
        "    return 0 if sum <=0 else 1"
      ],
      "metadata": {
        "id": "xP9tPQZR5u2y"
      },
      "execution_count": 11,
      "outputs": []
    },
    {
      "cell_type": "code",
      "source": [
        "for x1, x2 in [(0,0), (0,1), (1,0), (1,1)]:\n",
        "    print(NAND_Gate(x1, x2))"
      ],
      "metadata": {
        "colab": {
          "base_uri": "https://localhost:8080/"
        },
        "id": "36guObrd5_dv",
        "outputId": "79ba850e-b760-45c3-e6fb-620e588f1543"
      },
      "execution_count": 12,
      "outputs": [
        {
          "output_type": "stream",
          "name": "stdout",
          "text": [
            "1\n",
            "1\n",
            "1\n",
            "0\n"
          ]
        }
      ]
    },
    {
      "cell_type": "code",
      "source": [
        ""
      ],
      "metadata": {
        "id": "zn2eOeML6BKF"
      },
      "execution_count": null,
      "outputs": []
    }
  ]
}