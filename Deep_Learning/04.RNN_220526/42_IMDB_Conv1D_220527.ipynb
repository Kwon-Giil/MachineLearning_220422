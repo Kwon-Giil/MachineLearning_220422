{
  "nbformat": 4,
  "nbformat_minor": 0,
  "metadata": {
    "colab": {
      "name": "42_IMDB_Conv1D_220527.ipynb",
      "provenance": []
    },
    "kernelspec": {
      "name": "python3",
      "display_name": "Python 3"
    },
    "language_info": {
      "name": "python"
    },
    "accelerator": "GPU"
  },
  "cells": [
    {
      "cell_type": "markdown",
      "source": [
        "# IMDB 영화 리뷰 감성 분석 - Conv1D\n",
        " - Conv1D + Conv1D + Dense\n",
        " - Conv1D + LSTM + Dense\n",
        " - Conv1D + Dense + Dense"
      ],
      "metadata": {
        "id": "2HOJpuTZCQha"
      }
    },
    {
      "cell_type": "code",
      "execution_count": 1,
      "metadata": {
        "id": "1cly54u6CMnD"
      },
      "outputs": [],
      "source": [
        "import numpy as np\n",
        "import tensorflow as tf\n",
        "seed = 2022\n",
        "np.random.seed(seed)\n",
        "tf.random.set_seed(seed)"
      ]
    },
    {
      "cell_type": "code",
      "source": [
        "from tensorflow.keras.datasets import imdb\n",
        "from tensorflow.keras.models import Sequential, load_model\n",
        "from tensorflow.keras.layers import Embedding, LSTM, Dense\n",
        "from tensorflow.keras.callbacks import ModelCheckpoint, EarlyStopping\n",
        "from tensorflow.keras.preprocessing.sequence import pad_sequences\n",
        "from sklearn.model_selection import train_test_split\n",
        "from tensorflow.keras.layers import Conv1D, MaxPooling1D, GlobalMaxPooling1D, Dropout"
      ],
      "metadata": {
        "id": "ic3vIoVhCyQC"
      },
      "execution_count": 2,
      "outputs": []
    },
    {
      "cell_type": "code",
      "source": [
        "num_words=10000\n",
        "(X_train, y_train),(_,_) = imdb.load_data(num_words=num_words)\n",
        "\n",
        "X_train, X_test, y_train, y_test = train_test_split(X_train, y_train, stratify=y_train, test_size=0.2, random_state=seed)\n",
        "X_train.shape, X_test.shape, y_train.shape, y_test.shape"
      ],
      "metadata": {
        "colab": {
          "base_uri": "https://localhost:8080/"
        },
        "id": "UgwI_LxYDB9_",
        "outputId": "bccd1076-ff4f-4024-fab1-bb04893cac13"
      },
      "execution_count": 3,
      "outputs": [
        {
          "output_type": "stream",
          "name": "stdout",
          "text": [
            "Downloading data from https://storage.googleapis.com/tensorflow/tf-keras-datasets/imdb.npz\n",
            "17465344/17464789 [==============================] - 0s 0us/step\n",
            "17473536/17464789 [==============================] - 0s 0us/step\n"
          ]
        },
        {
          "output_type": "execute_result",
          "data": {
            "text/plain": [
              "((20000,), (5000,), (20000,), (5000,))"
            ]
          },
          "metadata": {},
          "execution_count": 3
        }
      ]
    },
    {
      "cell_type": "code",
      "source": [
        "max_len = 500\n",
        "X_train = pad_sequences(X_train, maxlen=max_len)\n",
        "X_test = pad_sequences(X_test, maxlen=max_len)\n",
        "X_train.shape, X_test.shape"
      ],
      "metadata": {
        "colab": {
          "base_uri": "https://localhost:8080/"
        },
        "id": "yIsaFcG-DGWq",
        "outputId": "abd5c41f-504a-463c-9880-29c2f564862b"
      },
      "execution_count": 4,
      "outputs": [
        {
          "output_type": "execute_result",
          "data": {
            "text/plain": [
              "((20000, 500), (5000, 500))"
            ]
          },
          "metadata": {},
          "execution_count": 4
        }
      ]
    },
    {
      "cell_type": "markdown",
      "source": [
        " - case1: Conv1D + Conv1D"
      ],
      "metadata": {
        "id": "ftns0f8ZDMwE"
      }
    },
    {
      "cell_type": "code",
      "source": [
        "model1 = Sequential([\n",
        "                     Embedding(num_words, 100, input_length=max_len),\n",
        "                     Dropout(0.5),\n",
        "                     Conv1D(64, 7, activation='relu'),\n",
        "                     MaxPooling1D(7),\n",
        "                     Conv1D(64, 5, activation='relu'),\n",
        "                     MaxPooling1D(5),\n",
        "                     GlobalMaxPooling1D(),\n",
        "                     Dense(1, activation='sigmoid')\n",
        "                     ])\n",
        "model1.summary()"
      ],
      "metadata": {
        "colab": {
          "base_uri": "https://localhost:8080/"
        },
        "id": "pguRpZSADKN8",
        "outputId": "db99b083-5814-4a5d-dbfd-5a858ca7889a"
      },
      "execution_count": 5,
      "outputs": [
        {
          "output_type": "stream",
          "name": "stdout",
          "text": [
            "Model: \"sequential\"\n",
            "_________________________________________________________________\n",
            " Layer (type)                Output Shape              Param #   \n",
            "=================================================================\n",
            " embedding (Embedding)       (None, 500, 100)          1000000   \n",
            "                                                                 \n",
            " dropout (Dropout)           (None, 500, 100)          0         \n",
            "                                                                 \n",
            " conv1d (Conv1D)             (None, 494, 64)           44864     \n",
            "                                                                 \n",
            " max_pooling1d (MaxPooling1D  (None, 70, 64)           0         \n",
            " )                                                               \n",
            "                                                                 \n",
            " conv1d_1 (Conv1D)           (None, 66, 64)            20544     \n",
            "                                                                 \n",
            " max_pooling1d_1 (MaxPooling  (None, 13, 64)           0         \n",
            " 1D)                                                             \n",
            "                                                                 \n",
            " global_max_pooling1d (Globa  (None, 64)               0         \n",
            " lMaxPooling1D)                                                  \n",
            "                                                                 \n",
            " dense (Dense)               (None, 1)                 65        \n",
            "                                                                 \n",
            "=================================================================\n",
            "Total params: 1,065,473\n",
            "Trainable params: 1,065,473\n",
            "Non-trainable params: 0\n",
            "_________________________________________________________________\n"
          ]
        }
      ]
    },
    {
      "cell_type": "markdown",
      "source": [
        " - case2: Conv1D +LSTM"
      ],
      "metadata": {
        "id": "Do9E_No_GYSc"
      }
    },
    {
      "cell_type": "code",
      "source": [
        "model2 = Sequential([\n",
        "                     Embedding(num_words, 100, input_length=max_len),\n",
        "                     Dropout(0.5),\n",
        "                     Conv1D(64, 5, activation='relu'),\n",
        "                     MaxPooling1D(5),\n",
        "                     LSTM(100),\n",
        "                     Dense(1, activation='sigmoid')\n",
        "                     ])\n",
        "model2.summary()"
      ],
      "metadata": {
        "colab": {
          "base_uri": "https://localhost:8080/"
        },
        "id": "lUQT5yoHEaaQ",
        "outputId": "646c2ece-53dd-4214-dad4-10f1b6409c45"
      },
      "execution_count": 6,
      "outputs": [
        {
          "output_type": "stream",
          "name": "stdout",
          "text": [
            "Model: \"sequential_1\"\n",
            "_________________________________________________________________\n",
            " Layer (type)                Output Shape              Param #   \n",
            "=================================================================\n",
            " embedding_1 (Embedding)     (None, 500, 100)          1000000   \n",
            "                                                                 \n",
            " dropout_1 (Dropout)         (None, 500, 100)          0         \n",
            "                                                                 \n",
            " conv1d_2 (Conv1D)           (None, 496, 64)           32064     \n",
            "                                                                 \n",
            " max_pooling1d_2 (MaxPooling  (None, 99, 64)           0         \n",
            " 1D)                                                             \n",
            "                                                                 \n",
            " lstm (LSTM)                 (None, 100)               66000     \n",
            "                                                                 \n",
            " dense_1 (Dense)             (None, 1)                 101       \n",
            "                                                                 \n",
            "=================================================================\n",
            "Total params: 1,098,165\n",
            "Trainable params: 1,098,165\n",
            "Non-trainable params: 0\n",
            "_________________________________________________________________\n"
          ]
        }
      ]
    },
    {
      "cell_type": "markdown",
      "source": [
        " - case3: Conv1D + Dense + Dense"
      ],
      "metadata": {
        "id": "xaX7W_2_HUvN"
      }
    },
    {
      "cell_type": "code",
      "source": [
        "model3 = Sequential([\n",
        "                     Embedding(num_words, 100, input_length=max_len),\n",
        "                     Dropout(0.5),\n",
        "                     Conv1D(64, 5, activation='relu'),\n",
        "                     MaxPooling1D(5),\n",
        "                     GlobalMaxPooling1D(),\n",
        "                     Dense(100, activation='relu'),\n",
        "                     Dense(1, activation='sigmoid')\n",
        "                     ])\n",
        "model3.summary()"
      ],
      "metadata": {
        "colab": {
          "base_uri": "https://localhost:8080/"
        },
        "id": "t6mJGVmlG5NP",
        "outputId": "c3d75756-4533-44fc-a95e-185bd6d18f84"
      },
      "execution_count": 7,
      "outputs": [
        {
          "output_type": "stream",
          "name": "stdout",
          "text": [
            "Model: \"sequential_2\"\n",
            "_________________________________________________________________\n",
            " Layer (type)                Output Shape              Param #   \n",
            "=================================================================\n",
            " embedding_2 (Embedding)     (None, 500, 100)          1000000   \n",
            "                                                                 \n",
            " dropout_2 (Dropout)         (None, 500, 100)          0         \n",
            "                                                                 \n",
            " conv1d_3 (Conv1D)           (None, 496, 64)           32064     \n",
            "                                                                 \n",
            " max_pooling1d_3 (MaxPooling  (None, 99, 64)           0         \n",
            " 1D)                                                             \n",
            "                                                                 \n",
            " global_max_pooling1d_1 (Glo  (None, 64)               0         \n",
            " balMaxPooling1D)                                                \n",
            "                                                                 \n",
            " dense_2 (Dense)             (None, 100)               6500      \n",
            "                                                                 \n",
            " dense_3 (Dense)             (None, 1)                 101       \n",
            "                                                                 \n",
            "=================================================================\n",
            "Total params: 1,038,665\n",
            "Trainable params: 1,038,665\n",
            "Non-trainable params: 0\n",
            "_________________________________________________________________\n"
          ]
        }
      ]
    },
    {
      "cell_type": "code",
      "source": [
        "model1.compile('adam', 'binary_crossentropy', ['accuracy'])\n",
        "model_path1 = 'best_imdb_conv1d.h5'\n",
        "mc1 = ModelCheckpoint(model_path1, verbose=1, save_best_only=True)\n",
        "es1 = EarlyStopping(patience=5)"
      ],
      "metadata": {
        "id": "kGTXHyGBHwdX"
      },
      "execution_count": 8,
      "outputs": []
    },
    {
      "cell_type": "code",
      "source": [
        "hist1 = model1.fit(X_train, y_train, validation_split=0.2, epochs=30, batch_size=64, callbacks=[mc1,es1])"
      ],
      "metadata": {
        "colab": {
          "base_uri": "https://localhost:8080/"
        },
        "id": "baIDt1snImYR",
        "outputId": "c632ca26-715f-488e-e502-465d8c8b17bd"
      },
      "execution_count": 9,
      "outputs": [
        {
          "output_type": "stream",
          "name": "stdout",
          "text": [
            "Epoch 1/30\n",
            "244/250 [============================>.] - ETA: 0s - loss: 0.5617 - accuracy: 0.6733\n",
            "Epoch 1: val_loss improved from inf to 0.36129, saving model to best_imdb_conv1d.h5\n",
            "250/250 [==============================] - 14s 10ms/step - loss: 0.5565 - accuracy: 0.6778 - val_loss: 0.3613 - val_accuracy: 0.8480\n",
            "Epoch 2/30\n",
            "250/250 [==============================] - ETA: 0s - loss: 0.2876 - accuracy: 0.8816\n",
            "Epoch 2: val_loss improved from 0.36129 to 0.32399, saving model to best_imdb_conv1d.h5\n",
            "250/250 [==============================] - 2s 9ms/step - loss: 0.2876 - accuracy: 0.8816 - val_loss: 0.3240 - val_accuracy: 0.8590\n",
            "Epoch 3/30\n",
            "249/250 [============================>.] - ETA: 0s - loss: 0.1941 - accuracy: 0.9256\n",
            "Epoch 3: val_loss did not improve from 0.32399\n",
            "250/250 [==============================] - 2s 9ms/step - loss: 0.1939 - accuracy: 0.9257 - val_loss: 0.3539 - val_accuracy: 0.8560\n",
            "Epoch 4/30\n",
            "250/250 [==============================] - ETA: 0s - loss: 0.1307 - accuracy: 0.9533\n",
            "Epoch 4: val_loss did not improve from 0.32399\n",
            "250/250 [==============================] - 2s 9ms/step - loss: 0.1307 - accuracy: 0.9533 - val_loss: 0.3724 - val_accuracy: 0.8608\n",
            "Epoch 5/30\n",
            "250/250 [==============================] - ETA: 0s - loss: 0.0867 - accuracy: 0.9686\n",
            "Epoch 5: val_loss did not improve from 0.32399\n",
            "250/250 [==============================] - 2s 9ms/step - loss: 0.0867 - accuracy: 0.9686 - val_loss: 0.4568 - val_accuracy: 0.8543\n",
            "Epoch 6/30\n",
            "246/250 [============================>.] - ETA: 0s - loss: 0.0550 - accuracy: 0.9815\n",
            "Epoch 6: val_loss did not improve from 0.32399\n",
            "250/250 [==============================] - 2s 9ms/step - loss: 0.0552 - accuracy: 0.9814 - val_loss: 0.5402 - val_accuracy: 0.8558\n",
            "Epoch 7/30\n",
            "244/250 [============================>.] - ETA: 0s - loss: 0.0368 - accuracy: 0.9874\n",
            "Epoch 7: val_loss did not improve from 0.32399\n",
            "250/250 [==============================] - 2s 9ms/step - loss: 0.0374 - accuracy: 0.9872 - val_loss: 0.6120 - val_accuracy: 0.8505\n"
          ]
        }
      ]
    },
    {
      "cell_type": "code",
      "source": [
        "best_model1 = load_model(model_path1)\n",
        "best_model1.evaluate(X_test, y_test)"
      ],
      "metadata": {
        "colab": {
          "base_uri": "https://localhost:8080/"
        },
        "id": "M6LWM6x8I5L9",
        "outputId": "b960c691-463a-4b74-ae1d-a80a7caeff88"
      },
      "execution_count": 10,
      "outputs": [
        {
          "output_type": "stream",
          "name": "stdout",
          "text": [
            "157/157 [==============================] - 1s 3ms/step - loss: 0.3081 - accuracy: 0.8684\n"
          ]
        },
        {
          "output_type": "execute_result",
          "data": {
            "text/plain": [
              "[0.3081115186214447, 0.868399977684021]"
            ]
          },
          "metadata": {},
          "execution_count": 10
        }
      ]
    },
    {
      "cell_type": "code",
      "source": [
        "model2.compile('adam', 'binary_crossentropy', ['accuracy'])\n",
        "model_path2 = 'best_imdb_conv1d_lstm.h5'\n",
        "mc2 = ModelCheckpoint(model_path2, verbose=1, save_best_only=True)\n",
        "es2 = EarlyStopping(patience=5)"
      ],
      "metadata": {
        "id": "W6ki0WeuIGpD"
      },
      "execution_count": 11,
      "outputs": []
    },
    {
      "cell_type": "code",
      "source": [
        "hist2 = model2.fit(X_train, y_train, validation_split=0.2, epochs=30, batch_size=64, callbacks=[mc2,es2])"
      ],
      "metadata": {
        "colab": {
          "base_uri": "https://localhost:8080/"
        },
        "id": "7O-QG4X0IwUu",
        "outputId": "fbb46af8-d9cc-4fb6-90b6-47b90771b2dd"
      },
      "execution_count": 12,
      "outputs": [
        {
          "output_type": "stream",
          "name": "stdout",
          "text": [
            "Epoch 1/30\n",
            "249/250 [============================>.] - ETA: 0s - loss: 0.4514 - accuracy: 0.7604\n",
            "Epoch 1: val_loss improved from inf to 0.29500, saving model to best_imdb_conv1d_lstm.h5\n",
            "250/250 [==============================] - 6s 15ms/step - loss: 0.4509 - accuracy: 0.7609 - val_loss: 0.2950 - val_accuracy: 0.8888\n",
            "Epoch 2/30\n",
            "250/250 [==============================] - ETA: 0s - loss: 0.2171 - accuracy: 0.9138\n",
            "Epoch 2: val_loss improved from 0.29500 to 0.25895, saving model to best_imdb_conv1d_lstm.h5\n",
            "250/250 [==============================] - 3s 13ms/step - loss: 0.2171 - accuracy: 0.9138 - val_loss: 0.2589 - val_accuracy: 0.8963\n",
            "Epoch 3/30\n",
            "248/250 [============================>.] - ETA: 0s - loss: 0.1517 - accuracy: 0.9430\n",
            "Epoch 3: val_loss did not improve from 0.25895\n",
            "250/250 [==============================] - 3s 13ms/step - loss: 0.1515 - accuracy: 0.9432 - val_loss: 0.2801 - val_accuracy: 0.8928\n",
            "Epoch 4/30\n",
            "249/250 [============================>.] - ETA: 0s - loss: 0.0951 - accuracy: 0.9662\n",
            "Epoch 4: val_loss did not improve from 0.25895\n",
            "250/250 [==============================] - 3s 13ms/step - loss: 0.0956 - accuracy: 0.9661 - val_loss: 0.3075 - val_accuracy: 0.8863\n",
            "Epoch 5/30\n",
            "250/250 [==============================] - ETA: 0s - loss: 0.0665 - accuracy: 0.9774\n",
            "Epoch 5: val_loss did not improve from 0.25895\n",
            "250/250 [==============================] - 4s 14ms/step - loss: 0.0665 - accuracy: 0.9774 - val_loss: 0.3814 - val_accuracy: 0.8885\n",
            "Epoch 6/30\n",
            "249/250 [============================>.] - ETA: 0s - loss: 0.0517 - accuracy: 0.9828\n",
            "Epoch 6: val_loss did not improve from 0.25895\n",
            "250/250 [==============================] - 3s 14ms/step - loss: 0.0524 - accuracy: 0.9826 - val_loss: 0.4511 - val_accuracy: 0.8773\n",
            "Epoch 7/30\n",
            "246/250 [============================>.] - ETA: 0s - loss: 0.0380 - accuracy: 0.9878\n",
            "Epoch 7: val_loss did not improve from 0.25895\n",
            "250/250 [==============================] - 3s 14ms/step - loss: 0.0385 - accuracy: 0.9875 - val_loss: 0.4790 - val_accuracy: 0.8767\n"
          ]
        }
      ]
    },
    {
      "cell_type": "code",
      "source": [
        "best_model2 = load_model(model_path2)\n",
        "best_model2.evaluate(X_test, y_test)"
      ],
      "metadata": {
        "colab": {
          "base_uri": "https://localhost:8080/"
        },
        "id": "feRwTl0LI9VP",
        "outputId": "509742ad-81bd-4c15-89bd-b1cb54e438bc"
      },
      "execution_count": 13,
      "outputs": [
        {
          "output_type": "stream",
          "name": "stdout",
          "text": [
            "157/157 [==============================] - 1s 4ms/step - loss: 0.2717 - accuracy: 0.8902\n"
          ]
        },
        {
          "output_type": "execute_result",
          "data": {
            "text/plain": [
              "[0.2716953158378601, 0.8902000188827515]"
            ]
          },
          "metadata": {},
          "execution_count": 13
        }
      ]
    },
    {
      "cell_type": "code",
      "source": [
        "model3.compile('adam', 'binary_crossentropy', ['accuracy'])\n",
        "model_path3 = 'best_imdb_conv1d_dense2.h5'\n",
        "mc3 = ModelCheckpoint(model_path3, verbose=1, save_best_only=True)\n",
        "es3= EarlyStopping(patience=5)"
      ],
      "metadata": {
        "id": "Pzshuq7qIQc0"
      },
      "execution_count": 14,
      "outputs": []
    },
    {
      "cell_type": "code",
      "source": [
        "hist3 = model3.fit(X_train, y_train, validation_split=0.2, epochs=30, batch_size=64, callbacks=[mc3,es3])"
      ],
      "metadata": {
        "colab": {
          "base_uri": "https://localhost:8080/"
        },
        "id": "A4WU3sRfIztz",
        "outputId": "41c6f511-1b9b-480b-b1ab-c8277e715e0a"
      },
      "execution_count": 15,
      "outputs": [
        {
          "output_type": "stream",
          "name": "stdout",
          "text": [
            "Epoch 1/30\n",
            "246/250 [============================>.] - ETA: 0s - loss: 0.5797 - accuracy: 0.6596\n",
            "Epoch 1: val_loss improved from inf to 0.38756, saving model to best_imdb_conv1d_dense2.h5\n",
            "250/250 [==============================] - 3s 9ms/step - loss: 0.5765 - accuracy: 0.6624 - val_loss: 0.3876 - val_accuracy: 0.8285\n",
            "Epoch 2/30\n",
            "250/250 [==============================] - ETA: 0s - loss: 0.3096 - accuracy: 0.8682\n",
            "Epoch 2: val_loss improved from 0.38756 to 0.29800, saving model to best_imdb_conv1d_dense2.h5\n",
            "250/250 [==============================] - 2s 8ms/step - loss: 0.3096 - accuracy: 0.8682 - val_loss: 0.2980 - val_accuracy: 0.8802\n",
            "Epoch 3/30\n",
            "250/250 [==============================] - ETA: 0s - loss: 0.2058 - accuracy: 0.9215\n",
            "Epoch 3: val_loss improved from 0.29800 to 0.28787, saving model to best_imdb_conv1d_dense2.h5\n",
            "250/250 [==============================] - 2s 8ms/step - loss: 0.2058 - accuracy: 0.9215 - val_loss: 0.2879 - val_accuracy: 0.8867\n",
            "Epoch 4/30\n",
            "249/250 [============================>.] - ETA: 0s - loss: 0.1334 - accuracy: 0.9512\n",
            "Epoch 4: val_loss did not improve from 0.28787\n",
            "250/250 [==============================] - 2s 8ms/step - loss: 0.1335 - accuracy: 0.9511 - val_loss: 0.3147 - val_accuracy: 0.8840\n",
            "Epoch 5/30\n",
            "248/250 [============================>.] - ETA: 0s - loss: 0.0937 - accuracy: 0.9668\n",
            "Epoch 5: val_loss did not improve from 0.28787\n",
            "250/250 [==============================] - 2s 8ms/step - loss: 0.0938 - accuracy: 0.9666 - val_loss: 0.3305 - val_accuracy: 0.8885\n",
            "Epoch 6/30\n",
            "247/250 [============================>.] - ETA: 0s - loss: 0.0619 - accuracy: 0.9789\n",
            "Epoch 6: val_loss did not improve from 0.28787\n",
            "250/250 [==============================] - 2s 8ms/step - loss: 0.0619 - accuracy: 0.9788 - val_loss: 0.3677 - val_accuracy: 0.8865\n",
            "Epoch 7/30\n",
            "250/250 [==============================] - ETA: 0s - loss: 0.0443 - accuracy: 0.9845\n",
            "Epoch 7: val_loss did not improve from 0.28787\n",
            "250/250 [==============================] - 2s 8ms/step - loss: 0.0443 - accuracy: 0.9845 - val_loss: 0.4279 - val_accuracy: 0.8752\n",
            "Epoch 8/30\n",
            "246/250 [============================>.] - ETA: 0s - loss: 0.0375 - accuracy: 0.9868\n",
            "Epoch 8: val_loss did not improve from 0.28787\n",
            "250/250 [==============================] - 2s 8ms/step - loss: 0.0373 - accuracy: 0.9869 - val_loss: 0.4777 - val_accuracy: 0.8792\n"
          ]
        }
      ]
    },
    {
      "cell_type": "code",
      "source": [
        "best_model3= load_model(model_path3)\n",
        "best_model3.evaluate(X_test, y_test)"
      ],
      "metadata": {
        "colab": {
          "base_uri": "https://localhost:8080/"
        },
        "id": "TteqDb03I30g",
        "outputId": "c2f62c77-d4fd-439e-f5ac-f3b5f32a158c"
      },
      "execution_count": 16,
      "outputs": [
        {
          "output_type": "stream",
          "name": "stdout",
          "text": [
            "157/157 [==============================] - 1s 4ms/step - loss: 0.2874 - accuracy: 0.8824\n"
          ]
        },
        {
          "output_type": "execute_result",
          "data": {
            "text/plain": [
              "[0.2874262034893036, 0.8823999762535095]"
            ]
          },
          "metadata": {},
          "execution_count": 16
        }
      ]
    }
  ]
}