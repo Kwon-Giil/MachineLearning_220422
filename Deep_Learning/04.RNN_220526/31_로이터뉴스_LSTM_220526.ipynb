{
  "nbformat": 4,
  "nbformat_minor": 0,
  "metadata": {
    "colab": {
      "name": "31_로이터뉴스_LSTM_220526.ipynb",
      "provenance": [],
      "collapsed_sections": []
    },
    "kernelspec": {
      "name": "python3",
      "display_name": "Python 3"
    },
    "language_info": {
      "name": "python"
    },
    "accelerator": "GPU"
  },
  "cells": [
    {
      "cell_type": "markdown",
      "source": [
        "# 로이터 뉴스 분류하기\n"
      ],
      "metadata": {
        "id": "7etQsDouLXIu"
      }
    },
    {
      "cell_type": "markdown",
      "source": [
        " - 데이터 탐색"
      ],
      "metadata": {
        "id": "3EAMi_oTLaHx"
      }
    },
    {
      "cell_type": "code",
      "execution_count": 1,
      "metadata": {
        "id": "rMHrTs_iLR2C"
      },
      "outputs": [],
      "source": [
        "import numpy as np\n",
        "import seaborn as sns\n",
        "import matplotlib.pyplot as plt\n",
        "from tensorflow.keras.datasets import reuters"
      ]
    },
    {
      "cell_type": "code",
      "source": [
        "(X_train, y_train), (X_test, y_test) = reuters.load_data()\n",
        "len(X_train), len(X_test)"
      ],
      "metadata": {
        "colab": {
          "base_uri": "https://localhost:8080/"
        },
        "id": "06X-ByC_LnTv",
        "outputId": "ed74a084-6fe7-4a27-9014-49cf44d23ce6"
      },
      "execution_count": 2,
      "outputs": [
        {
          "output_type": "stream",
          "name": "stdout",
          "text": [
            "Downloading data from https://storage.googleapis.com/tensorflow/tf-keras-datasets/reuters.npz\n",
            "2113536/2110848 [==============================] - 0s 0us/step\n",
            "2121728/2110848 [==============================] - 0s 0us/step\n"
          ]
        },
        {
          "output_type": "execute_result",
          "data": {
            "text/plain": [
              "(8982, 2246)"
            ]
          },
          "metadata": {},
          "execution_count": 2
        }
      ]
    },
    {
      "cell_type": "code",
      "source": [
        "# 카테고리 갯수\n",
        "max(y_train)+1"
      ],
      "metadata": {
        "colab": {
          "base_uri": "https://localhost:8080/"
        },
        "id": "p7tDstz1LxjK",
        "outputId": "eb227965-a632-41ad-db94-90725ad0fe56"
      },
      "execution_count": 3,
      "outputs": [
        {
          "output_type": "execute_result",
          "data": {
            "text/plain": [
              "46"
            ]
          },
          "metadata": {},
          "execution_count": 3
        }
      ]
    },
    {
      "cell_type": "code",
      "source": [
        "# 첫번째 뉴스\n",
        "print(X_train[0])"
      ],
      "metadata": {
        "colab": {
          "base_uri": "https://localhost:8080/"
        },
        "id": "DcHAgEnuL43J",
        "outputId": "4771c3ec-8e6b-4574-8825-a762da1c847e"
      },
      "execution_count": 4,
      "outputs": [
        {
          "output_type": "stream",
          "name": "stdout",
          "text": [
            "[1, 27595, 28842, 8, 43, 10, 447, 5, 25, 207, 270, 5, 3095, 111, 16, 369, 186, 90, 67, 7, 89, 5, 19, 102, 6, 19, 124, 15, 90, 67, 84, 22, 482, 26, 7, 48, 4, 49, 8, 864, 39, 209, 154, 6, 151, 6, 83, 11, 15, 22, 155, 11, 15, 7, 48, 9, 4579, 1005, 504, 6, 258, 6, 272, 11, 15, 22, 134, 44, 11, 15, 16, 8, 197, 1245, 90, 67, 52, 29, 209, 30, 32, 132, 6, 109, 15, 17, 12]\n"
          ]
        }
      ]
    },
    {
      "cell_type": "code",
      "source": [
        "type(reuters.get_word_index())"
      ],
      "metadata": {
        "colab": {
          "base_uri": "https://localhost:8080/"
        },
        "id": "sntwdiFEL-f8",
        "outputId": "202ab7c3-efbb-4e29-c5fc-3db545dc0a95"
      },
      "execution_count": 5,
      "outputs": [
        {
          "output_type": "stream",
          "name": "stdout",
          "text": [
            "Downloading data from https://storage.googleapis.com/tensorflow/tf-keras-datasets/reuters_word_index.json\n",
            "557056/550378 [==============================] - 0s 0us/step\n",
            "565248/550378 [==============================] - 0s 0us/step\n"
          ]
        },
        {
          "output_type": "execute_result",
          "data": {
            "text/plain": [
              "dict"
            ]
          },
          "metadata": {},
          "execution_count": 5
        }
      ]
    },
    {
      "cell_type": "code",
      "source": [
        "reuters.get_word_index()['the']"
      ],
      "metadata": {
        "colab": {
          "base_uri": "https://localhost:8080/"
        },
        "id": "w7XSIqqBMR4e",
        "outputId": "f078ed25-5d3c-4aaa-a587-79966b094849"
      },
      "execution_count": 6,
      "outputs": [
        {
          "output_type": "execute_result",
          "data": {
            "text/plain": [
              "1"
            ]
          },
          "metadata": {},
          "execution_count": 6
        }
      ]
    },
    {
      "cell_type": "code",
      "source": [
        "index_word = {}\n",
        "for key, value in reuters.get_word_index().items():\n",
        "    index_word[value] = key\n",
        "len(index_word)"
      ],
      "metadata": {
        "colab": {
          "base_uri": "https://localhost:8080/"
        },
        "id": "W7KLXLZxMb9Q",
        "outputId": "86c55224-62a7-4fbe-946c-af5af9aab6c0"
      },
      "execution_count": 7,
      "outputs": [
        {
          "output_type": "execute_result",
          "data": {
            "text/plain": [
              "30979"
            ]
          },
          "metadata": {},
          "execution_count": 7
        }
      ]
    },
    {
      "cell_type": "code",
      "source": [
        "# 첫번째 기사 복원하기\n",
        "' '.join(index_word[index] for index in X_train[0])"
      ],
      "metadata": {
        "colab": {
          "base_uri": "https://localhost:8080/",
          "height": 94
        },
        "id": "lwPf5gdmMww5",
        "outputId": "45ce5c0d-cc5c-46f4-a1b1-0d724881534b"
      },
      "execution_count": 8,
      "outputs": [
        {
          "output_type": "execute_result",
          "data": {
            "text/plain": [
              "'the wattie nondiscriminatory mln loss for plc said at only ended said commonwealth could 1 traders now april 0 a after said from 1985 and from foreign 000 april 0 prices its account year a but in this mln home an states earlier and rise and revs vs 000 its 16 vs 000 a but 3 psbr oils several and shareholders and dividend vs 000 its all 4 vs 000 1 mln agreed largely april 0 are 2 states will billion total and against 000 pct dlrs'"
            ],
            "application/vnd.google.colaboratory.intrinsic+json": {
              "type": "string"
            }
          },
          "metadata": {},
          "execution_count": 8
        }
      ]
    },
    {
      "cell_type": "code",
      "source": [
        "# 뉴스 기사의 길이\n",
        "max(len(s) for s in X_train), sum(map(len, X_train)) / len(X_train)"
      ],
      "metadata": {
        "colab": {
          "base_uri": "https://localhost:8080/"
        },
        "id": "9g3qsJcMNFWk",
        "outputId": "00c501b5-6e14-4869-8d1c-237999c81fdc"
      },
      "execution_count": 9,
      "outputs": [
        {
          "output_type": "execute_result",
          "data": {
            "text/plain": [
              "(2376, 145.5398574927633)"
            ]
          },
          "metadata": {},
          "execution_count": 9
        }
      ]
    },
    {
      "cell_type": "code",
      "source": [
        "# 뉴스 기사의 단어 수의 분포\n",
        "plt.hist([len(s) for s in X_train], bins=50)\n",
        "plt.xlabel('length of samples')\n",
        "plt.ylabel('numbers of samples')\n",
        "plt.show()"
      ],
      "metadata": {
        "colab": {
          "base_uri": "https://localhost:8080/",
          "height": 279
        },
        "id": "Vv9zut3MNpjF",
        "outputId": "3847d1c0-7668-467a-ed6a-6ebbd5de3052"
      },
      "execution_count": 10,
      "outputs": [
        {
          "output_type": "display_data",
          "data": {
            "text/plain": [
              "<Figure size 432x288 with 1 Axes>"
            ],
            "image/png": "[encoded data removed]"
          },
          "metadata": {
            "needs_background": "light"
          }
        }
      ]
    },
    {
      "cell_type": "code",
      "source": [
        "# 뉴스 그룹의 분포\n",
        "import warnings\n",
        "warnings.filterwarnings('ignore')\n",
        "plt.figure(figsize=(12,6))\n",
        "sns.countplot(y_train)"
      ],
      "metadata": {
        "colab": {
          "base_uri": "https://localhost:8080/",
          "height": 393
        },
        "id": "2tNSsaQROR96",
        "outputId": "04b3372d-0ce0-4b5d-a8b2-21d3c8562161"
      },
      "execution_count": 11,
      "outputs": [
        {
          "output_type": "execute_result",
          "data": {
            "text/plain": [
              "<matplotlib.axes._subplots.AxesSubplot at 0x7f02d7fdbed0>"
            ]
          },
          "metadata": {},
          "execution_count": 11
        },
        {
          "output_type": "display_data",
          "data": {
            "text/plain": [
              "<Figure size 864x432 with 1 Axes>"
            ],
            "image/png": "[encoded data removed]"
          },
          "metadata": {
            "needs_background": "light"
          }
        }
      ]
    },
    {
      "cell_type": "markdown",
      "source": [
        "### LSTM으로 로이터 뉴스 분류\n",
        " - 문장 길이: 100 단어까지만(최대 2376)\n",
        " - 단어: 빈도수 기준으로 1000개 단어(총 단어: 30975개)"
      ],
      "metadata": {
        "id": "I7da8t-bPdYl"
      }
    },
    {
      "cell_type": "code",
      "source": [
        "max_words = 1000\n",
        "max_len = 100"
      ],
      "metadata": {
        "id": "wmFNOAS3OdLF"
      },
      "execution_count": 12,
      "outputs": []
    },
    {
      "cell_type": "code",
      "source": [
        "(X_train, y_train), (X_test, y_test) = reuters.load_data(num_words=max_words, test_split=0.2)"
      ],
      "metadata": {
        "id": "0escXWLUQikv"
      },
      "execution_count": 13,
      "outputs": []
    },
    {
      "cell_type": "code",
      "source": [
        "import tensorflow as tf\n",
        "seed = 2022\n",
        "np.random.seed(seed)\n",
        "tf.random.set_seed(seed)"
      ],
      "metadata": {
        "id": "Tb7l0_5XQ3uY"
      },
      "execution_count": 14,
      "outputs": []
    },
    {
      "cell_type": "code",
      "source": [
        "from tensorflow.keras.models import Sequential, load_model\n",
        "from tensorflow.keras.layers import Embedding, LSTM, Dense\n",
        "from tensorflow.keras.callbacks import ModelCheckpoint, EarlyStopping\n",
        "from tensorflow.keras.preprocessing.sequence import pad_sequences\n",
        "from tensorflow.keras.utils import to_categorical"
      ],
      "metadata": {
        "id": "uOTjhk9ARR97"
      },
      "execution_count": 15,
      "outputs": []
    },
    {
      "cell_type": "code",
      "source": [
        "X_train = pad_sequences(X_train, maxlen=max_len)\n",
        "X_test =pad_sequences(X_test, maxlen=max_len)\n",
        "Y_train = to_categorical(y_train)\n",
        "Y_test = to_categorical(y_test)\n",
        "X_train.shape, X_test.shape, Y_train.shape, Y_test.shape"
      ],
      "metadata": {
        "colab": {
          "base_uri": "https://localhost:8080/"
        },
        "id": "39r58B54Rwcm",
        "outputId": "8723968e-4e32-455b-d6db-076ec6bc8e20"
      },
      "execution_count": 16,
      "outputs": [
        {
          "output_type": "execute_result",
          "data": {
            "text/plain": [
              "((8982, 100), (2246, 100), (8982, 46), (2246, 46))"
            ]
          },
          "metadata": {},
          "execution_count": 16
        }
      ]
    },
    {
      "cell_type": "markdown",
      "source": [
        " - 모델 정의 / 설정 / 학습"
      ],
      "metadata": {
        "id": "b7RdDcLgSOw_"
      }
    },
    {
      "cell_type": "code",
      "source": [
        "model = Sequential([\n",
        "                    Embedding(max_words, 64, input_length=max_len),\n",
        "                    LSTM(100),\n",
        "                    Dense(46, activation='softmax')\n",
        "])\n",
        "model.summary()"
      ],
      "metadata": {
        "colab": {
          "base_uri": "https://localhost:8080/"
        },
        "id": "qTY1mKrwSNfZ",
        "outputId": "e768a139-8d54-4417-d426-7ae7430f21ba"
      },
      "execution_count": 17,
      "outputs": [
        {
          "output_type": "stream",
          "name": "stdout",
          "text": [
            "Model: \"sequential\"\n",
            "_________________________________________________________________\n",
            " Layer (type)                Output Shape              Param #   \n",
            "=================================================================\n",
            " embedding (Embedding)       (None, 100, 64)           64000     \n",
            "                                                                 \n",
            " lstm (LSTM)                 (None, 100)               66000     \n",
            "                                                                 \n",
            " dense (Dense)               (None, 46)                4646      \n",
            "                                                                 \n",
            "=================================================================\n",
            "Total params: 134,646\n",
            "Trainable params: 134,646\n",
            "Non-trainable params: 0\n",
            "_________________________________________________________________\n"
          ]
        }
      ]
    },
    {
      "cell_type": "code",
      "source": [
        "model.compile('adam', 'categorical_crossentropy', ['accuracy'])\n",
        "model_path = 'best_reuters_lstm.h5'\n",
        "mc = ModelCheckpoint(model_path, verbose=1, save_best_only=True)\n",
        "es = EarlyStopping(patience=10)"
      ],
      "metadata": {
        "id": "EtF9Bfp8SwV0"
      },
      "execution_count": 18,
      "outputs": []
    },
    {
      "cell_type": "code",
      "source": [
        "hist = model.fit(X_train, Y_train, validation_split=0.2, epochs=100, batch_size=128, callbacks=[mc,es])"
      ],
      "metadata": {
        "colab": {
          "base_uri": "https://localhost:8080/"
        },
        "id": "psEvL_G4TL9x",
        "outputId": "9faa291d-2deb-4650-e27e-f4b6243471ae"
      },
      "execution_count": 19,
      "outputs": [
        {
          "output_type": "stream",
          "name": "stdout",
          "text": [
            "Epoch 1/100\n",
            "52/57 [==========================>...] - ETA: 0s - loss: 2.7462 - accuracy: 0.3280\n",
            "Epoch 1: val_loss improved from inf to 2.40400, saving model to best_reuters_lstm.h5\n",
            "57/57 [==============================] - 8s 23ms/step - loss: 2.7159 - accuracy: 0.3317 - val_loss: 2.4040 - val_accuracy: 0.3450\n",
            "Epoch 2/100\n",
            "53/57 [==========================>...] - ETA: 0s - loss: 2.4126 - accuracy: 0.3505\n",
            "Epoch 2: val_loss improved from 2.40400 to 2.38775, saving model to best_reuters_lstm.h5\n",
            "57/57 [==============================] - 1s 13ms/step - loss: 2.4047 - accuracy: 0.3534 - val_loss: 2.3877 - val_accuracy: 0.3450\n",
            "Epoch 3/100\n",
            "54/57 [===========================>..] - ETA: 0s - loss: 2.1887 - accuracy: 0.4361\n",
            "Epoch 3: val_loss improved from 2.38775 to 2.05798, saving model to best_reuters_lstm.h5\n",
            "57/57 [==============================] - 1s 11ms/step - loss: 2.1851 - accuracy: 0.4383 - val_loss: 2.0580 - val_accuracy: 0.4663\n",
            "Epoch 4/100\n",
            "57/57 [==============================] - ETA: 0s - loss: 1.9836 - accuracy: 0.4842\n",
            "Epoch 4: val_loss improved from 2.05798 to 1.91083, saving model to best_reuters_lstm.h5\n",
            "57/57 [==============================] - 1s 12ms/step - loss: 1.9836 - accuracy: 0.4842 - val_loss: 1.9108 - val_accuracy: 0.5070\n",
            "Epoch 5/100\n",
            "53/57 [==========================>...] - ETA: 0s - loss: 1.9143 - accuracy: 0.5085\n",
            "Epoch 5: val_loss improved from 1.91083 to 1.85880, saving model to best_reuters_lstm.h5\n",
            "57/57 [==============================] - 1s 11ms/step - loss: 1.9083 - accuracy: 0.5104 - val_loss: 1.8588 - val_accuracy: 0.5231\n",
            "Epoch 6/100\n",
            "56/57 [============================>.] - ETA: 0s - loss: 1.7715 - accuracy: 0.5423\n",
            "Epoch 6: val_loss improved from 1.85880 to 1.75313, saving model to best_reuters_lstm.h5\n",
            "57/57 [==============================] - 1s 12ms/step - loss: 1.7725 - accuracy: 0.5421 - val_loss: 1.7531 - val_accuracy: 0.5320\n",
            "Epoch 7/100\n",
            "57/57 [==============================] - ETA: 0s - loss: 1.7074 - accuracy: 0.5574\n",
            "Epoch 7: val_loss did not improve from 1.75313\n",
            "57/57 [==============================] - 1s 11ms/step - loss: 1.7074 - accuracy: 0.5574 - val_loss: 1.7602 - val_accuracy: 0.5437\n",
            "Epoch 8/100\n",
            "53/57 [==========================>...] - ETA: 0s - loss: 1.6748 - accuracy: 0.5668\n",
            "Epoch 8: val_loss improved from 1.75313 to 1.70013, saving model to best_reuters_lstm.h5\n",
            "57/57 [==============================] - 1s 11ms/step - loss: 1.6756 - accuracy: 0.5683 - val_loss: 1.7001 - val_accuracy: 0.5587\n",
            "Epoch 9/100\n",
            "55/57 [===========================>..] - ETA: 0s - loss: 1.6055 - accuracy: 0.5925\n",
            "Epoch 9: val_loss improved from 1.70013 to 1.62363, saving model to best_reuters_lstm.h5\n",
            "57/57 [==============================] - 1s 12ms/step - loss: 1.6063 - accuracy: 0.5930 - val_loss: 1.6236 - val_accuracy: 0.5932\n",
            "Epoch 10/100\n",
            "52/57 [==========================>...] - ETA: 0s - loss: 1.5312 - accuracy: 0.6167\n",
            "Epoch 10: val_loss improved from 1.62363 to 1.55822, saving model to best_reuters_lstm.h5\n",
            "57/57 [==============================] - 1s 12ms/step - loss: 1.5245 - accuracy: 0.6177 - val_loss: 1.5582 - val_accuracy: 0.6032\n",
            "Epoch 11/100\n",
            "56/57 [============================>.] - ETA: 0s - loss: 1.4674 - accuracy: 0.6250\n",
            "Epoch 11: val_loss improved from 1.55822 to 1.53859, saving model to best_reuters_lstm.h5\n",
            "57/57 [==============================] - 1s 13ms/step - loss: 1.4690 - accuracy: 0.6248 - val_loss: 1.5386 - val_accuracy: 0.6244\n",
            "Epoch 12/100\n",
            "53/57 [==========================>...] - ETA: 0s - loss: 1.4198 - accuracy: 0.6411\n",
            "Epoch 12: val_loss improved from 1.53859 to 1.49555, saving model to best_reuters_lstm.h5\n",
            "57/57 [==============================] - 1s 13ms/step - loss: 1.4135 - accuracy: 0.6434 - val_loss: 1.4955 - val_accuracy: 0.6149\n",
            "Epoch 13/100\n",
            "56/57 [============================>.] - ETA: 0s - loss: 1.3675 - accuracy: 0.6445\n",
            "Epoch 13: val_loss did not improve from 1.49555\n",
            "57/57 [==============================] - 1s 12ms/step - loss: 1.3664 - accuracy: 0.6448 - val_loss: 1.5047 - val_accuracy: 0.6366\n",
            "Epoch 14/100\n",
            "55/57 [===========================>..] - ETA: 0s - loss: 1.3207 - accuracy: 0.6656\n",
            "Epoch 14: val_loss improved from 1.49555 to 1.44421, saving model to best_reuters_lstm.h5\n",
            "57/57 [==============================] - 1s 12ms/step - loss: 1.3171 - accuracy: 0.6665 - val_loss: 1.4442 - val_accuracy: 0.6539\n",
            "Epoch 15/100\n",
            "52/57 [==========================>...] - ETA: 0s - loss: 1.3338 - accuracy: 0.6660\n",
            "Epoch 15: val_loss improved from 1.44421 to 1.40867, saving model to best_reuters_lstm.h5\n",
            "57/57 [==============================] - 1s 12ms/step - loss: 1.3360 - accuracy: 0.6653 - val_loss: 1.4087 - val_accuracy: 0.6544\n",
            "Epoch 16/100\n",
            "53/57 [==========================>...] - ETA: 0s - loss: 1.2412 - accuracy: 0.6862\n",
            "Epoch 16: val_loss improved from 1.40867 to 1.38922, saving model to best_reuters_lstm.h5\n",
            "57/57 [==============================] - 1s 12ms/step - loss: 1.2370 - accuracy: 0.6870 - val_loss: 1.3892 - val_accuracy: 0.6533\n",
            "Epoch 17/100\n",
            "56/57 [============================>.] - ETA: 0s - loss: 1.1955 - accuracy: 0.6998\n",
            "Epoch 17: val_loss improved from 1.38922 to 1.36170, saving model to best_reuters_lstm.h5\n",
            "57/57 [==============================] - 1s 12ms/step - loss: 1.1951 - accuracy: 0.6997 - val_loss: 1.3617 - val_accuracy: 0.6572\n",
            "Epoch 18/100\n",
            "57/57 [==============================] - ETA: 0s - loss: 1.1766 - accuracy: 0.6998\n",
            "Epoch 18: val_loss improved from 1.36170 to 1.34939, saving model to best_reuters_lstm.h5\n",
            "57/57 [==============================] - 1s 12ms/step - loss: 1.1766 - accuracy: 0.6998 - val_loss: 1.3494 - val_accuracy: 0.6700\n",
            "Epoch 19/100\n",
            "57/57 [==============================] - ETA: 0s - loss: 1.1383 - accuracy: 0.7120\n",
            "Epoch 19: val_loss improved from 1.34939 to 1.33739, saving model to best_reuters_lstm.h5\n",
            "57/57 [==============================] - 1s 12ms/step - loss: 1.1383 - accuracy: 0.7120 - val_loss: 1.3374 - val_accuracy: 0.6795\n",
            "Epoch 20/100\n",
            "53/57 [==========================>...] - ETA: 0s - loss: 1.0939 - accuracy: 0.7261\n",
            "Epoch 20: val_loss improved from 1.33739 to 1.31118, saving model to best_reuters_lstm.h5\n",
            "57/57 [==============================] - 1s 12ms/step - loss: 1.0940 - accuracy: 0.7265 - val_loss: 1.3112 - val_accuracy: 0.6811\n",
            "Epoch 21/100\n",
            "52/57 [==========================>...] - ETA: 0s - loss: 1.0622 - accuracy: 0.7303\n",
            "Epoch 21: val_loss did not improve from 1.31118\n",
            "57/57 [==============================] - 1s 11ms/step - loss: 1.0522 - accuracy: 0.7339 - val_loss: 1.3144 - val_accuracy: 0.6839\n",
            "Epoch 22/100\n",
            "56/57 [============================>.] - ETA: 0s - loss: 1.0049 - accuracy: 0.7454\n",
            "Epoch 22: val_loss improved from 1.31118 to 1.26780, saving model to best_reuters_lstm.h5\n",
            "57/57 [==============================] - 1s 12ms/step - loss: 1.0067 - accuracy: 0.7447 - val_loss: 1.2678 - val_accuracy: 0.6923\n",
            "Epoch 23/100\n",
            "52/57 [==========================>...] - ETA: 0s - loss: 0.9766 - accuracy: 0.7500\n",
            "Epoch 23: val_loss did not improve from 1.26780\n",
            "57/57 [==============================] - 1s 11ms/step - loss: 0.9861 - accuracy: 0.7493 - val_loss: 1.3012 - val_accuracy: 0.6939\n",
            "Epoch 24/100\n",
            "53/57 [==========================>...] - ETA: 0s - loss: 0.9511 - accuracy: 0.7603\n",
            "Epoch 24: val_loss improved from 1.26780 to 1.26570, saving model to best_reuters_lstm.h5\n",
            "57/57 [==============================] - 1s 12ms/step - loss: 0.9550 - accuracy: 0.7577 - val_loss: 1.2657 - val_accuracy: 0.7012\n",
            "Epoch 25/100\n",
            "56/57 [============================>.] - ETA: 0s - loss: 0.9134 - accuracy: 0.7691\n",
            "Epoch 25: val_loss did not improve from 1.26570\n",
            "57/57 [==============================] - 1s 11ms/step - loss: 0.9139 - accuracy: 0.7690 - val_loss: 1.2781 - val_accuracy: 0.7084\n",
            "Epoch 26/100\n",
            "52/57 [==========================>...] - ETA: 0s - loss: 0.8788 - accuracy: 0.7766\n",
            "Epoch 26: val_loss improved from 1.26570 to 1.25372, saving model to best_reuters_lstm.h5\n",
            "57/57 [==============================] - 1s 13ms/step - loss: 0.8812 - accuracy: 0.7775 - val_loss: 1.2537 - val_accuracy: 0.7056\n",
            "Epoch 27/100\n",
            "53/57 [==========================>...] - ETA: 0s - loss: 0.8562 - accuracy: 0.7846\n",
            "Epoch 27: val_loss did not improve from 1.25372\n",
            "57/57 [==============================] - 1s 11ms/step - loss: 0.8548 - accuracy: 0.7844 - val_loss: 1.2680 - val_accuracy: 0.6989\n",
            "Epoch 28/100\n",
            "57/57 [==============================] - ETA: 0s - loss: 0.8166 - accuracy: 0.7930\n",
            "Epoch 28: val_loss did not improve from 1.25372\n",
            "57/57 [==============================] - 1s 11ms/step - loss: 0.8166 - accuracy: 0.7930 - val_loss: 1.2596 - val_accuracy: 0.7090\n",
            "Epoch 29/100\n",
            "57/57 [==============================] - ETA: 0s - loss: 0.8028 - accuracy: 0.7961\n",
            "Epoch 29: val_loss did not improve from 1.25372\n",
            "57/57 [==============================] - 1s 11ms/step - loss: 0.8028 - accuracy: 0.7961 - val_loss: 1.2724 - val_accuracy: 0.7129\n",
            "Epoch 30/100\n",
            "57/57 [==============================] - ETA: 0s - loss: 0.7849 - accuracy: 0.7997\n",
            "Epoch 30: val_loss did not improve from 1.25372\n",
            "57/57 [==============================] - 1s 11ms/step - loss: 0.7849 - accuracy: 0.7997 - val_loss: 1.2931 - val_accuracy: 0.7106\n",
            "Epoch 31/100\n",
            "52/57 [==========================>...] - ETA: 0s - loss: 0.7699 - accuracy: 0.8014\n",
            "Epoch 31: val_loss did not improve from 1.25372\n",
            "57/57 [==============================] - 1s 13ms/step - loss: 0.7730 - accuracy: 0.8008 - val_loss: 1.2639 - val_accuracy: 0.7023\n",
            "Epoch 32/100\n",
            "53/57 [==========================>...] - ETA: 0s - loss: 0.7537 - accuracy: 0.8078\n",
            "Epoch 32: val_loss did not improve from 1.25372\n",
            "57/57 [==============================] - 1s 11ms/step - loss: 0.7545 - accuracy: 0.8074 - val_loss: 1.3078 - val_accuracy: 0.6978\n",
            "Epoch 33/100\n",
            "55/57 [===========================>..] - ETA: 0s - loss: 0.7473 - accuracy: 0.8138\n",
            "Epoch 33: val_loss did not improve from 1.25372\n",
            "57/57 [==============================] - 1s 12ms/step - loss: 0.7443 - accuracy: 0.8146 - val_loss: 1.2883 - val_accuracy: 0.6956\n",
            "Epoch 34/100\n",
            "56/57 [============================>.] - ETA: 0s - loss: 0.6965 - accuracy: 0.8214\n",
            "Epoch 34: val_loss did not improve from 1.25372\n",
            "57/57 [==============================] - 1s 11ms/step - loss: 0.6967 - accuracy: 0.8214 - val_loss: 1.3036 - val_accuracy: 0.6995\n",
            "Epoch 35/100\n",
            "53/57 [==========================>...] - ETA: 0s - loss: 0.6603 - accuracy: 0.8321\n",
            "Epoch 35: val_loss did not improve from 1.25372\n",
            "57/57 [==============================] - 1s 11ms/step - loss: 0.6628 - accuracy: 0.8313 - val_loss: 1.3204 - val_accuracy: 0.7028\n",
            "Epoch 36/100\n",
            "53/57 [==========================>...] - ETA: 0s - loss: 0.6274 - accuracy: 0.8429\n",
            "Epoch 36: val_loss did not improve from 1.25372\n",
            "57/57 [==============================] - 1s 11ms/step - loss: 0.6276 - accuracy: 0.8434 - val_loss: 1.3004 - val_accuracy: 0.7090\n"
          ]
        }
      ]
    },
    {
      "cell_type": "code",
      "source": [
        "best_model = load_model(model_path)\n",
        "best_model.evaluate(X_test, Y_test)"
      ],
      "metadata": {
        "colab": {
          "base_uri": "https://localhost:8080/"
        },
        "id": "HtVyDyRQUkSK",
        "outputId": "b6044ee4-322a-4fe1-f232-78278a233bb2"
      },
      "execution_count": 20,
      "outputs": [
        {
          "output_type": "stream",
          "name": "stdout",
          "text": [
            "71/71 [==============================] - 1s 6ms/step - loss: 1.2606 - accuracy: 0.6981\n"
          ]
        },
        {
          "output_type": "execute_result",
          "data": {
            "text/plain": [
              "[1.2606298923492432, 0.6981300115585327]"
            ]
          },
          "metadata": {},
          "execution_count": 20
        }
      ]
    },
    {
      "cell_type": "code",
      "source": [
        "y_acc = hist.history['accuracy']\n",
        "y_vloss = hist.history['val_loss']\n",
        "xs= np.arange(1,len(y_acc)+1)"
      ],
      "metadata": {
        "id": "VoGR_8M_UstQ"
      },
      "execution_count": 21,
      "outputs": []
    },
    {
      "cell_type": "code",
      "source": [
        "plt.figure(figsize=(12,6))\n",
        "plt.plot(xs, y_acc, label='train accuracy')\n",
        "plt.plot(xs, y_vloss, label='validation loss')\n",
        "plt.legend(), plt.grid()\n",
        "plt.xlabel('Epoch')\n",
        "plt.show()"
      ],
      "metadata": {
        "colab": {
          "base_uri": "https://localhost:8080/",
          "height": 391
        },
        "id": "6qenAviGVC9U",
        "outputId": "e94a1096-59c9-41fe-8d76-595323d6bb38"
      },
      "execution_count": 22,
      "outputs": [
        {
          "output_type": "display_data",
          "data": {
            "text/plain": [
              "<Figure size 864x432 with 1 Axes>"
            ],
            "image/png": "[encoded data removed]"
          },
          "metadata": {
            "needs_background": "light"
          }
        }
      ]
    },
    {
      "cell_type": "code",
      "source": [
        ""
      ],
      "metadata": {
        "id": "fjE5x-1dVWpF"
      },
      "execution_count": null,
      "outputs": []
    }
  ]
}