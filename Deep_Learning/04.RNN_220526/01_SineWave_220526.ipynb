{
  "nbformat": 4,
  "nbformat_minor": 0,
  "metadata": {
    "colab": {
      "name": "01_SineWave_220526.ipynb",
      "provenance": [],
      "collapsed_sections": []
    },
    "kernelspec": {
      "name": "python3",
      "display_name": "Python 3"
    },
    "language_info": {
      "name": "python"
    }
  },
  "cells": [
    {
      "cell_type": "markdown",
      "source": [
        "# Simple RNN (many to one 유형)\n",
        " - 싸인 파형 시계열을 입력받아 다음 단계의 출력 예측\n",
        " - 3개의 순서열을 입력한 후 출력값이 target과 일치하게 만든다\n"
      ],
      "metadata": {
        "id": "cGiiI4icuWhj"
      }
    },
    {
      "cell_type": "markdown",
      "source": [
        " - 데이터 준비"
      ],
      "metadata": {
        "id": "qZS6OmY_uvUE"
      }
    },
    {
      "cell_type": "code",
      "execution_count": 1,
      "metadata": {
        "id": "6m945Ts7q1NG"
      },
      "outputs": [],
      "source": [
        "import numpy as np\n",
        "import matplotlib.pyplot as plt"
      ]
    },
    {
      "cell_type": "code",
      "source": [
        "s = np.sin(np.arange(21)*np.pi/4) # 2*pi =360 degree\n",
        "s"
      ],
      "metadata": {
        "colab": {
          "base_uri": "https://localhost:8080/"
        },
        "id": "sMsMC9R2u11s",
        "outputId": "cdfe743e-57c4-4799-d70d-a86845a6e0a3"
      },
      "execution_count": 3,
      "outputs": [
        {
          "output_type": "execute_result",
          "data": {
            "text/plain": [
              "array([ 0.00000000e+00,  7.07106781e-01,  1.00000000e+00,  7.07106781e-01,\n",
              "        1.22464680e-16, -7.07106781e-01, -1.00000000e+00, -7.07106781e-01,\n",
              "       -2.44929360e-16,  7.07106781e-01,  1.00000000e+00,  7.07106781e-01,\n",
              "        3.67394040e-16, -7.07106781e-01, -1.00000000e+00, -7.07106781e-01,\n",
              "       -4.89858720e-16,  7.07106781e-01,  1.00000000e+00,  7.07106781e-01,\n",
              "        6.12323400e-16])"
            ]
          },
          "metadata": {},
          "execution_count": 3
        }
      ]
    },
    {
      "cell_type": "code",
      "source": [
        "plt.plot(s, 'ro-')\n",
        "plt.xlim(-0.5, 20.5), plt.grid()\n",
        "plt.show()"
      ],
      "metadata": {
        "colab": {
          "base_uri": "https://localhost:8080/",
          "height": 265
        },
        "id": "JCqgQWKVvA7H",
        "outputId": "78881354-e4b4-42cf-99b1-329c9061f217"
      },
      "execution_count": 4,
      "outputs": [
        {
          "output_type": "display_data",
          "data": {
            "text/plain": [
              "<Figure size 432x288 with 1 Axes>"
            ],
            "image/png": "[encoded data removed]"
          },
          "metadata": {
            "needs_background": "light"
          }
        }
      ]
    },
    {
      "cell_type": "markdown",
      "source": [
        " - X_train, y_train 데이터 속성"
      ],
      "metadata": {
        "id": "F6JYK45ov9YA"
      }
    },
    {
      "cell_type": "code",
      "source": [
        "X_train = []\n",
        "y_train = np.empty(len(s)-3) # 앞에 3개는 입력 데이터로 줄거니까\n",
        "\n",
        "for i in range(len(s)-3):\n",
        "    X_train.append(s[i : i+3])\n",
        "    y_train[i] = s[i+3]\n",
        "\n",
        "y_train"
      ],
      "metadata": {
        "colab": {
          "base_uri": "https://localhost:8080/"
        },
        "id": "QbJ9ZW19vvuu",
        "outputId": "bb3b3723-65fd-44ba-b0cd-0e571606300d"
      },
      "execution_count": 7,
      "outputs": [
        {
          "output_type": "execute_result",
          "data": {
            "text/plain": [
              "array([ 7.07106781e-01,  1.22464680e-16, -7.07106781e-01, -1.00000000e+00,\n",
              "       -7.07106781e-01, -2.44929360e-16,  7.07106781e-01,  1.00000000e+00,\n",
              "        7.07106781e-01,  3.67394040e-16, -7.07106781e-01, -1.00000000e+00,\n",
              "       -7.07106781e-01, -4.89858720e-16,  7.07106781e-01,  1.00000000e+00,\n",
              "        7.07106781e-01,  6.12323400e-16])"
            ]
          },
          "metadata": {},
          "execution_count": 7
        }
      ]
    },
    {
      "cell_type": "code",
      "source": [
        "np.array(X_train).shape"
      ],
      "metadata": {
        "colab": {
          "base_uri": "https://localhost:8080/"
        },
        "id": "AaFoN8HFwG6C",
        "outputId": "f9000ec0-32fd-44be-fc92-74f09b23eded"
      },
      "execution_count": 8,
      "outputs": [
        {
          "output_type": "execute_result",
          "data": {
            "text/plain": [
              "(18, 3)"
            ]
          },
          "metadata": {},
          "execution_count": 8
        }
      ]
    },
    {
      "cell_type": "code",
      "source": [
        "# 입력 데이터 갯수, timesteps, input_dim\n",
        "X_train = np.array(X_train).reshape(-1,3,1)\n",
        "X_train.shape"
      ],
      "metadata": {
        "colab": {
          "base_uri": "https://localhost:8080/"
        },
        "id": "0X-D4z3JxEAi",
        "outputId": "69d05b61-019e-4c36-c920-be35261b8cdc"
      },
      "execution_count": 9,
      "outputs": [
        {
          "output_type": "execute_result",
          "data": {
            "text/plain": [
              "(18, 3, 1)"
            ]
          },
          "metadata": {},
          "execution_count": 9
        }
      ]
    },
    {
      "cell_type": "code",
      "source": [
        "X_train[0], y_train[0]"
      ],
      "metadata": {
        "colab": {
          "base_uri": "https://localhost:8080/"
        },
        "id": "Qu96Z0SpxyCq",
        "outputId": "6cc92351-367d-460c-a29a-ad4a0e7c136e"
      },
      "execution_count": 10,
      "outputs": [
        {
          "output_type": "execute_result",
          "data": {
            "text/plain": [
              "(array([[0.        ],\n",
              "        [0.70710678],\n",
              "        [1.        ]]), 0.7071067811865476)"
            ]
          },
          "metadata": {},
          "execution_count": 10
        }
      ]
    },
    {
      "cell_type": "code",
      "source": [
        "X_train[1], y_train[1]"
      ],
      "metadata": {
        "colab": {
          "base_uri": "https://localhost:8080/"
        },
        "id": "HkHYOGz3yB1V",
        "outputId": "8e492d54-ed31-4c0b-9c7d-65691194357c"
      },
      "execution_count": 11,
      "outputs": [
        {
          "output_type": "execute_result",
          "data": {
            "text/plain": [
              "(array([[0.70710678],\n",
              "        [1.        ],\n",
              "        [0.70710678]]), 1.2246467991473532e-16)"
            ]
          },
          "metadata": {},
          "execution_count": 11
        }
      ]
    },
    {
      "cell_type": "markdown",
      "source": [
        " - 순환 신경망 모델 정의 / 설정"
      ],
      "metadata": {
        "id": "kGJNhvn3yWmW"
      }
    },
    {
      "cell_type": "code",
      "source": [
        "import tensorflow as tf\n",
        "seed=2022\n",
        "np.random.seed(seed)\n",
        "tf.random.set_seed(seed)"
      ],
      "metadata": {
        "id": "zfLnGPutySM_"
      },
      "execution_count": 12,
      "outputs": []
    },
    {
      "cell_type": "code",
      "source": [
        "from tensorflow.keras.models import Sequential\n",
        "from tensorflow.keras.layers import Dense, SimpleRNN"
      ],
      "metadata": {
        "id": "n5klvDvlyoOb"
      },
      "execution_count": 13,
      "outputs": []
    },
    {
      "cell_type": "code",
      "source": [
        "model = Sequential([\n",
        "                    SimpleRNN(10, input_shape=X_train.shape[1:], activation='tanh'),\n",
        "                    Dense(1, activation='linear')\n",
        "])\n",
        "model.summary()"
      ],
      "metadata": {
        "colab": {
          "base_uri": "https://localhost:8080/"
        },
        "id": "VWN-gw_eyzzN",
        "outputId": "1f94fe18-3e3e-40c5-a645-e5f9e4cc3552"
      },
      "execution_count": 14,
      "outputs": [
        {
          "output_type": "stream",
          "name": "stdout",
          "text": [
            "Model: \"sequential\"\n",
            "_________________________________________________________________\n",
            " Layer (type)                Output Shape              Param #   \n",
            "=================================================================\n",
            " simple_rnn (SimpleRNN)      (None, 10)                120       \n",
            "                                                                 \n",
            " dense (Dense)               (None, 1)                 11        \n",
            "                                                                 \n",
            "=================================================================\n",
            "Total params: 131\n",
            "Trainable params: 131\n",
            "Non-trainable params: 0\n",
            "_________________________________________________________________\n"
          ]
        }
      ]
    },
    {
      "cell_type": "code",
      "source": [
        "model.compile('adam',loss='mse')"
      ],
      "metadata": {
        "id": "0afw3Lxbzk4F"
      },
      "execution_count": 15,
      "outputs": []
    },
    {
      "cell_type": "markdown",
      "source": [
        " - 모델 학습 전"
      ],
      "metadata": {
        "id": "qSc612lR4Y0l"
      }
    },
    {
      "cell_type": "code",
      "source": [
        "plt.plot(np.arange(3,21), y_train, 'ro-', label='target')\n",
        "plt.plot(np.arange(3,21), model.predict(X_train), 'bo-', label='predict')\n",
        "plt.xlim(-0.5,20.5), plt.grid()\n",
        "plt.legend(), plt.title('Before Training') \n",
        "plt.show()"
      ],
      "metadata": {
        "colab": {
          "base_uri": "https://localhost:8080/",
          "height": 281
        },
        "id": "r0w63Jh91ohs",
        "outputId": "f33f3105-d01f-4109-9eb1-5ef9de6d8855"
      },
      "execution_count": 16,
      "outputs": [
        {
          "output_type": "display_data",
          "data": {
            "text/plain": [
              "<Figure size 432x288 with 1 Axes>"
            ],
            "image/png": "[encoded data removed]"
          },
          "metadata": {
            "needs_background": "light"
          }
        }
      ]
    },
    {
      "cell_type": "markdown",
      "source": [
        " - 모델 학습"
      ],
      "metadata": {
        "id": "0ESD3Jxa5KjZ"
      }
    },
    {
      "cell_type": "code",
      "source": [
        "hist = model.fit(X_train, y_train, epochs=100, verbose=0)"
      ],
      "metadata": {
        "id": "Y4na_yyQ5CIW"
      },
      "execution_count": 17,
      "outputs": []
    },
    {
      "cell_type": "markdown",
      "source": [
        " - 모델 학습 후"
      ],
      "metadata": {
        "id": "MFa8xFKe5dA8"
      }
    },
    {
      "cell_type": "code",
      "source": [
        "plt.plot(np.arange(3,21), y_train, 'ro-', label='target')\n",
        "plt.plot(np.arange(3,21), model.predict(X_train), 'bo-', label='predict')\n",
        "plt.xlim(-0.5,20.5), plt.grid()\n",
        "plt.legend(), plt.title('After Training') \n",
        "plt.show()"
      ],
      "metadata": {
        "colab": {
          "base_uri": "https://localhost:8080/",
          "height": 281
        },
        "id": "PkcSU5Nk5YR2",
        "outputId": "1ebb5db7-3b92-4e26-ecd0-d27658a51d9e"
      },
      "execution_count": 18,
      "outputs": [
        {
          "output_type": "display_data",
          "data": {
            "text/plain": [
              "<Figure size 432x288 with 1 Axes>"
            ],
            "image/png": "[encoded data removed]"
          },
          "metadata": {
            "needs_background": "light"
          }
        }
      ]
    },
    {
      "cell_type": "code",
      "source": [
        ""
      ],
      "metadata": {
        "id": "yLdWAwP55liT"
      },
      "execution_count": null,
      "outputs": []
    }
  ]
}