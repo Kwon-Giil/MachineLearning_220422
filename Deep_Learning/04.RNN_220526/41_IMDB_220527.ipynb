{
  "nbformat": 4,
  "nbformat_minor": 0,
  "metadata": {
    "colab": {
      "name": "41_IMDB_220527.ipynb",
      "provenance": [],
      "collapsed_sections": []
    },
    "kernelspec": {
      "name": "python3",
      "display_name": "Python 3"
    },
    "language_info": {
      "name": "python"
    },
    "accelerator": "GPU"
  },
  "cells": [
    {
      "cell_type": "markdown",
      "source": [
        "IMDB 영화 감상평 감성분석 - LSTM"
      ],
      "metadata": {
        "id": "2Zts4wnQ2Wu2"
      }
    },
    {
      "cell_type": "code",
      "execution_count": 1,
      "metadata": {
        "colab": {
          "base_uri": "https://localhost:8080/"
        },
        "id": "d28uM99_2SiQ",
        "outputId": "7233379a-2041-42d5-8fa3-3c6b4d606129"
      },
      "outputs": [
        {
          "output_type": "stream",
          "name": "stdout",
          "text": [
            "Downloading data from https://storage.googleapis.com/tensorflow/tf-keras-datasets/imdb.npz\n",
            "17465344/17464789 [==============================] - 0s 0us/step\n",
            "17473536/17464789 [==============================] - 0s 0us/step\n"
          ]
        }
      ],
      "source": [
        "from tensorflow.keras.datasets import imdb\n",
        "(X_train, y_train), (X_test, y_test) = imdb.load_data()"
      ]
    },
    {
      "cell_type": "code",
      "source": [
        "X_train.shape, X_test.shape"
      ],
      "metadata": {
        "colab": {
          "base_uri": "https://localhost:8080/"
        },
        "id": "7fgp1oyW2nN5",
        "outputId": "71375af1-0858-4848-e87c-a4d906da459c"
      },
      "execution_count": 2,
      "outputs": [
        {
          "output_type": "execute_result",
          "data": {
            "text/plain": [
              "((25000,), (25000,))"
            ]
          },
          "metadata": {},
          "execution_count": 2
        }
      ]
    },
    {
      "cell_type": "code",
      "source": [
        "print(X_train[0])"
      ],
      "metadata": {
        "colab": {
          "base_uri": "https://localhost:8080/"
        },
        "id": "2loIP3SI2zR6",
        "outputId": "b6f907a8-a5bb-4584-cc8e-6dd79b73ebfe"
      },
      "execution_count": 3,
      "outputs": [
        {
          "output_type": "stream",
          "name": "stdout",
          "text": [
            "[1, 14, 22, 16, 43, 530, 973, 1622, 1385, 65, 458, 4468, 66, 3941, 4, 173, 36, 256, 5, 25, 100, 43, 838, 112, 50, 670, 22665, 9, 35, 480, 284, 5, 150, 4, 172, 112, 167, 21631, 336, 385, 39, 4, 172, 4536, 1111, 17, 546, 38, 13, 447, 4, 192, 50, 16, 6, 147, 2025, 19, 14, 22, 4, 1920, 4613, 469, 4, 22, 71, 87, 12, 16, 43, 530, 38, 76, 15, 13, 1247, 4, 22, 17, 515, 17, 12, 16, 626, 18, 19193, 5, 62, 386, 12, 8, 316, 8, 106, 5, 4, 2223, 5244, 16, 480, 66, 3785, 33, 4, 130, 12, 16, 38, 619, 5, 25, 124, 51, 36, 135, 48, 25, 1415, 33, 6, 22, 12, 215, 28, 77, 52, 5, 14, 407, 16, 82, 10311, 8, 4, 107, 117, 5952, 15, 256, 4, 31050, 7, 3766, 5, 723, 36, 71, 43, 530, 476, 26, 400, 317, 46, 7, 4, 12118, 1029, 13, 104, 88, 4, 381, 15, 297, 98, 32, 2071, 56, 26, 141, 6, 194, 7486, 18, 4, 226, 22, 21, 134, 476, 26, 480, 5, 144, 30, 5535, 18, 51, 36, 28, 224, 92, 25, 104, 4, 226, 65, 16, 38, 1334, 88, 12, 16, 283, 5, 16, 4472, 113, 103, 32, 15, 16, 5345, 19, 178, 32]\n"
          ]
        }
      ]
    },
    {
      "cell_type": "code",
      "source": [
        "# 등장한 단어 수\n",
        "len(imdb.get_word_index())"
      ],
      "metadata": {
        "colab": {
          "base_uri": "https://localhost:8080/"
        },
        "id": "AEnh_YbO24rj",
        "outputId": "3e907a93-2757-4c85-b65b-c79bae02c1d1"
      },
      "execution_count": 4,
      "outputs": [
        {
          "output_type": "stream",
          "name": "stdout",
          "text": [
            "Downloading data from https://storage.googleapis.com/tensorflow/tf-keras-datasets/imdb_word_index.json\n",
            "1646592/1641221 [==============================] - 0s 0us/step\n",
            "1654784/1641221 [==============================] - 0s 0us/step\n"
          ]
        },
        {
          "output_type": "execute_result",
          "data": {
            "text/plain": [
              "88584"
            ]
          },
          "metadata": {},
          "execution_count": 4
        }
      ]
    },
    {
      "cell_type": "code",
      "source": [
        "# 리뷰 최대 길이, 평균 길이\n",
        "max(len(s) for s in X_train), sum(map(len, X_train)) / len(X_train)"
      ],
      "metadata": {
        "colab": {
          "base_uri": "https://localhost:8080/"
        },
        "id": "DxY0c9BA3FcN",
        "outputId": "765043be-2b2b-4958-8174-12255733db38"
      },
      "execution_count": 5,
      "outputs": [
        {
          "output_type": "execute_result",
          "data": {
            "text/plain": [
              "(2494, 238.71364)"
            ]
          },
          "metadata": {},
          "execution_count": 5
        }
      ]
    },
    {
      "cell_type": "markdown",
      "source": [
        "### LSTM으로 감성 분석\n",
        " - 단어 빈도 수: 10000개 (총 88584개)\n",
        " - 리뷰 단어 수: 500개 (최대 2494개)\n",
        " - 여기서는 train:20000, test:5000, valid: 20%\n",
        " - 최대 데이터 개수(이건 나중에)\n",
        "    - train: 25000, valid: 10000, test: 15000\n"
      ],
      "metadata": {
        "id": "XbJjlOZU3fqY"
      }
    },
    {
      "cell_type": "code",
      "source": [
        "import numpy as np\n",
        "import tensorflow as tf\n",
        "import matplotlib.pyplot as plt\n",
        "seed = 2022\n",
        "np.random.seed(seed)\n",
        "tf.random.set_seed(seed)"
      ],
      "metadata": {
        "id": "XkiY93Ns3cqZ"
      },
      "execution_count": 6,
      "outputs": []
    },
    {
      "cell_type": "code",
      "source": [
        "from tensorflow.keras.models import Sequential, load_model\n",
        "from tensorflow.keras.layers import Embedding, LSTM, Dense\n",
        "from tensorflow.keras.callbacks import ModelCheckpoint, EarlyStopping\n",
        "from tensorflow.keras.preprocessing.sequence import pad_sequences\n",
        "from sklearn.model_selection import train_test_split"
      ],
      "metadata": {
        "id": "_c43Pu_a47z-"
      },
      "execution_count": 7,
      "outputs": []
    },
    {
      "cell_type": "code",
      "source": [
        "num_words=10000\n",
        "(X_train, y_train),(_,_) = imdb.load_data(num_words=num_words)"
      ],
      "metadata": {
        "id": "4xtIWPxE6YKY"
      },
      "execution_count": 8,
      "outputs": []
    },
    {
      "cell_type": "code",
      "source": [
        "X_train, X_test, y_train, y_test = train_test_split(X_train, y_train, stratify=y_train, test_size=0.2, random_state=seed)\n",
        "X_train.shape, X_test.shape, y_train.shape, y_test.shape"
      ],
      "metadata": {
        "colab": {
          "base_uri": "https://localhost:8080/"
        },
        "id": "eClOfNIs5TKM",
        "outputId": "9cfede89-f749-4680-ab80-0daac5ce50ab"
      },
      "execution_count": 9,
      "outputs": [
        {
          "output_type": "execute_result",
          "data": {
            "text/plain": [
              "((20000,), (5000,), (20000,), (5000,))"
            ]
          },
          "metadata": {},
          "execution_count": 9
        }
      ]
    },
    {
      "cell_type": "code",
      "source": [
        "max_len = 500\n",
        "X_train = pad_sequences(X_train, maxlen=max_len)\n",
        "X_test = pad_sequences(X_test, maxlen=max_len)\n",
        "X_train.shape, X_test.shape"
      ],
      "metadata": {
        "colab": {
          "base_uri": "https://localhost:8080/"
        },
        "id": "I1ry89Bw5lII",
        "outputId": "a15bb4ee-1e7c-40ca-953a-06450a1e860e"
      },
      "execution_count": 10,
      "outputs": [
        {
          "output_type": "execute_result",
          "data": {
            "text/plain": [
              "((20000, 500), (5000, 500))"
            ]
          },
          "metadata": {},
          "execution_count": 10
        }
      ]
    },
    {
      "cell_type": "markdown",
      "source": [
        "- 모델"
      ],
      "metadata": {
        "id": "rsYQhM7d6JUM"
      }
    },
    {
      "cell_type": "code",
      "source": [
        "model = Sequential([\n",
        "                    Embedding(num_words, 100, input_length=max_len),\n",
        "                    LSTM(128),\n",
        "                    Dense(1, activation='sigmoid')\n",
        "                    ])\n",
        "model.summary()"
      ],
      "metadata": {
        "colab": {
          "base_uri": "https://localhost:8080/"
        },
        "id": "v6KQOQkM6ARa",
        "outputId": "754f962d-94f7-45af-c0f4-440507639fd0"
      },
      "execution_count": 11,
      "outputs": [
        {
          "output_type": "stream",
          "name": "stdout",
          "text": [
            "Model: \"sequential\"\n",
            "_________________________________________________________________\n",
            " Layer (type)                Output Shape              Param #   \n",
            "=================================================================\n",
            " embedding (Embedding)       (None, 500, 100)          1000000   \n",
            "                                                                 \n",
            " lstm (LSTM)                 (None, 128)               117248    \n",
            "                                                                 \n",
            " dense (Dense)               (None, 1)                 129       \n",
            "                                                                 \n",
            "=================================================================\n",
            "Total params: 1,117,377\n",
            "Trainable params: 1,117,377\n",
            "Non-trainable params: 0\n",
            "_________________________________________________________________\n"
          ]
        }
      ]
    },
    {
      "cell_type": "code",
      "source": [
        "model.compile('adam', 'binary_crossentropy', ['accuracy'])"
      ],
      "metadata": {
        "id": "9wg5CiR169fp"
      },
      "execution_count": 12,
      "outputs": []
    },
    {
      "cell_type": "code",
      "source": [
        "model_path = 'best_imdb_lstm.h5'\n",
        "mc = ModelCheckpoint(model_path, verbose=1, save_best_only=True)\n",
        "es = EarlyStopping(patience=5)"
      ],
      "metadata": {
        "id": "WAjKMkHj7HHc"
      },
      "execution_count": 13,
      "outputs": []
    },
    {
      "cell_type": "code",
      "source": [
        "hist = model.fit(X_train, y_train, validation_split=0.2, epochs=30, batch_size=64, callbacks=[mc,es])"
      ],
      "metadata": {
        "colab": {
          "base_uri": "https://localhost:8080/"
        },
        "id": "XRhqaOJ17Rsd",
        "outputId": "3ad611eb-ec7c-48c9-8feb-cd030720927c"
      },
      "execution_count": 14,
      "outputs": [
        {
          "output_type": "stream",
          "name": "stdout",
          "text": [
            "Epoch 1/30\n",
            "249/250 [============================>.] - ETA: 0s - loss: 0.5224 - accuracy: 0.7302\n",
            "Epoch 1: val_loss improved from inf to 0.35241, saving model to best_imdb_lstm.h5\n",
            "250/250 [==============================] - 15s 33ms/step - loss: 0.5219 - accuracy: 0.7305 - val_loss: 0.3524 - val_accuracy: 0.8597\n",
            "Epoch 2/30\n",
            "249/250 [============================>.] - ETA: 0s - loss: 0.2793 - accuracy: 0.8874\n",
            "Epoch 2: val_loss improved from 0.35241 to 0.31979, saving model to best_imdb_lstm.h5\n",
            "250/250 [==============================] - 9s 35ms/step - loss: 0.2804 - accuracy: 0.8867 - val_loss: 0.3198 - val_accuracy: 0.8702\n",
            "Epoch 3/30\n",
            "249/250 [============================>.] - ETA: 0s - loss: 0.1868 - accuracy: 0.9290\n",
            "Epoch 3: val_loss improved from 0.31979 to 0.31349, saving model to best_imdb_lstm.h5\n",
            "250/250 [==============================] - 8s 31ms/step - loss: 0.1867 - accuracy: 0.9291 - val_loss: 0.3135 - val_accuracy: 0.8755\n",
            "Epoch 4/30\n",
            "249/250 [============================>.] - ETA: 0s - loss: 0.1882 - accuracy: 0.9258\n",
            "Epoch 4: val_loss did not improve from 0.31349\n",
            "250/250 [==============================] - 7s 30ms/step - loss: 0.1888 - accuracy: 0.9258 - val_loss: 0.4003 - val_accuracy: 0.8428\n",
            "Epoch 5/30\n",
            "249/250 [============================>.] - ETA: 0s - loss: 0.3225 - accuracy: 0.8526\n",
            "Epoch 5: val_loss did not improve from 0.31349\n",
            "250/250 [==============================] - 8s 30ms/step - loss: 0.3219 - accuracy: 0.8529 - val_loss: 0.3818 - val_accuracy: 0.8493\n",
            "Epoch 6/30\n",
            "249/250 [============================>.] - ETA: 0s - loss: 0.1127 - accuracy: 0.9591\n",
            "Epoch 6: val_loss did not improve from 0.31349\n",
            "250/250 [==============================] - 8s 32ms/step - loss: 0.1124 - accuracy: 0.9592 - val_loss: 0.3926 - val_accuracy: 0.8708\n",
            "Epoch 7/30\n",
            "249/250 [============================>.] - ETA: 0s - loss: 0.0680 - accuracy: 0.9767\n",
            "Epoch 7: val_loss did not improve from 0.31349\n",
            "250/250 [==============================] - 8s 33ms/step - loss: 0.0682 - accuracy: 0.9766 - val_loss: 0.4951 - val_accuracy: 0.8602\n",
            "Epoch 8/30\n",
            "249/250 [============================>.] - ETA: 0s - loss: 0.0409 - accuracy: 0.9879\n",
            "Epoch 8: val_loss did not improve from 0.31349\n",
            "250/250 [==============================] - 8s 31ms/step - loss: 0.0411 - accuracy: 0.9878 - val_loss: 0.5203 - val_accuracy: 0.8480\n"
          ]
        }
      ]
    },
    {
      "cell_type": "code",
      "source": [
        "best_model = load_model(model_path)\n",
        "best_model.evaluate(X_test, y_test)"
      ],
      "metadata": {
        "colab": {
          "base_uri": "https://localhost:8080/"
        },
        "id": "lZ53vrba7lwS",
        "outputId": "be00d221-38ed-4c72-d9f5-1ba80212703b"
      },
      "execution_count": 15,
      "outputs": [
        {
          "output_type": "stream",
          "name": "stdout",
          "text": [
            "157/157 [==============================] - 2s 12ms/step - loss: 0.3550 - accuracy: 0.8626\n"
          ]
        },
        {
          "output_type": "execute_result",
          "data": {
            "text/plain": [
              "[0.3549971580505371, 0.8626000285148621]"
            ]
          },
          "metadata": {},
          "execution_count": 15
        }
      ]
    },
    {
      "cell_type": "code",
      "source": [
        ""
      ],
      "metadata": {
        "id": "Dfz_o2nY8XFf"
      },
      "execution_count": null,
      "outputs": []
    }
  ]
}