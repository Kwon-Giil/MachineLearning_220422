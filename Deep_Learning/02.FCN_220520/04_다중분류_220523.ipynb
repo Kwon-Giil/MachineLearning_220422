{
  "nbformat": 4,
  "nbformat_minor": 0,
  "metadata": {
    "colab": {
      "name": "04_다중분류_220523.ipynb",
      "provenance": []
    },
    "kernelspec": {
      "name": "python3",
      "display_name": "Python 3"
    },
    "language_info": {
      "name": "python"
    }
  },
  "cells": [
    {
      "cell_type": "markdown",
      "source": [
        "# 다중 분류\n",
        " - wine 데이터"
      ],
      "metadata": {
        "id": "k_zr2BxuPY47"
      }
    },
    {
      "cell_type": "code",
      "execution_count": 48,
      "metadata": {
        "id": "a9uYgM6kPUlG"
      },
      "outputs": [],
      "source": [
        "import pandas as pd\n",
        "import numpy as np\n",
        "from sklearn.datasets import load_wine\n",
        "import matplotlib.pyplot as plt\n",
        "import tensorflow as tf\n",
        "seed = 2022\n",
        "np.random.seed(seed)\n",
        "tf.random.set_seed(seed)"
      ]
    },
    {
      "cell_type": "markdown",
      "source": [
        " - 데이터 전처리"
      ],
      "metadata": {
        "id": "awPz2XynQFrP"
      }
    },
    {
      "cell_type": "code",
      "source": [
        "wine = load_wine()\n",
        "wine.data.shape"
      ],
      "metadata": {
        "colab": {
          "base_uri": "https://localhost:8080/"
        },
        "id": "6jATaUZdPiqz",
        "outputId": "e86ee4d1-982b-409f-9710-a58fdccc3d10"
      },
      "execution_count": 49,
      "outputs": [
        {
          "output_type": "execute_result",
          "data": {
            "text/plain": [
              "(178, 13)"
            ]
          },
          "metadata": {},
          "execution_count": 49
        }
      ]
    },
    {
      "cell_type": "markdown",
      "source": [
        "# 데이터 표준화"
      ],
      "metadata": {
        "id": "bkiNOXgxQdlu"
      }
    },
    {
      "cell_type": "code",
      "source": [
        "# X 데이터는 표준화\n",
        "from sklearn.preprocessing import StandardScaler\n",
        "wine_std = StandardScaler().fit_transform(wine.data)"
      ],
      "metadata": {
        "id": "jD-3tpktQQLy"
      },
      "execution_count": 50,
      "outputs": []
    },
    {
      "cell_type": "code",
      "source": [
        "# y 데이터는 원핫 인코딩\n",
        "from tensorflow.keras.utils import to_categorical\n",
        "Y = to_categorical(wine.target)\n",
        "Y[:5]"
      ],
      "metadata": {
        "colab": {
          "base_uri": "https://localhost:8080/"
        },
        "id": "7V4O2qDWQU3q",
        "outputId": "8b5af930-5fdd-4e07-8ed9-734e4d1fbd6c"
      },
      "execution_count": 51,
      "outputs": [
        {
          "output_type": "execute_result",
          "data": {
            "text/plain": [
              "array([[1., 0., 0.],\n",
              "       [1., 0., 0.],\n",
              "       [1., 0., 0.],\n",
              "       [1., 0., 0.],\n",
              "       [1., 0., 0.]], dtype=float32)"
            ]
          },
          "metadata": {},
          "execution_count": 51
        }
      ]
    },
    {
      "cell_type": "code",
      "source": [
        "from sklearn.model_selection import train_test_split\n",
        "X_train, X_test, Y_train, Y_test = train_test_split(wine_std, Y, stratify=Y, test_size = 0.2, random_state=seed)\n",
        "X_train.shape, X_test.shape, Y_train.shape, Y_test.shape"
      ],
      "metadata": {
        "colab": {
          "base_uri": "https://localhost:8080/"
        },
        "id": "BZ2wW-j_RO5s",
        "outputId": "737ef5a7-5c43-42f0-82fb-7c49dd78589c"
      },
      "execution_count": 52,
      "outputs": [
        {
          "output_type": "execute_result",
          "data": {
            "text/plain": [
              "((142, 13), (36, 13), (142, 3), (36, 3))"
            ]
          },
          "metadata": {},
          "execution_count": 52
        }
      ]
    },
    {
      "cell_type": "markdown",
      "source": [
        " - 모델 정의, 설정, 학습, 평가"
      ],
      "metadata": {
        "id": "ttL7_ncHR2vE"
      }
    },
    {
      "cell_type": "code",
      "source": [
        "from tensorflow.keras.models import Sequential\n",
        "from tensorflow.keras.layers import Dense\n",
        "model = Sequential([Dense(30,input_dim=13, activation = 'relu'),\n",
        "                    Dense(12, activation='relu'),\n",
        "                    Dense(3, activation='softmax')]) # 출력층의 노드 수는 y의 종류 수, 활성화 함수는 softmax\n",
        "\n",
        "model.summary()"
      ],
      "metadata": {
        "colab": {
          "base_uri": "https://localhost:8080/"
        },
        "id": "qdmsN1FJR1Hb",
        "outputId": "f7fa0c6e-6763-4f93-d32a-97a18715ca6d"
      },
      "execution_count": 53,
      "outputs": [
        {
          "output_type": "stream",
          "name": "stdout",
          "text": [
            "Model: \"sequential_4\"\n",
            "_________________________________________________________________\n",
            " Layer (type)                Output Shape              Param #   \n",
            "=================================================================\n",
            " dense_12 (Dense)            (None, 30)                420       \n",
            "                                                                 \n",
            " dense_13 (Dense)            (None, 12)                372       \n",
            "                                                                 \n",
            " dense_14 (Dense)            (None, 3)                 39        \n",
            "                                                                 \n",
            "=================================================================\n",
            "Total params: 831\n",
            "Trainable params: 831\n",
            "Non-trainable params: 0\n",
            "_________________________________________________________________\n"
          ]
        }
      ]
    },
    {
      "cell_type": "code",
      "source": [
        "# 다중 분류시 손실 함수 = categorical_crossentropy\n",
        "model.compile('adam', 'categorical_crossentropy', metrics=['accuracy'])"
      ],
      "metadata": {
        "id": "wsBxWbh8S-G2"
      },
      "execution_count": 54,
      "outputs": []
    },
    {
      "cell_type": "code",
      "source": [
        "his = model.fit(X_train, Y_train, validation_split=0.2, epochs=100, batch_size=100)"
      ],
      "metadata": {
        "colab": {
          "base_uri": "https://localhost:8080/"
        },
        "id": "fdYwder6Tg2B",
        "outputId": "ecf122d5-409c-41dc-ec67-fd5c89dd07c1"
      },
      "execution_count": 55,
      "outputs": [
        {
          "output_type": "stream",
          "name": "stdout",
          "text": [
            "Epoch 1/100\n",
            "2/2 [==============================] - 2s 494ms/step - loss: 1.9052 - accuracy: 0.3097 - val_loss: 1.6885 - val_accuracy: 0.2414\n",
            "Epoch 2/100\n",
            "2/2 [==============================] - 0s 57ms/step - loss: 1.7975 - accuracy: 0.3274 - val_loss: 1.5971 - val_accuracy: 0.2414\n",
            "Epoch 3/100\n",
            "2/2 [==============================] - 0s 94ms/step - loss: 1.6979 - accuracy: 0.3274 - val_loss: 1.5142 - val_accuracy: 0.2414\n",
            "Epoch 4/100\n",
            "2/2 [==============================] - 0s 68ms/step - loss: 1.6102 - accuracy: 0.3363 - val_loss: 1.4398 - val_accuracy: 0.2759\n",
            "Epoch 5/100\n",
            "2/2 [==============================] - 0s 64ms/step - loss: 1.5276 - accuracy: 0.3363 - val_loss: 1.3735 - val_accuracy: 0.3103\n",
            "Epoch 6/100\n",
            "2/2 [==============================] - 0s 87ms/step - loss: 1.4533 - accuracy: 0.3540 - val_loss: 1.3120 - val_accuracy: 0.3448\n",
            "Epoch 7/100\n",
            "2/2 [==============================] - 0s 115ms/step - loss: 1.3849 - accuracy: 0.3894 - val_loss: 1.2561 - val_accuracy: 0.3448\n",
            "Epoch 8/100\n",
            "2/2 [==============================] - 0s 107ms/step - loss: 1.3211 - accuracy: 0.3982 - val_loss: 1.2059 - val_accuracy: 0.3793\n",
            "Epoch 9/100\n",
            "2/2 [==============================] - 0s 87ms/step - loss: 1.2617 - accuracy: 0.4336 - val_loss: 1.1593 - val_accuracy: 0.4138\n",
            "Epoch 10/100\n",
            "2/2 [==============================] - 0s 83ms/step - loss: 1.2093 - accuracy: 0.4513 - val_loss: 1.1157 - val_accuracy: 0.4483\n",
            "Epoch 11/100\n",
            "2/2 [==============================] - 0s 90ms/step - loss: 1.1600 - accuracy: 0.4602 - val_loss: 1.0763 - val_accuracy: 0.5172\n",
            "Epoch 12/100\n",
            "2/2 [==============================] - 0s 119ms/step - loss: 1.1148 - accuracy: 0.4956 - val_loss: 1.0410 - val_accuracy: 0.5172\n",
            "Epoch 13/100\n",
            "2/2 [==============================] - 0s 80ms/step - loss: 1.0720 - accuracy: 0.4956 - val_loss: 1.0088 - val_accuracy: 0.5517\n",
            "Epoch 14/100\n",
            "2/2 [==============================] - 0s 81ms/step - loss: 1.0346 - accuracy: 0.5310 - val_loss: 0.9797 - val_accuracy: 0.5862\n",
            "Epoch 15/100\n",
            "2/2 [==============================] - 0s 74ms/step - loss: 1.0003 - accuracy: 0.5575 - val_loss: 0.9535 - val_accuracy: 0.5862\n",
            "Epoch 16/100\n",
            "2/2 [==============================] - 0s 85ms/step - loss: 0.9690 - accuracy: 0.5664 - val_loss: 0.9290 - val_accuracy: 0.6207\n",
            "Epoch 17/100\n",
            "2/2 [==============================] - 0s 94ms/step - loss: 0.9397 - accuracy: 0.5841 - val_loss: 0.9055 - val_accuracy: 0.6207\n",
            "Epoch 18/100\n",
            "2/2 [==============================] - 0s 104ms/step - loss: 0.9120 - accuracy: 0.5841 - val_loss: 0.8836 - val_accuracy: 0.6207\n",
            "Epoch 19/100\n",
            "2/2 [==============================] - 0s 106ms/step - loss: 0.8872 - accuracy: 0.5841 - val_loss: 0.8628 - val_accuracy: 0.6552\n",
            "Epoch 20/100\n",
            "2/2 [==============================] - 0s 73ms/step - loss: 0.8635 - accuracy: 0.6018 - val_loss: 0.8431 - val_accuracy: 0.6552\n",
            "Epoch 21/100\n",
            "2/2 [==============================] - 0s 98ms/step - loss: 0.8404 - accuracy: 0.6195 - val_loss: 0.8242 - val_accuracy: 0.6552\n",
            "Epoch 22/100\n",
            "2/2 [==============================] - 0s 71ms/step - loss: 0.8195 - accuracy: 0.6283 - val_loss: 0.8059 - val_accuracy: 0.6897\n",
            "Epoch 23/100\n",
            "2/2 [==============================] - 0s 133ms/step - loss: 0.7987 - accuracy: 0.6372 - val_loss: 0.7885 - val_accuracy: 0.6897\n",
            "Epoch 24/100\n",
            "2/2 [==============================] - 0s 105ms/step - loss: 0.7789 - accuracy: 0.6726 - val_loss: 0.7715 - val_accuracy: 0.6897\n",
            "Epoch 25/100\n",
            "2/2 [==============================] - 0s 76ms/step - loss: 0.7594 - accuracy: 0.7080 - val_loss: 0.7555 - val_accuracy: 0.6897\n",
            "Epoch 26/100\n",
            "2/2 [==============================] - 0s 115ms/step - loss: 0.7409 - accuracy: 0.7168 - val_loss: 0.7400 - val_accuracy: 0.7241\n",
            "Epoch 27/100\n",
            "2/2 [==============================] - 0s 90ms/step - loss: 0.7227 - accuracy: 0.7345 - val_loss: 0.7248 - val_accuracy: 0.7241\n",
            "Epoch 28/100\n",
            "2/2 [==============================] - 0s 121ms/step - loss: 0.7051 - accuracy: 0.7345 - val_loss: 0.7096 - val_accuracy: 0.7586\n",
            "Epoch 29/100\n",
            "2/2 [==============================] - 0s 124ms/step - loss: 0.6880 - accuracy: 0.7345 - val_loss: 0.6944 - val_accuracy: 0.7586\n",
            "Epoch 30/100\n",
            "2/2 [==============================] - 0s 95ms/step - loss: 0.6714 - accuracy: 0.7434 - val_loss: 0.6793 - val_accuracy: 0.7931\n",
            "Epoch 31/100\n",
            "2/2 [==============================] - 0s 84ms/step - loss: 0.6553 - accuracy: 0.7699 - val_loss: 0.6641 - val_accuracy: 0.7931\n",
            "Epoch 32/100\n",
            "2/2 [==============================] - 0s 63ms/step - loss: 0.6397 - accuracy: 0.7876 - val_loss: 0.6491 - val_accuracy: 0.8276\n",
            "Epoch 33/100\n",
            "2/2 [==============================] - 0s 98ms/step - loss: 0.6246 - accuracy: 0.8053 - val_loss: 0.6346 - val_accuracy: 0.8966\n",
            "Epoch 34/100\n",
            "2/2 [==============================] - 0s 89ms/step - loss: 0.6100 - accuracy: 0.8053 - val_loss: 0.6205 - val_accuracy: 0.8966\n",
            "Epoch 35/100\n",
            "2/2 [==============================] - 0s 49ms/step - loss: 0.5959 - accuracy: 0.8053 - val_loss: 0.6070 - val_accuracy: 0.8966\n",
            "Epoch 36/100\n",
            "2/2 [==============================] - 0s 66ms/step - loss: 0.5821 - accuracy: 0.8230 - val_loss: 0.5943 - val_accuracy: 0.8966\n",
            "Epoch 37/100\n",
            "2/2 [==============================] - 0s 28ms/step - loss: 0.5684 - accuracy: 0.8230 - val_loss: 0.5824 - val_accuracy: 0.8966\n",
            "Epoch 38/100\n",
            "2/2 [==============================] - 0s 32ms/step - loss: 0.5550 - accuracy: 0.8319 - val_loss: 0.5708 - val_accuracy: 0.8966\n",
            "Epoch 39/100\n",
            "2/2 [==============================] - 0s 34ms/step - loss: 0.5417 - accuracy: 0.8407 - val_loss: 0.5593 - val_accuracy: 0.8966\n",
            "Epoch 40/100\n",
            "2/2 [==============================] - 0s 69ms/step - loss: 0.5288 - accuracy: 0.8496 - val_loss: 0.5478 - val_accuracy: 0.8966\n",
            "Epoch 41/100\n",
            "2/2 [==============================] - 0s 31ms/step - loss: 0.5163 - accuracy: 0.8673 - val_loss: 0.5362 - val_accuracy: 0.8966\n",
            "Epoch 42/100\n",
            "2/2 [==============================] - 0s 80ms/step - loss: 0.5042 - accuracy: 0.8673 - val_loss: 0.5248 - val_accuracy: 0.8966\n",
            "Epoch 43/100\n",
            "2/2 [==============================] - 0s 48ms/step - loss: 0.4924 - accuracy: 0.8673 - val_loss: 0.5138 - val_accuracy: 0.8966\n",
            "Epoch 44/100\n",
            "2/2 [==============================] - 0s 28ms/step - loss: 0.4807 - accuracy: 0.8761 - val_loss: 0.5032 - val_accuracy: 0.8966\n",
            "Epoch 45/100\n",
            "2/2 [==============================] - 0s 35ms/step - loss: 0.4695 - accuracy: 0.8761 - val_loss: 0.4930 - val_accuracy: 0.8966\n",
            "Epoch 46/100\n",
            "2/2 [==============================] - 0s 37ms/step - loss: 0.4583 - accuracy: 0.8761 - val_loss: 0.4829 - val_accuracy: 0.8966\n",
            "Epoch 47/100\n",
            "2/2 [==============================] - 0s 51ms/step - loss: 0.4476 - accuracy: 0.8761 - val_loss: 0.4731 - val_accuracy: 0.8966\n",
            "Epoch 48/100\n",
            "2/2 [==============================] - 0s 42ms/step - loss: 0.4373 - accuracy: 0.9027 - val_loss: 0.4639 - val_accuracy: 0.8966\n",
            "Epoch 49/100\n",
            "2/2 [==============================] - 0s 32ms/step - loss: 0.4273 - accuracy: 0.9204 - val_loss: 0.4548 - val_accuracy: 0.8966\n",
            "Epoch 50/100\n",
            "2/2 [==============================] - 0s 39ms/step - loss: 0.4174 - accuracy: 0.9381 - val_loss: 0.4461 - val_accuracy: 0.8966\n",
            "Epoch 51/100\n",
            "2/2 [==============================] - 0s 61ms/step - loss: 0.4080 - accuracy: 0.9381 - val_loss: 0.4377 - val_accuracy: 0.8966\n",
            "Epoch 52/100\n",
            "2/2 [==============================] - 0s 30ms/step - loss: 0.3987 - accuracy: 0.9558 - val_loss: 0.4295 - val_accuracy: 0.9310\n",
            "Epoch 53/100\n",
            "2/2 [==============================] - 0s 32ms/step - loss: 0.3898 - accuracy: 0.9558 - val_loss: 0.4213 - val_accuracy: 0.9310\n",
            "Epoch 54/100\n",
            "2/2 [==============================] - 0s 42ms/step - loss: 0.3812 - accuracy: 0.9558 - val_loss: 0.4131 - val_accuracy: 0.9310\n",
            "Epoch 55/100\n",
            "2/2 [==============================] - 0s 28ms/step - loss: 0.3729 - accuracy: 0.9558 - val_loss: 0.4050 - val_accuracy: 0.9310\n",
            "Epoch 56/100\n",
            "2/2 [==============================] - 0s 31ms/step - loss: 0.3648 - accuracy: 0.9646 - val_loss: 0.3968 - val_accuracy: 0.9310\n",
            "Epoch 57/100\n",
            "2/2 [==============================] - 0s 29ms/step - loss: 0.3570 - accuracy: 0.9646 - val_loss: 0.3886 - val_accuracy: 0.9310\n",
            "Epoch 58/100\n",
            "2/2 [==============================] - 0s 32ms/step - loss: 0.3487 - accuracy: 0.9646 - val_loss: 0.3803 - val_accuracy: 0.9310\n",
            "Epoch 59/100\n",
            "2/2 [==============================] - 0s 29ms/step - loss: 0.3406 - accuracy: 0.9735 - val_loss: 0.3722 - val_accuracy: 0.9310\n",
            "Epoch 60/100\n",
            "2/2 [==============================] - 0s 40ms/step - loss: 0.3325 - accuracy: 0.9735 - val_loss: 0.3644 - val_accuracy: 0.9310\n",
            "Epoch 61/100\n",
            "2/2 [==============================] - 0s 28ms/step - loss: 0.3244 - accuracy: 0.9735 - val_loss: 0.3568 - val_accuracy: 0.9310\n",
            "Epoch 62/100\n",
            "2/2 [==============================] - 0s 30ms/step - loss: 0.3162 - accuracy: 0.9735 - val_loss: 0.3494 - val_accuracy: 0.9310\n",
            "Epoch 63/100\n",
            "2/2 [==============================] - 0s 20ms/step - loss: 0.3085 - accuracy: 0.9735 - val_loss: 0.3420 - val_accuracy: 0.9310\n",
            "Epoch 64/100\n",
            "2/2 [==============================] - 0s 19ms/step - loss: 0.3007 - accuracy: 0.9735 - val_loss: 0.3347 - val_accuracy: 0.9310\n",
            "Epoch 65/100\n",
            "2/2 [==============================] - 0s 19ms/step - loss: 0.2932 - accuracy: 0.9735 - val_loss: 0.3275 - val_accuracy: 0.9310\n",
            "Epoch 66/100\n",
            "2/2 [==============================] - 0s 20ms/step - loss: 0.2860 - accuracy: 0.9735 - val_loss: 0.3206 - val_accuracy: 0.9310\n",
            "Epoch 67/100\n",
            "2/2 [==============================] - 0s 20ms/step - loss: 0.2789 - accuracy: 0.9735 - val_loss: 0.3137 - val_accuracy: 0.9310\n",
            "Epoch 68/100\n",
            "2/2 [==============================] - 0s 23ms/step - loss: 0.2717 - accuracy: 0.9735 - val_loss: 0.3070 - val_accuracy: 0.9310\n",
            "Epoch 69/100\n",
            "2/2 [==============================] - 0s 20ms/step - loss: 0.2651 - accuracy: 0.9735 - val_loss: 0.3005 - val_accuracy: 0.9310\n",
            "Epoch 70/100\n",
            "2/2 [==============================] - 0s 21ms/step - loss: 0.2581 - accuracy: 0.9735 - val_loss: 0.2941 - val_accuracy: 0.9655\n",
            "Epoch 71/100\n",
            "2/2 [==============================] - 0s 25ms/step - loss: 0.2514 - accuracy: 0.9735 - val_loss: 0.2877 - val_accuracy: 0.9655\n",
            "Epoch 72/100\n",
            "2/2 [==============================] - 0s 22ms/step - loss: 0.2451 - accuracy: 0.9735 - val_loss: 0.2813 - val_accuracy: 0.9655\n",
            "Epoch 73/100\n",
            "2/2 [==============================] - 0s 21ms/step - loss: 0.2387 - accuracy: 0.9735 - val_loss: 0.2748 - val_accuracy: 0.9655\n",
            "Epoch 74/100\n",
            "2/2 [==============================] - 0s 22ms/step - loss: 0.2327 - accuracy: 0.9735 - val_loss: 0.2682 - val_accuracy: 0.9655\n",
            "Epoch 75/100\n",
            "2/2 [==============================] - 0s 23ms/step - loss: 0.2268 - accuracy: 0.9735 - val_loss: 0.2614 - val_accuracy: 0.9655\n",
            "Epoch 76/100\n",
            "2/2 [==============================] - 0s 20ms/step - loss: 0.2209 - accuracy: 0.9735 - val_loss: 0.2546 - val_accuracy: 0.9655\n",
            "Epoch 77/100\n",
            "2/2 [==============================] - 0s 23ms/step - loss: 0.2153 - accuracy: 0.9735 - val_loss: 0.2481 - val_accuracy: 0.9655\n",
            "Epoch 78/100\n",
            "2/2 [==============================] - 0s 31ms/step - loss: 0.2098 - accuracy: 0.9735 - val_loss: 0.2416 - val_accuracy: 0.9655\n",
            "Epoch 79/100\n",
            "2/2 [==============================] - 0s 22ms/step - loss: 0.2045 - accuracy: 0.9735 - val_loss: 0.2352 - val_accuracy: 0.9655\n",
            "Epoch 80/100\n",
            "2/2 [==============================] - 0s 25ms/step - loss: 0.1996 - accuracy: 0.9735 - val_loss: 0.2289 - val_accuracy: 0.9655\n",
            "Epoch 81/100\n",
            "2/2 [==============================] - 0s 22ms/step - loss: 0.1945 - accuracy: 0.9735 - val_loss: 0.2229 - val_accuracy: 0.9655\n",
            "Epoch 82/100\n",
            "2/2 [==============================] - 0s 21ms/step - loss: 0.1898 - accuracy: 0.9735 - val_loss: 0.2171 - val_accuracy: 0.9655\n",
            "Epoch 83/100\n",
            "2/2 [==============================] - 0s 20ms/step - loss: 0.1850 - accuracy: 0.9735 - val_loss: 0.2115 - val_accuracy: 0.9655\n",
            "Epoch 84/100\n",
            "2/2 [==============================] - 0s 19ms/step - loss: 0.1805 - accuracy: 0.9735 - val_loss: 0.2060 - val_accuracy: 0.9655\n",
            "Epoch 85/100\n",
            "2/2 [==============================] - 0s 20ms/step - loss: 0.1759 - accuracy: 0.9735 - val_loss: 0.2005 - val_accuracy: 0.9655\n",
            "Epoch 86/100\n",
            "2/2 [==============================] - 0s 19ms/step - loss: 0.1716 - accuracy: 0.9735 - val_loss: 0.1950 - val_accuracy: 0.9655\n",
            "Epoch 87/100\n",
            "2/2 [==============================] - 0s 24ms/step - loss: 0.1675 - accuracy: 0.9735 - val_loss: 0.1898 - val_accuracy: 0.9655\n",
            "Epoch 88/100\n",
            "2/2 [==============================] - 0s 19ms/step - loss: 0.1634 - accuracy: 0.9735 - val_loss: 0.1848 - val_accuracy: 0.9655\n",
            "Epoch 89/100\n",
            "2/2 [==============================] - 0s 20ms/step - loss: 0.1595 - accuracy: 0.9735 - val_loss: 0.1798 - val_accuracy: 0.9655\n",
            "Epoch 90/100\n",
            "2/2 [==============================] - 0s 22ms/step - loss: 0.1556 - accuracy: 0.9735 - val_loss: 0.1750 - val_accuracy: 0.9655\n",
            "Epoch 91/100\n",
            "2/2 [==============================] - 0s 19ms/step - loss: 0.1517 - accuracy: 0.9735 - val_loss: 0.1703 - val_accuracy: 0.9655\n",
            "Epoch 92/100\n",
            "2/2 [==============================] - 0s 20ms/step - loss: 0.1483 - accuracy: 0.9823 - val_loss: 0.1659 - val_accuracy: 1.0000\n",
            "Epoch 93/100\n",
            "2/2 [==============================] - 0s 20ms/step - loss: 0.1448 - accuracy: 0.9823 - val_loss: 0.1617 - val_accuracy: 1.0000\n",
            "Epoch 94/100\n",
            "2/2 [==============================] - 0s 19ms/step - loss: 0.1415 - accuracy: 0.9823 - val_loss: 0.1578 - val_accuracy: 1.0000\n",
            "Epoch 95/100\n",
            "2/2 [==============================] - 0s 20ms/step - loss: 0.1382 - accuracy: 0.9823 - val_loss: 0.1541 - val_accuracy: 1.0000\n",
            "Epoch 96/100\n",
            "2/2 [==============================] - 0s 19ms/step - loss: 0.1351 - accuracy: 0.9823 - val_loss: 0.1507 - val_accuracy: 1.0000\n",
            "Epoch 97/100\n",
            "2/2 [==============================] - 0s 19ms/step - loss: 0.1320 - accuracy: 0.9823 - val_loss: 0.1475 - val_accuracy: 1.0000\n",
            "Epoch 98/100\n",
            "2/2 [==============================] - 0s 22ms/step - loss: 0.1291 - accuracy: 0.9823 - val_loss: 0.1444 - val_accuracy: 1.0000\n",
            "Epoch 99/100\n",
            "2/2 [==============================] - 0s 21ms/step - loss: 0.1264 - accuracy: 0.9823 - val_loss: 0.1414 - val_accuracy: 1.0000\n",
            "Epoch 100/100\n",
            "2/2 [==============================] - 0s 24ms/step - loss: 0.1237 - accuracy: 0.9823 - val_loss: 0.1385 - val_accuracy: 1.0000\n"
          ]
        }
      ]
    },
    {
      "cell_type": "code",
      "source": [
        "model.evaluate(X_test, Y_test)"
      ],
      "metadata": {
        "colab": {
          "base_uri": "https://localhost:8080/"
        },
        "id": "BUtZSc91T8-2",
        "outputId": "974f38b2-9c80-478f-f2f4-431a0bb0c99a"
      },
      "execution_count": 56,
      "outputs": [
        {
          "output_type": "stream",
          "name": "stdout",
          "text": [
            "2/2 [==============================] - 0s 6ms/step - loss: 0.1301 - accuracy: 0.9722\n"
          ]
        },
        {
          "output_type": "execute_result",
          "data": {
            "text/plain": [
              "[0.13005691766738892, 0.9722222089767456]"
            ]
          },
          "metadata": {},
          "execution_count": 56
        }
      ]
    },
    {
      "cell_type": "markdown",
      "source": [
        " - 학습과정 시각화"
      ],
      "metadata": {
        "id": "nJHkr50qUT4E"
      }
    },
    {
      "cell_type": "code",
      "source": [
        "y_acc = his.history['accuracy']\n",
        "y_vloss = his.history['val_loss']\n",
        "xs = np.arange(1,len(y_acc)+1)"
      ],
      "metadata": {
        "id": "BVyoracwUNBU"
      },
      "execution_count": 57,
      "outputs": []
    },
    {
      "cell_type": "code",
      "source": [
        "plt.figure(figsize=(12,8))\n",
        "plt.plot(xs, y_acc, label='train accuracy')\n",
        "plt.plot(xs, y_vloss, label='validation loss')\n",
        "plt.legend(), plt.grid()\n",
        "plt.xlabel('Epoch')\n",
        "plt.show()"
      ],
      "metadata": {
        "colab": {
          "base_uri": "https://localhost:8080/",
          "height": 497
        },
        "id": "FJbCtSKjU6A4",
        "outputId": "9897227e-d3d4-40ea-a7ae-b6d5ad3b4768"
      },
      "execution_count": 58,
      "outputs": [
        {
          "output_type": "display_data",
          "data": {
            "text/plain": [
              "<Figure size 864x576 with 1 Axes>"
            ],
            "image/png": "[encoded data removed]"
          },
          "metadata": {
            "needs_background": "light"
          }
        }
      ]
    },
    {
      "cell_type": "markdown",
      "source": [
        " - epoch 횟수를 더 늘려본다."
      ],
      "metadata": {
        "id": "GMTyo7uLValP"
      }
    },
    {
      "cell_type": "code",
      "source": [
        "model2 = Sequential([Dense(30,input_dim=13, activation = 'relu'),\n",
        "                    Dense(12, activation='relu'),\n",
        "                    Dense(3, activation='softmax')]) # 출력층의 노드 수는 y의 종류 수, 활성화 함수는 softmax\n",
        "\n",
        "model2.summary()"
      ],
      "metadata": {
        "colab": {
          "base_uri": "https://localhost:8080/"
        },
        "id": "nE8VXTJ8VT_y",
        "outputId": "79fbf297-024e-4873-9666-41a164f92ee8"
      },
      "execution_count": 59,
      "outputs": [
        {
          "output_type": "stream",
          "name": "stdout",
          "text": [
            "Model: \"sequential_5\"\n",
            "_________________________________________________________________\n",
            " Layer (type)                Output Shape              Param #   \n",
            "=================================================================\n",
            " dense_15 (Dense)            (None, 30)                420       \n",
            "                                                                 \n",
            " dense_16 (Dense)            (None, 12)                372       \n",
            "                                                                 \n",
            " dense_17 (Dense)            (None, 3)                 39        \n",
            "                                                                 \n",
            "=================================================================\n",
            "Total params: 831\n",
            "Trainable params: 831\n",
            "Non-trainable params: 0\n",
            "_________________________________________________________________\n"
          ]
        }
      ]
    },
    {
      "cell_type": "code",
      "source": [
        "model2.compile('adam', 'categorical_crossentropy', metrics=['accuracy'])"
      ],
      "metadata": {
        "id": "q9MCMvNnV1vq"
      },
      "execution_count": 60,
      "outputs": []
    },
    {
      "cell_type": "code",
      "source": [
        "his2 = model2.fit(X_train, Y_train, validation_split=0.2, epochs=1000, batch_size=100, verbose=0)"
      ],
      "metadata": {
        "id": "NATIrTwYV8t8"
      },
      "execution_count": 61,
      "outputs": []
    },
    {
      "cell_type": "code",
      "source": [
        "y_acc2 = his2.history['accuracy']\n",
        "y_vloss2 = his2.history['val_loss']\n",
        "xs = np.arange(1,len(y_acc2)+1)"
      ],
      "metadata": {
        "id": "xsYPVI4HWHXU"
      },
      "execution_count": 62,
      "outputs": []
    },
    {
      "cell_type": "code",
      "source": [
        "plt.figure(figsize=(12,8))\n",
        "plt.plot(xs, y_acc2, label='train accuracy')\n",
        "plt.plot(xs,y_vloss2, label='validation loss')\n",
        "plt.legend(), plt.grid()\n",
        "plt.xlabel('epoch')\n",
        "plt.show()"
      ],
      "metadata": {
        "colab": {
          "base_uri": "https://localhost:8080/",
          "height": 497
        },
        "id": "wA86wPUkWTbb",
        "outputId": "00173ad5-62ca-4565-c695-d96992eaea2d"
      },
      "execution_count": 63,
      "outputs": [
        {
          "output_type": "display_data",
          "data": {
            "text/plain": [
              "<Figure size 864x576 with 1 Axes>"
            ],
            "image/png": "[encoded data removed]"
          },
          "metadata": {
            "needs_background": "light"
          }
        }
      ]
    },
    {
      "cell_type": "markdown",
      "source": [
        " - 모델 저장 및 로드"
      ],
      "metadata": {
        "id": "XvnS2eIoXL1Q"
      }
    },
    {
      "cell_type": "code",
      "source": [
        "model2.save('wine.h5')"
      ],
      "metadata": {
        "id": "F5W-nQpYWs5K"
      },
      "execution_count": 64,
      "outputs": []
    },
    {
      "cell_type": "code",
      "source": [
        "!ls -l"
      ],
      "metadata": {
        "colab": {
          "base_uri": "https://localhost:8080/"
        },
        "id": "VuQ-P3McXZRh",
        "outputId": "0ebabfa0-5dd7-489d-bf9a-621fd8febd9a"
      },
      "execution_count": 65,
      "outputs": [
        {
          "output_type": "stream",
          "name": "stdout",
          "text": [
            "total 48\n",
            "drwxr-xr-x 1 root root  4096 May 17 13:39 sample_data\n",
            "-rw-r--r-- 1 root root 43800 May 23 01:29 wine.h5\n"
          ]
        }
      ]
    },
    {
      "cell_type": "code",
      "source": [
        "from tensorflow.keras.models import load_model\n",
        "my_model = load_model('wine.h5')"
      ],
      "metadata": {
        "id": "MIhXIMY7XfS3"
      },
      "execution_count": 66,
      "outputs": []
    },
    {
      "cell_type": "code",
      "source": [
        "my_model.evaluate(X_test, Y_test)"
      ],
      "metadata": {
        "colab": {
          "base_uri": "https://localhost:8080/"
        },
        "id": "uLvhMVzUXzGV",
        "outputId": "9b93d910-be42-4ea0-a5d4-f9809f77c394"
      },
      "execution_count": 67,
      "outputs": [
        {
          "output_type": "stream",
          "name": "stdout",
          "text": [
            "2/2 [==============================] - 0s 4ms/step - loss: 6.3747e-04 - accuracy: 1.0000\n"
          ]
        },
        {
          "output_type": "execute_result",
          "data": {
            "text/plain": [
              "[0.0006374737713485956, 1.0]"
            ]
          },
          "metadata": {},
          "execution_count": 67
        }
      ]
    },
    {
      "cell_type": "markdown",
      "source": [
        " -  실제 데이터 테스트"
      ],
      "metadata": {
        "id": "jaEvjACtYGvd"
      }
    },
    {
      "cell_type": "code",
      "source": [
        "wine_std[100], Y[100]"
      ],
      "metadata": {
        "colab": {
          "base_uri": "https://localhost:8080/"
        },
        "id": "mZeQHgEwX4q5",
        "outputId": "f7918b3e-af35-4c24-c609-bab19e902f97"
      },
      "execution_count": 68,
      "outputs": [
        {
          "output_type": "execute_result",
          "data": {
            "text/plain": [
              "(array([-1.13720713, -0.23011443, -2.43634632, -0.59905169, -0.192495  ,\n",
              "        -0.10433159,  0.14128858, -0.82071924, -0.33447089, -0.76049691,\n",
              "         1.37126518,  0.49197446, -0.11748635]),\n",
              " array([0., 1., 0.], dtype=float32))"
            ]
          },
          "metadata": {},
          "execution_count": 68
        }
      ]
    },
    {
      "cell_type": "code",
      "source": [
        "wine.target_names"
      ],
      "metadata": {
        "colab": {
          "base_uri": "https://localhost:8080/"
        },
        "id": "eEUiyFzYYPP3",
        "outputId": "136ebddb-123c-4a9d-e474-45dc77b60db9"
      },
      "execution_count": 69,
      "outputs": [
        {
          "output_type": "execute_result",
          "data": {
            "text/plain": [
              "array(['class_0', 'class_1', 'class_2'], dtype='<U7')"
            ]
          },
          "metadata": {},
          "execution_count": 69
        }
      ]
    },
    {
      "cell_type": "code",
      "source": [
        "# 데이터 형태를 모두 1차원 형태로 맞춰줘야 한다\n",
        "my_model.evaluate(wine_std[100].reshape(1,-1), Y[100].reshape(1,-1))"
      ],
      "metadata": {
        "colab": {
          "base_uri": "https://localhost:8080/"
        },
        "id": "d_bw0xKzYeCo",
        "outputId": "10fa21af-7b19-41b4-89e8-57319d190bf4"
      },
      "execution_count": 70,
      "outputs": [
        {
          "output_type": "stream",
          "name": "stdout",
          "text": [
            "1/1 [==============================] - 0s 15ms/step - loss: 1.9073e-06 - accuracy: 1.0000\n"
          ]
        },
        {
          "output_type": "execute_result",
          "data": {
            "text/plain": [
              "[1.9073468138230965e-06, 1.0]"
            ]
          },
          "metadata": {},
          "execution_count": 70
        }
      ]
    },
    {
      "cell_type": "code",
      "source": [
        ""
      ],
      "metadata": {
        "id": "qXUpJrduY23a"
      },
      "execution_count": 70,
      "outputs": []
    }
  ]
}