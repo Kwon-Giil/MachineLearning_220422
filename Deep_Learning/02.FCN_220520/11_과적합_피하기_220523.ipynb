{
  "nbformat": 4,
  "nbformat_minor": 0,
  "metadata": {
    "colab": {
      "name": "11_과적합 피하기_220523.ipynb",
      "provenance": [],
      "collapsed_sections": []
    },
    "kernelspec": {
      "name": "python3",
      "display_name": "Python 3"
    },
    "language_info": {
      "name": "python"
    }
  },
  "cells": [
    {
      "cell_type": "markdown",
      "source": [
        "# 과적합 피하기 - 초음파 광물 데이터"
      ],
      "metadata": {
        "id": "1-wpuQMIpi-f"
      }
    },
    {
      "cell_type": "code",
      "execution_count": 87,
      "metadata": {
        "id": "u-1hZ6oipSCB"
      },
      "outputs": [],
      "source": [
        "import pandas as pd\n",
        "import numpy as np\n",
        "import matplotlib.pyplot as plt\n",
        "import tensorflow as tf\n",
        "seed = 2022\n",
        "np.random.seed(seed)\n",
        "tf.random.set_seed(seed)"
      ]
    },
    {
      "cell_type": "code",
      "source": [
        "from google.colab import files\n",
        "up = files.upload()"
      ],
      "metadata": {
        "colab": {
          "resources": {
            "http://localhost:8080/nbextensions/google.colab/files.js": {
              "data": "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",
              "ok": true,
              "headers": [
                [
                  "content-type",
                  "application/javascript"
                ]
              ],
              "status": 200,
              "status_text": ""
            }
          },
          "base_uri": "https://localhost:8080/",
          "height": 76
        },
        "id": "zrKz2jPyqLbo",
        "outputId": "72d47e2e-03cd-46e1-df50-7b3b078de70f"
      },
      "execution_count": 88,
      "outputs": [
        {
          "output_type": "display_data",
          "data": {
            "text/plain": [
              "<IPython.core.display.HTML object>"
            ],
            "text/html": [
              "\n",
              "     <input type=\"file\" id=\"files-df5cbff7-e739-4f2e-97a7-15e617e7688d\" name=\"files[]\" multiple disabled\n",
              "        style=\"border:none\" />\n",
              "     <output id=\"result-df5cbff7-e739-4f2e-97a7-15e617e7688d\">\n",
              "      Upload widget is only available when the cell has been executed in the\n",
              "      current browser session. Please rerun this cell to enable.\n",
              "      </output>\n",
              "      <script src=\"/nbextensions/google.colab/files.js\"></script> "
            ]
          },
          "metadata": {}
        },
        {
          "output_type": "stream",
          "name": "stdout",
          "text": [
            "Saving sonar.csv to sonar (2).csv\n"
          ]
        }
      ]
    },
    {
      "cell_type": "code",
      "source": [
        "df = pd.read_csv('sonar.csv', header= None)\n",
        "df.head(3)"
      ],
      "metadata": {
        "colab": {
          "base_uri": "https://localhost:8080/",
          "height": 217
        },
        "id": "JLGuqsyCqTVe",
        "outputId": "01395a9a-553f-4117-cb49-49ec338441fe"
      },
      "execution_count": 89,
      "outputs": [
        {
          "output_type": "execute_result",
          "data": {
            "text/plain": [
              "       0       1       2       3       4       5       6       7       8   \\\n",
              "0  0.0200  0.0371  0.0428  0.0207  0.0954  0.0986  0.1539  0.1601  0.3109   \n",
              "1  0.0453  0.0523  0.0843  0.0689  0.1183  0.2583  0.2156  0.3481  0.3337   \n",
              "2  0.0262  0.0582  0.1099  0.1083  0.0974  0.2280  0.2431  0.3771  0.5598   \n",
              "\n",
              "       9   ...      51      52      53      54      55      56      57  \\\n",
              "0  0.2111  ...  0.0027  0.0065  0.0159  0.0072  0.0167  0.0180  0.0084   \n",
              "1  0.2872  ...  0.0084  0.0089  0.0048  0.0094  0.0191  0.0140  0.0049   \n",
              "2  0.6194  ...  0.0232  0.0166  0.0095  0.0180  0.0244  0.0316  0.0164   \n",
              "\n",
              "       58      59  60  \n",
              "0  0.0090  0.0032   R  \n",
              "1  0.0052  0.0044   R  \n",
              "2  0.0095  0.0078   R  \n",
              "\n",
              "[3 rows x 61 columns]"
            ],
            "text/html": [
              "\n",
              "  <div id=\"df-ce13a16c-1068-4588-97d6-8524e7dd0bf1\">\n",
              "    <div class=\"colab-df-container\">\n",
              "      <div>\n",
              "<style scoped>\n",
              "    .dataframe tbody tr th:only-of-type {\n",
              "        vertical-align: middle;\n",
              "    }\n",
              "\n",
              "    .dataframe tbody tr th {\n",
              "        vertical-align: top;\n",
              "    }\n",
              "\n",
              "    .dataframe thead th {\n",
              "        text-align: right;\n",
              "    }\n",
              "</style>\n",
              "<table border=\"1\" class=\"dataframe\">\n",
              "  <thead>\n",
              "    <tr style=\"text-align: right;\">\n",
              "      <th></th>\n",
              "      <th>0</th>\n",
              "      <th>1</th>\n",
              "      <th>2</th>\n",
              "      <th>3</th>\n",
              "      <th>4</th>\n",
              "      <th>5</th>\n",
              "      <th>6</th>\n",
              "      <th>7</th>\n",
              "      <th>8</th>\n",
              "      <th>9</th>\n",
              "      <th>...</th>\n",
              "      <th>51</th>\n",
              "      <th>52</th>\n",
              "      <th>53</th>\n",
              "      <th>54</th>\n",
              "      <th>55</th>\n",
              "      <th>56</th>\n",
              "      <th>57</th>\n",
              "      <th>58</th>\n",
              "      <th>59</th>\n",
              "      <th>60</th>\n",
              "    </tr>\n",
              "  </thead>\n",
              "  <tbody>\n",
              "    <tr>\n",
              "      <th>0</th>\n",
              "      <td>0.0200</td>\n",
              "      <td>0.0371</td>\n",
              "      <td>0.0428</td>\n",
              "      <td>0.0207</td>\n",
              "      <td>0.0954</td>\n",
              "      <td>0.0986</td>\n",
              "      <td>0.1539</td>\n",
              "      <td>0.1601</td>\n",
              "      <td>0.3109</td>\n",
              "      <td>0.2111</td>\n",
              "      <td>...</td>\n",
              "      <td>0.0027</td>\n",
              "      <td>0.0065</td>\n",
              "      <td>0.0159</td>\n",
              "      <td>0.0072</td>\n",
              "      <td>0.0167</td>\n",
              "      <td>0.0180</td>\n",
              "      <td>0.0084</td>\n",
              "      <td>0.0090</td>\n",
              "      <td>0.0032</td>\n",
              "      <td>R</td>\n",
              "    </tr>\n",
              "    <tr>\n",
              "      <th>1</th>\n",
              "      <td>0.0453</td>\n",
              "      <td>0.0523</td>\n",
              "      <td>0.0843</td>\n",
              "      <td>0.0689</td>\n",
              "      <td>0.1183</td>\n",
              "      <td>0.2583</td>\n",
              "      <td>0.2156</td>\n",
              "      <td>0.3481</td>\n",
              "      <td>0.3337</td>\n",
              "      <td>0.2872</td>\n",
              "      <td>...</td>\n",
              "      <td>0.0084</td>\n",
              "      <td>0.0089</td>\n",
              "      <td>0.0048</td>\n",
              "      <td>0.0094</td>\n",
              "      <td>0.0191</td>\n",
              "      <td>0.0140</td>\n",
              "      <td>0.0049</td>\n",
              "      <td>0.0052</td>\n",
              "      <td>0.0044</td>\n",
              "      <td>R</td>\n",
              "    </tr>\n",
              "    <tr>\n",
              "      <th>2</th>\n",
              "      <td>0.0262</td>\n",
              "      <td>0.0582</td>\n",
              "      <td>0.1099</td>\n",
              "      <td>0.1083</td>\n",
              "      <td>0.0974</td>\n",
              "      <td>0.2280</td>\n",
              "      <td>0.2431</td>\n",
              "      <td>0.3771</td>\n",
              "      <td>0.5598</td>\n",
              "      <td>0.6194</td>\n",
              "      <td>...</td>\n",
              "      <td>0.0232</td>\n",
              "      <td>0.0166</td>\n",
              "      <td>0.0095</td>\n",
              "      <td>0.0180</td>\n",
              "      <td>0.0244</td>\n",
              "      <td>0.0316</td>\n",
              "      <td>0.0164</td>\n",
              "      <td>0.0095</td>\n",
              "      <td>0.0078</td>\n",
              "      <td>R</td>\n",
              "    </tr>\n",
              "  </tbody>\n",
              "</table>\n",
              "<p>3 rows × 61 columns</p>\n",
              "</div>\n",
              "      <button class=\"colab-df-convert\" onclick=\"convertToInteractive('df-ce13a16c-1068-4588-97d6-8524e7dd0bf1')\"\n",
              "              title=\"Convert this dataframe to an interactive table.\"\n",
              "              style=\"display:none;\">\n",
              "        \n",
              "  <svg xmlns=\"http://www.w3.org/2000/svg\" height=\"24px\"viewBox=\"0 0 24 24\"\n",
              "       width=\"24px\">\n",
              "    <path d=\"M0 0h24v24H0V0z\" fill=\"none\"/>\n",
              "    <path d=\"M18.56 5.44l.94 2.06.94-2.06 2.06-.94-2.06-.94-.94-2.06-.94 2.06-2.06.94zm-11 1L8.5 8.5l.94-2.06 2.06-.94-2.06-.94L8.5 2.5l-.94 2.06-2.06.94zm10 10l.94 2.06.94-2.06 2.06-.94-2.06-.94-.94-2.06-.94 2.06-2.06.94z\"/><path d=\"M17.41 7.96l-1.37-1.37c-.4-.4-.92-.59-1.43-.59-.52 0-1.04.2-1.43.59L10.3 9.45l-7.72 7.72c-.78.78-.78 2.05 0 2.83L4 21.41c.39.39.9.59 1.41.59.51 0 1.02-.2 1.41-.59l7.78-7.78 2.81-2.81c.8-.78.8-2.07 0-2.86zM5.41 20L4 18.59l7.72-7.72 1.47 1.35L5.41 20z\"/>\n",
              "  </svg>\n",
              "      </button>\n",
              "      \n",
              "  <style>\n",
              "    .colab-df-container {\n",
              "      display:flex;\n",
              "      flex-wrap:wrap;\n",
              "      gap: 12px;\n",
              "    }\n",
              "\n",
              "    .colab-df-convert {\n",
              "      background-color: #E8F0FE;\n",
              "      border: none;\n",
              "      border-radius: 50%;\n",
              "      cursor: pointer;\n",
              "      display: none;\n",
              "      fill: #1967D2;\n",
              "      height: 32px;\n",
              "      padding: 0 0 0 0;\n",
              "      width: 32px;\n",
              "    }\n",
              "\n",
              "    .colab-df-convert:hover {\n",
              "      background-color: #E2EBFA;\n",
              "      box-shadow: 0px 1px 2px rgba(60, 64, 67, 0.3), 0px 1px 3px 1px rgba(60, 64, 67, 0.15);\n",
              "      fill: #174EA6;\n",
              "    }\n",
              "\n",
              "    [theme=dark] .colab-df-convert {\n",
              "      background-color: #3B4455;\n",
              "      fill: #D2E3FC;\n",
              "    }\n",
              "\n",
              "    [theme=dark] .colab-df-convert:hover {\n",
              "      background-color: #434B5C;\n",
              "      box-shadow: 0px 1px 3px 1px rgba(0, 0, 0, 0.15);\n",
              "      filter: drop-shadow(0px 1px 2px rgba(0, 0, 0, 0.3));\n",
              "      fill: #FFFFFF;\n",
              "    }\n",
              "  </style>\n",
              "\n",
              "      <script>\n",
              "        const buttonEl =\n",
              "          document.querySelector('#df-ce13a16c-1068-4588-97d6-8524e7dd0bf1 button.colab-df-convert');\n",
              "        buttonEl.style.display =\n",
              "          google.colab.kernel.accessAllowed ? 'block' : 'none';\n",
              "\n",
              "        async function convertToInteractive(key) {\n",
              "          const element = document.querySelector('#df-ce13a16c-1068-4588-97d6-8524e7dd0bf1');\n",
              "          const dataTable =\n",
              "            await google.colab.kernel.invokeFunction('convertToInteractive',\n",
              "                                                     [key], {});\n",
              "          if (!dataTable) return;\n",
              "\n",
              "          const docLinkHtml = 'Like what you see? Visit the ' +\n",
              "            '<a target=\"_blank\" href=https://colab.research.google.com/notebooks/data_table.ipynb>data table notebook</a>'\n",
              "            + ' to learn more about interactive tables.';\n",
              "          element.innerHTML = '';\n",
              "          dataTable['output_type'] = 'display_data';\n",
              "          await google.colab.output.renderOutput(dataTable, element);\n",
              "          const docLink = document.createElement('div');\n",
              "          docLink.innerHTML = docLinkHtml;\n",
              "          element.appendChild(docLink);\n",
              "        }\n",
              "      </script>\n",
              "    </div>\n",
              "  </div>\n",
              "  "
            ]
          },
          "metadata": {},
          "execution_count": 89
        }
      ]
    },
    {
      "cell_type": "code",
      "source": [
        "df[60].value_counts()"
      ],
      "metadata": {
        "colab": {
          "base_uri": "https://localhost:8080/"
        },
        "id": "RvQ8DDpSqle8",
        "outputId": "e7a79cf9-a538-4782-d615-1f7b30b145e8"
      },
      "execution_count": 90,
      "outputs": [
        {
          "output_type": "execute_result",
          "data": {
            "text/plain": [
              "M    111\n",
              "R     97\n",
              "Name: 60, dtype: int64"
            ]
          },
          "metadata": {},
          "execution_count": 90
        }
      ]
    },
    {
      "cell_type": "code",
      "source": [
        "# X data: scaling\n",
        "from sklearn.preprocessing import StandardScaler\n",
        "X_scaled = StandardScaler().fit_transform(df.iloc[:,:-1].values)"
      ],
      "metadata": {
        "id": "KcOPMqjbqsCs"
      },
      "execution_count": 91,
      "outputs": []
    },
    {
      "cell_type": "code",
      "source": [
        "# Y data: label encoding\n",
        "from sklearn.preprocessing import LabelEncoder\n",
        "y_labeled = LabelEncoder().fit_transform(df[60].values)"
      ],
      "metadata": {
        "id": "kx4U-kiIro7Q"
      },
      "execution_count": 92,
      "outputs": []
    },
    {
      "cell_type": "code",
      "source": [
        "from sklearn.model_selection import train_test_split\n",
        "X_train, X_test, y_train, y_test = train_test_split(X_scaled, y_labeled, stratify = y_labeled, test_size=0.2, random_state=seed)"
      ],
      "metadata": {
        "id": "jClNBQkEr7ez"
      },
      "execution_count": 93,
      "outputs": []
    },
    {
      "cell_type": "markdown",
      "source": [
        " - 모델 정의, 설정, 학습, 평가"
      ],
      "metadata": {
        "id": "lLD8gWK6saEq"
      }
    },
    {
      "cell_type": "code",
      "source": [
        "from tensorflow.keras.models import Sequential\n",
        "from tensorflow.keras.layers import Dense"
      ],
      "metadata": {
        "id": "Orx09r6csXiE"
      },
      "execution_count": 94,
      "outputs": []
    },
    {
      "cell_type": "markdown",
      "source": [
        " - case1) 은닉층 2개"
      ],
      "metadata": {
        "id": "haGV22fqswx1"
      }
    },
    {
      "cell_type": "code",
      "source": [
        "mod1 = Sequential([Dense(80, input_dim=60, activation='relu'),\n",
        "                   Dense(12, activation='relu'),\n",
        "                   Dense(1,activation='sigmoid')])\n",
        "mod1.summary()"
      ],
      "metadata": {
        "colab": {
          "base_uri": "https://localhost:8080/"
        },
        "id": "hk6YCkn1spIZ",
        "outputId": "3e74937b-7648-46de-a643-9f0d3d33a95c"
      },
      "execution_count": 95,
      "outputs": [
        {
          "output_type": "stream",
          "name": "stdout",
          "text": [
            "Model: \"sequential_12\"\n",
            "_________________________________________________________________\n",
            " Layer (type)                Output Shape              Param #   \n",
            "=================================================================\n",
            " dense_70 (Dense)            (None, 80)                4880      \n",
            "                                                                 \n",
            " dense_71 (Dense)            (None, 12)                972       \n",
            "                                                                 \n",
            " dense_72 (Dense)            (None, 1)                 13        \n",
            "                                                                 \n",
            "=================================================================\n",
            "Total params: 5,865\n",
            "Trainable params: 5,865\n",
            "Non-trainable params: 0\n",
            "_________________________________________________________________\n"
          ]
        }
      ]
    },
    {
      "cell_type": "code",
      "source": [
        "params1 = 5865"
      ],
      "metadata": {
        "id": "7mtzi7pUtSxZ"
      },
      "execution_count": 96,
      "outputs": []
    },
    {
      "cell_type": "code",
      "source": [
        "mod1.compile('adam', 'binary_crossentropy', metrics=['accuracy'])\n",
        "hist1 = mod1.fit(X_train, y_train, validation_split=0.2, epochs=200, batch_size=100, verbose=0)"
      ],
      "metadata": {
        "id": "SMtUy49otZk8"
      },
      "execution_count": 97,
      "outputs": []
    },
    {
      "cell_type": "code",
      "source": [
        "mod1.evaluate(X_test, y_test)"
      ],
      "metadata": {
        "colab": {
          "base_uri": "https://localhost:8080/"
        },
        "id": "W9DDe_xXuBhM",
        "outputId": "101b1714-d4e4-4035-c365-2c6c8340ce65"
      },
      "execution_count": 98,
      "outputs": [
        {
          "output_type": "stream",
          "name": "stdout",
          "text": [
            "2/2 [==============================] - 0s 4ms/step - loss: 0.3303 - accuracy: 0.9048\n"
          ]
        },
        {
          "output_type": "execute_result",
          "data": {
            "text/plain": [
              "[0.33029451966285706, 0.9047619104385376]"
            ]
          },
          "metadata": {},
          "execution_count": 98
        }
      ]
    },
    {
      "cell_type": "code",
      "source": [
        "params1, acc1 = 5865, 0.9048"
      ],
      "metadata": {
        "id": "SlFl5uEYuPsG"
      },
      "execution_count": 99,
      "outputs": []
    },
    {
      "cell_type": "markdown",
      "source": [
        " - case2) 은닉층 4개"
      ],
      "metadata": {
        "id": "bU_OnGcCubEQ"
      }
    },
    {
      "cell_type": "code",
      "source": [
        "mod2 = Sequential([Dense(80, input_dim=60, activation='relu'),\n",
        "                   Dense(48, activation='relu'),\n",
        "                   Dense(20, activation='relu'),\n",
        "                   Dense(8, activation='relu'),\n",
        "                   Dense(1,activation='sigmoid')])\n",
        "mod2.summary()"
      ],
      "metadata": {
        "colab": {
          "base_uri": "https://localhost:8080/"
        },
        "id": "IS6kAzDVuZh-",
        "outputId": "c330132c-19c7-440d-f4ea-9bb3eeb167e8"
      },
      "execution_count": 100,
      "outputs": [
        {
          "output_type": "stream",
          "name": "stdout",
          "text": [
            "Model: \"sequential_13\"\n",
            "_________________________________________________________________\n",
            " Layer (type)                Output Shape              Param #   \n",
            "=================================================================\n",
            " dense_73 (Dense)            (None, 80)                4880      \n",
            "                                                                 \n",
            " dense_74 (Dense)            (None, 48)                3888      \n",
            "                                                                 \n",
            " dense_75 (Dense)            (None, 20)                980       \n",
            "                                                                 \n",
            " dense_76 (Dense)            (None, 8)                 168       \n",
            "                                                                 \n",
            " dense_77 (Dense)            (None, 1)                 9         \n",
            "                                                                 \n",
            "=================================================================\n",
            "Total params: 9,925\n",
            "Trainable params: 9,925\n",
            "Non-trainable params: 0\n",
            "_________________________________________________________________\n"
          ]
        }
      ]
    },
    {
      "cell_type": "code",
      "source": [
        "mod2.compile('adam', 'binary_crossentropy', metrics=['accuracy'])\n",
        "hist2 = mod2.fit(X_train, y_train, validation_split=0.2, epochs=200, batch_size=100, verbose=0)"
      ],
      "metadata": {
        "id": "E4p2EHZRvAGT"
      },
      "execution_count": 101,
      "outputs": []
    },
    {
      "cell_type": "code",
      "source": [
        "mod2.evaluate(X_test, y_test)"
      ],
      "metadata": {
        "colab": {
          "base_uri": "https://localhost:8080/"
        },
        "id": "4cSGgt9mvRhH",
        "outputId": "d3db2d47-c746-4ef2-c788-406121b663f9"
      },
      "execution_count": 102,
      "outputs": [
        {
          "output_type": "stream",
          "name": "stdout",
          "text": [
            "2/2 [==============================] - 0s 4ms/step - loss: 0.4749 - accuracy: 0.8571\n"
          ]
        },
        {
          "output_type": "execute_result",
          "data": {
            "text/plain": [
              "[0.4749058187007904, 0.8571428656578064]"
            ]
          },
          "metadata": {},
          "execution_count": 102
        }
      ]
    },
    {
      "cell_type": "code",
      "source": [
        "params2, acc2 = 9925, 0.8333"
      ],
      "metadata": {
        "id": "pB_9KeEWvYxy"
      },
      "execution_count": 103,
      "outputs": []
    },
    {
      "cell_type": "markdown",
      "source": [
        " -case3) 은닉층 6개"
      ],
      "metadata": {
        "id": "lY10y4rfvyh0"
      }
    },
    {
      "cell_type": "code",
      "source": [
        "mod3 = Sequential([Dense(80, input_dim=60, activation='relu'),\n",
        "                   Dense(64, activation='relu'),\n",
        "                   Dense(40, activation='relu'),\n",
        "                   Dense(24, activation='relu'),\n",
        "                   Dense(10, activation='relu'),\n",
        "                   Dense(4, activation='relu'),\n",
        "                   Dense(1,activation='sigmoid')])\n",
        "mod3.summary()"
      ],
      "metadata": {
        "colab": {
          "base_uri": "https://localhost:8080/"
        },
        "id": "34Qc2_tVvnYx",
        "outputId": "30684164-e90f-4e44-c16a-7192a46d25a2"
      },
      "execution_count": 104,
      "outputs": [
        {
          "output_type": "stream",
          "name": "stdout",
          "text": [
            "Model: \"sequential_14\"\n",
            "_________________________________________________________________\n",
            " Layer (type)                Output Shape              Param #   \n",
            "=================================================================\n",
            " dense_78 (Dense)            (None, 80)                4880      \n",
            "                                                                 \n",
            " dense_79 (Dense)            (None, 64)                5184      \n",
            "                                                                 \n",
            " dense_80 (Dense)            (None, 40)                2600      \n",
            "                                                                 \n",
            " dense_81 (Dense)            (None, 24)                984       \n",
            "                                                                 \n",
            " dense_82 (Dense)            (None, 10)                250       \n",
            "                                                                 \n",
            " dense_83 (Dense)            (None, 4)                 44        \n",
            "                                                                 \n",
            " dense_84 (Dense)            (None, 1)                 5         \n",
            "                                                                 \n",
            "=================================================================\n",
            "Total params: 13,947\n",
            "Trainable params: 13,947\n",
            "Non-trainable params: 0\n",
            "_________________________________________________________________\n"
          ]
        }
      ]
    },
    {
      "cell_type": "code",
      "source": [
        "mod3.compile('adam', 'binary_crossentropy', metrics=['accuracy'])\n",
        "hist3 = mod3.fit(X_train, y_train, validation_split=0.2, epochs=200, batch_size=100, verbose=0)"
      ],
      "metadata": {
        "id": "9Jtf8uScwJib"
      },
      "execution_count": 105,
      "outputs": []
    },
    {
      "cell_type": "code",
      "source": [
        "mod3.evaluate(X_test, y_test)"
      ],
      "metadata": {
        "colab": {
          "base_uri": "https://localhost:8080/"
        },
        "id": "tzRoCI1NwVgG",
        "outputId": "9bb6ca36-413e-4400-c44f-57c02ca6d8a2"
      },
      "execution_count": 106,
      "outputs": [
        {
          "output_type": "stream",
          "name": "stdout",
          "text": [
            "2/2 [==============================] - 0s 5ms/step - loss: 0.7921 - accuracy: 0.8571\n"
          ]
        },
        {
          "output_type": "execute_result",
          "data": {
            "text/plain": [
              "[0.7921215295791626, 0.8571428656578064]"
            ]
          },
          "metadata": {},
          "execution_count": 106
        }
      ]
    },
    {
      "cell_type": "code",
      "source": [
        "params3, acc3 = 13947, 0.8571"
      ],
      "metadata": {
        "id": "pKWR_oXNwdWo"
      },
      "execution_count": 107,
      "outputs": []
    },
    {
      "cell_type": "markdown",
      "source": [
        " - case4) 은닉층 8개"
      ],
      "metadata": {
        "id": "c5stYJJnwqVz"
      }
    },
    {
      "cell_type": "code",
      "source": [
        "mod4 = Sequential([Dense(80, input_dim=60, activation='relu'),\n",
        "                   Dense(64, activation='relu'),\n",
        "                   Dense(48, activation='relu'),\n",
        "                   Dense(36, activation='relu'),\n",
        "                   Dense(28, activation='relu'),\n",
        "                   Dense(16, activation='relu'),\n",
        "                   Dense(10, activation='relu'),\n",
        "                   Dense(4, activation='relu'),\n",
        "                   Dense(1,activation='sigmoid')])\n",
        "mod4.summary()"
      ],
      "metadata": {
        "colab": {
          "base_uri": "https://localhost:8080/"
        },
        "id": "5NAGGonfwoHg",
        "outputId": "dd8e8389-1bfc-4632-ba05-51825ad14a2b"
      },
      "execution_count": 108,
      "outputs": [
        {
          "output_type": "stream",
          "name": "stdout",
          "text": [
            "Model: \"sequential_15\"\n",
            "_________________________________________________________________\n",
            " Layer (type)                Output Shape              Param #   \n",
            "=================================================================\n",
            " dense_85 (Dense)            (None, 80)                4880      \n",
            "                                                                 \n",
            " dense_86 (Dense)            (None, 64)                5184      \n",
            "                                                                 \n",
            " dense_87 (Dense)            (None, 48)                3120      \n",
            "                                                                 \n",
            " dense_88 (Dense)            (None, 36)                1764      \n",
            "                                                                 \n",
            " dense_89 (Dense)            (None, 28)                1036      \n",
            "                                                                 \n",
            " dense_90 (Dense)            (None, 16)                464       \n",
            "                                                                 \n",
            " dense_91 (Dense)            (None, 10)                170       \n",
            "                                                                 \n",
            " dense_92 (Dense)            (None, 4)                 44        \n",
            "                                                                 \n",
            " dense_93 (Dense)            (None, 1)                 5         \n",
            "                                                                 \n",
            "=================================================================\n",
            "Total params: 16,667\n",
            "Trainable params: 16,667\n",
            "Non-trainable params: 0\n",
            "_________________________________________________________________\n"
          ]
        }
      ]
    },
    {
      "cell_type": "code",
      "source": [
        "mod4.compile('adam', 'binary_crossentropy', metrics=['accuracy'])\n",
        "hist4 = mod4.fit(X_train, y_train, validation_split=0.2, epochs=200, batch_size=100, verbose=0)\n",
        "mod4.evaluate(X_test, y_test)"
      ],
      "metadata": {
        "colab": {
          "base_uri": "https://localhost:8080/"
        },
        "id": "lNBfs7f-xCxv",
        "outputId": "55b9d767-7c7c-4a39-8d14-902ac8287cca"
      },
      "execution_count": 109,
      "outputs": [
        {
          "output_type": "stream",
          "name": "stdout",
          "text": [
            "2/2 [==============================] - 0s 6ms/step - loss: 0.7051 - accuracy: 0.8571\n"
          ]
        },
        {
          "output_type": "execute_result",
          "data": {
            "text/plain": [
              "[0.7051125764846802, 0.8571428656578064]"
            ]
          },
          "metadata": {},
          "execution_count": 109
        }
      ]
    },
    {
      "cell_type": "code",
      "source": [
        "params4, acc4 = 16667, 0.8571"
      ],
      "metadata": {
        "id": "m12AH2aYxQhB"
      },
      "execution_count": 110,
      "outputs": []
    },
    {
      "cell_type": "markdown",
      "source": [
        " - 학습과정 시각화"
      ],
      "metadata": {
        "id": "otF7gVQGxc1A"
      }
    },
    {
      "cell_type": "code",
      "source": [
        "y_acc1 = hist1.history['accuracy']\n",
        "y_acc2 = hist2.history['accuracy']\n",
        "y_acc3 = hist3.history['accuracy']\n",
        "y_acc4 = hist4.history['accuracy']\n",
        "y_vloss1 = hist1.history['val_loss']\n",
        "y_vloss2 = hist2.history['val_loss']\n",
        "y_vloss3 = hist3.history['val_loss']\n",
        "y_vloss4 = hist4.history['val_loss']\n",
        "xs = np.arange(1, len(y_acc1)+1)"
      ],
      "metadata": {
        "id": "eVoQg34qxcFr"
      },
      "execution_count": 111,
      "outputs": []
    },
    {
      "cell_type": "code",
      "source": [
        "plt.figure(figsize=(12,8))\n",
        "plt.plot(xs, y_acc1, label='case1')\n",
        "plt.plot(xs, y_acc2, label='case2')\n",
        "plt.plot(xs, y_acc3, label='case3')\n",
        "plt.plot(xs,y_acc4, label='case4')\n",
        "plt.legend(), plt.grid()\n",
        "plt.xlabel('epoch'), plt.title('train total accuracy')\n",
        "plt.show()"
      ],
      "metadata": {
        "colab": {
          "base_uri": "https://localhost:8080/",
          "height": 513
        },
        "id": "eGjcU7eJyRqU",
        "outputId": "35872fea-48a8-496e-8d7b-fc11625e7e14"
      },
      "execution_count": 112,
      "outputs": [
        {
          "output_type": "display_data",
          "data": {
            "text/plain": [
              "<Figure size 864x576 with 1 Axes>"
            ],
            "image/png": "[encoded data removed]"
          },
          "metadata": {
            "needs_background": "light"
          }
        }
      ]
    },
    {
      "cell_type": "code",
      "source": [
        "plt.figure(figsize=(12,8))\n",
        "plt.plot(xs, y_vloss1, label='case1')\n",
        "plt.plot(xs, y_vloss2, label='case2')\n",
        "plt.plot(xs, y_vloss3, label='case3')\n",
        "plt.plot(xs,y_vloss4, label='case4')\n",
        "plt.legend(), plt.grid()\n",
        "plt.xlabel('epoch'), plt.title('validation loss')\n",
        "plt.show()"
      ],
      "metadata": {
        "colab": {
          "base_uri": "https://localhost:8080/",
          "height": 513
        },
        "id": "rRxECW0by_a_",
        "outputId": "8216362c-296e-4987-f4ea-21885335f440"
      },
      "execution_count": 113,
      "outputs": [
        {
          "output_type": "display_data",
          "data": {
            "text/plain": [
              "<Figure size 864x576 with 1 Axes>"
            ],
            "image/png": "[encoded data removed]"
          },
          "metadata": {
            "needs_background": "light"
          }
        }
      ]
    },
    {
      "cell_type": "markdown",
      "source": [
        " - 베스트 모델만 저장하는 콜백\n"
      ],
      "metadata": {
        "id": "OdyGt-MxF9CM"
      }
    },
    {
      "cell_type": "code",
      "source": [
        "model = Sequential([Dense(80, input_dim=60, activation='relu'),\n",
        "                   Dense(48, activation='relu'),\n",
        "                   Dense(20, activation='relu'),\n",
        "                   Dense(8, activation='relu'),\n",
        "                   Dense(1,activation='sigmoid')])\n",
        "model.summary()"
      ],
      "metadata": {
        "colab": {
          "base_uri": "https://localhost:8080/"
        },
        "id": "AdIjpr-OHnNH",
        "outputId": "64c22baa-0f2e-411f-940c-0d37c02e3882"
      },
      "execution_count": 114,
      "outputs": [
        {
          "output_type": "stream",
          "name": "stdout",
          "text": [
            "Model: \"sequential_16\"\n",
            "_________________________________________________________________\n",
            " Layer (type)                Output Shape              Param #   \n",
            "=================================================================\n",
            " dense_94 (Dense)            (None, 80)                4880      \n",
            "                                                                 \n",
            " dense_95 (Dense)            (None, 48)                3888      \n",
            "                                                                 \n",
            " dense_96 (Dense)            (None, 20)                980       \n",
            "                                                                 \n",
            " dense_97 (Dense)            (None, 8)                 168       \n",
            "                                                                 \n",
            " dense_98 (Dense)            (None, 1)                 9         \n",
            "                                                                 \n",
            "=================================================================\n",
            "Total params: 9,925\n",
            "Trainable params: 9,925\n",
            "Non-trainable params: 0\n",
            "_________________________________________________________________\n"
          ]
        }
      ]
    },
    {
      "cell_type": "code",
      "source": [
        "model.compile('adam', 'binary_crossentropy', metrics=['accuracy'])"
      ],
      "metadata": {
        "id": "SB3gGUvxHLhr"
      },
      "execution_count": 115,
      "outputs": []
    },
    {
      "cell_type": "code",
      "source": [
        "from tensorflow.keras.callbacks import ModelCheckpoint\n",
        "mc = ModelCheckpoint('sonar_best.h5', monitor='val_loss', verbose=0, save_best_only=True)"
      ],
      "metadata": {
        "id": "ajLTgCwdGiII"
      },
      "execution_count": 116,
      "outputs": []
    },
    {
      "cell_type": "code",
      "source": [
        "hist = model.fit(X_train, y_train, validation_split=0.2, epochs=200, batch_size=100, verbose=0, callbacks=[mc])"
      ],
      "metadata": {
        "id": "EuLGXt__HGQn"
      },
      "execution_count": 117,
      "outputs": []
    },
    {
      "cell_type": "code",
      "source": [
        "from tensorflow.keras.models import load_model\n",
        "best_model = load_model('sonar_best.h5')\n",
        "best_model.evaluate(X_test, y_test)"
      ],
      "metadata": {
        "id": "qNy32AEJznhd",
        "colab": {
          "base_uri": "https://localhost:8080/"
        },
        "outputId": "f599d9d1-1955-458e-cfdc-a5640f2e33b6"
      },
      "execution_count": 118,
      "outputs": [
        {
          "output_type": "stream",
          "name": "stdout",
          "text": [
            "2/2 [==============================] - 0s 4ms/step - loss: 0.4052 - accuracy: 0.7381\n"
          ]
        },
        {
          "output_type": "execute_result",
          "data": {
            "text/plain": [
              "[0.4051837921142578, 0.738095223903656]"
            ]
          },
          "metadata": {},
          "execution_count": 118
        }
      ]
    },
    {
      "cell_type": "code",
      "source": [
        "y_acc = hist.history['accuracy']\n",
        "y_vloss = hist.history['val_loss']\n",
        "xs=np.arange(1,len(y_acc)+1)"
      ],
      "metadata": {
        "id": "yyf36E9OIjMp"
      },
      "execution_count": 119,
      "outputs": []
    },
    {
      "cell_type": "code",
      "source": [
        "plt.figure(figsize=(12,8))\n",
        "plt.plot(xs, y_acc, label='accuracy')\n",
        "plt.plot(xs, y_vloss, label='val_loss')\n",
        "plt.legend(), plt.grid()\n",
        "plt.xlabel('epoch'), plt.title('best_model')\n",
        "plt.show()"
      ],
      "metadata": {
        "colab": {
          "base_uri": "https://localhost:8080/",
          "height": 513
        },
        "id": "1qV8GGdCI6wM",
        "outputId": "e3ef7be3-4f69-4309-b8b2-10e65b255a37"
      },
      "execution_count": 120,
      "outputs": [
        {
          "output_type": "display_data",
          "data": {
            "text/plain": [
              "<Figure size 864x576 with 1 Axes>"
            ],
            "image/png": "[encoded data removed]"
          },
          "metadata": {
            "needs_background": "light"
          }
        }
      ]
    },
    {
      "cell_type": "markdown",
      "source": [
        " - 조기 종료 콜백함수"
      ],
      "metadata": {
        "id": "TsmW0zlhJhni"
      }
    },
    {
      "cell_type": "code",
      "source": [
        "model1 = Sequential([Dense(80, input_dim=60, activation='relu'),\n",
        "                   Dense(48, activation='relu'),\n",
        "                   Dense(20, activation='relu'),\n",
        "                   Dense(8, activation='relu'),\n",
        "                   Dense(1,activation='sigmoid')])\n",
        "model1.summary()"
      ],
      "metadata": {
        "colab": {
          "base_uri": "https://localhost:8080/"
        },
        "id": "Ixb-9x2eJRVc",
        "outputId": "339fb0ad-27ec-441c-d63d-00b35cfe5e1d"
      },
      "execution_count": 121,
      "outputs": [
        {
          "output_type": "stream",
          "name": "stdout",
          "text": [
            "Model: \"sequential_17\"\n",
            "_________________________________________________________________\n",
            " Layer (type)                Output Shape              Param #   \n",
            "=================================================================\n",
            " dense_99 (Dense)            (None, 80)                4880      \n",
            "                                                                 \n",
            " dense_100 (Dense)           (None, 48)                3888      \n",
            "                                                                 \n",
            " dense_101 (Dense)           (None, 20)                980       \n",
            "                                                                 \n",
            " dense_102 (Dense)           (None, 8)                 168       \n",
            "                                                                 \n",
            " dense_103 (Dense)           (None, 1)                 9         \n",
            "                                                                 \n",
            "=================================================================\n",
            "Total params: 9,925\n",
            "Trainable params: 9,925\n",
            "Non-trainable params: 0\n",
            "_________________________________________________________________\n"
          ]
        }
      ]
    },
    {
      "cell_type": "code",
      "source": [
        "model1.compile('adam', 'binary_crossentropy', metrics=['accuracy'])"
      ],
      "metadata": {
        "id": "9SpGVnzGJyrr"
      },
      "execution_count": 122,
      "outputs": []
    },
    {
      "cell_type": "code",
      "source": [
        "from tensorflow.keras.callbacks import EarlyStopping\n",
        "mc = ModelCheckpoint('sonar_best.h5', monitor='val_loss', verbose=0, save_best_only=True)\n",
        "es = EarlyStopping(patience=20)"
      ],
      "metadata": {
        "id": "dfuZVqRWJ-N6"
      },
      "execution_count": 123,
      "outputs": []
    },
    {
      "cell_type": "code",
      "source": [
        "# epoch가 종료될 때마다 콜백 함수 실행되도록 설정\n",
        "hist01 = model1.fit(X_train, y_train, validation_split=0.2, epochs=200, batch_size=100, verbose=1, callbacks=[mc, es])"
      ],
      "metadata": {
        "colab": {
          "base_uri": "https://localhost:8080/"
        },
        "id": "fOgZ1SmFKUNP",
        "outputId": "4fb18200-629a-4944-d0e8-015425fdb7d8"
      },
      "execution_count": 124,
      "outputs": [
        {
          "output_type": "stream",
          "name": "stdout",
          "text": [
            "Epoch 1/200\n",
            "2/2 [==============================] - 1s 193ms/step - loss: 0.6930 - accuracy: 0.5076 - val_loss: 0.6043 - val_accuracy: 0.7647\n",
            "Epoch 2/200\n",
            "2/2 [==============================] - 0s 53ms/step - loss: 0.6284 - accuracy: 0.6061 - val_loss: 0.5756 - val_accuracy: 0.7941\n",
            "Epoch 3/200\n",
            "2/2 [==============================] - 0s 61ms/step - loss: 0.5826 - accuracy: 0.7121 - val_loss: 0.5507 - val_accuracy: 0.7647\n",
            "Epoch 4/200\n",
            "2/2 [==============================] - 0s 57ms/step - loss: 0.5439 - accuracy: 0.7955 - val_loss: 0.5267 - val_accuracy: 0.7647\n",
            "Epoch 5/200\n",
            "2/2 [==============================] - 0s 53ms/step - loss: 0.5073 - accuracy: 0.8182 - val_loss: 0.5063 - val_accuracy: 0.7647\n",
            "Epoch 6/200\n",
            "2/2 [==============================] - 0s 53ms/step - loss: 0.4727 - accuracy: 0.8409 - val_loss: 0.4882 - val_accuracy: 0.7647\n",
            "Epoch 7/200\n",
            "2/2 [==============================] - 0s 52ms/step - loss: 0.4381 - accuracy: 0.8561 - val_loss: 0.4677 - val_accuracy: 0.7647\n",
            "Epoch 8/200\n",
            "2/2 [==============================] - 0s 51ms/step - loss: 0.4045 - accuracy: 0.8712 - val_loss: 0.4496 - val_accuracy: 0.7647\n",
            "Epoch 9/200\n",
            "2/2 [==============================] - 0s 51ms/step - loss: 0.3708 - accuracy: 0.8788 - val_loss: 0.4340 - val_accuracy: 0.7353\n",
            "Epoch 10/200\n",
            "2/2 [==============================] - 0s 51ms/step - loss: 0.3405 - accuracy: 0.9242 - val_loss: 0.4237 - val_accuracy: 0.7353\n",
            "Epoch 11/200\n",
            "2/2 [==============================] - 0s 55ms/step - loss: 0.3142 - accuracy: 0.9394 - val_loss: 0.4144 - val_accuracy: 0.7647\n",
            "Epoch 12/200\n",
            "2/2 [==============================] - 0s 54ms/step - loss: 0.2892 - accuracy: 0.9470 - val_loss: 0.4075 - val_accuracy: 0.7647\n",
            "Epoch 13/200\n",
            "2/2 [==============================] - 0s 59ms/step - loss: 0.2670 - accuracy: 0.9545 - val_loss: 0.4011 - val_accuracy: 0.7647\n",
            "Epoch 14/200\n",
            "2/2 [==============================] - 0s 51ms/step - loss: 0.2453 - accuracy: 0.9470 - val_loss: 0.3945 - val_accuracy: 0.7647\n",
            "Epoch 15/200\n",
            "2/2 [==============================] - 0s 55ms/step - loss: 0.2262 - accuracy: 0.9470 - val_loss: 0.3893 - val_accuracy: 0.7647\n",
            "Epoch 16/200\n",
            "2/2 [==============================] - 0s 53ms/step - loss: 0.2077 - accuracy: 0.9470 - val_loss: 0.3852 - val_accuracy: 0.7941\n",
            "Epoch 17/200\n",
            "2/2 [==============================] - 0s 53ms/step - loss: 0.1905 - accuracy: 0.9545 - val_loss: 0.3821 - val_accuracy: 0.8235\n",
            "Epoch 18/200\n",
            "2/2 [==============================] - 0s 51ms/step - loss: 0.1757 - accuracy: 0.9621 - val_loss: 0.3814 - val_accuracy: 0.8235\n",
            "Epoch 19/200\n",
            "2/2 [==============================] - 0s 58ms/step - loss: 0.1615 - accuracy: 0.9621 - val_loss: 0.3807 - val_accuracy: 0.8235\n",
            "Epoch 20/200\n",
            "2/2 [==============================] - 0s 53ms/step - loss: 0.1481 - accuracy: 0.9697 - val_loss: 0.3789 - val_accuracy: 0.8235\n",
            "Epoch 21/200\n",
            "2/2 [==============================] - 0s 26ms/step - loss: 0.1356 - accuracy: 0.9697 - val_loss: 0.3796 - val_accuracy: 0.8235\n",
            "Epoch 22/200\n",
            "2/2 [==============================] - 0s 29ms/step - loss: 0.1238 - accuracy: 0.9697 - val_loss: 0.3804 - val_accuracy: 0.8235\n",
            "Epoch 23/200\n",
            "2/2 [==============================] - 0s 27ms/step - loss: 0.1140 - accuracy: 0.9697 - val_loss: 0.3806 - val_accuracy: 0.7941\n",
            "Epoch 24/200\n",
            "2/2 [==============================] - 0s 49ms/step - loss: 0.1047 - accuracy: 0.9697 - val_loss: 0.3783 - val_accuracy: 0.7941\n",
            "Epoch 25/200\n",
            "2/2 [==============================] - 0s 49ms/step - loss: 0.0958 - accuracy: 0.9848 - val_loss: 0.3733 - val_accuracy: 0.7941\n",
            "Epoch 26/200\n",
            "2/2 [==============================] - 0s 52ms/step - loss: 0.0872 - accuracy: 0.9848 - val_loss: 0.3700 - val_accuracy: 0.7941\n",
            "Epoch 27/200\n",
            "2/2 [==============================] - 0s 55ms/step - loss: 0.0793 - accuracy: 0.9848 - val_loss: 0.3697 - val_accuracy: 0.7941\n",
            "Epoch 28/200\n",
            "2/2 [==============================] - 0s 54ms/step - loss: 0.0723 - accuracy: 0.9848 - val_loss: 0.3695 - val_accuracy: 0.7941\n",
            "Epoch 29/200\n",
            "2/2 [==============================] - 0s 50ms/step - loss: 0.0655 - accuracy: 0.9848 - val_loss: 0.3688 - val_accuracy: 0.7941\n",
            "Epoch 30/200\n",
            "2/2 [==============================] - 0s 51ms/step - loss: 0.0594 - accuracy: 0.9924 - val_loss: 0.3679 - val_accuracy: 0.7941\n",
            "Epoch 31/200\n",
            "2/2 [==============================] - 0s 28ms/step - loss: 0.0547 - accuracy: 0.9924 - val_loss: 0.3690 - val_accuracy: 0.7941\n",
            "Epoch 32/200\n",
            "2/2 [==============================] - 0s 28ms/step - loss: 0.0495 - accuracy: 0.9924 - val_loss: 0.3753 - val_accuracy: 0.7941\n",
            "Epoch 33/200\n",
            "2/2 [==============================] - 0s 27ms/step - loss: 0.0438 - accuracy: 0.9924 - val_loss: 0.3834 - val_accuracy: 0.7941\n",
            "Epoch 34/200\n",
            "2/2 [==============================] - 0s 31ms/step - loss: 0.0397 - accuracy: 1.0000 - val_loss: 0.3945 - val_accuracy: 0.7941\n",
            "Epoch 35/200\n",
            "2/2 [==============================] - 0s 27ms/step - loss: 0.0359 - accuracy: 1.0000 - val_loss: 0.4054 - val_accuracy: 0.7941\n",
            "Epoch 36/200\n",
            "2/2 [==============================] - 0s 27ms/step - loss: 0.0330 - accuracy: 1.0000 - val_loss: 0.4124 - val_accuracy: 0.7941\n",
            "Epoch 37/200\n",
            "2/2 [==============================] - 0s 29ms/step - loss: 0.0301 - accuracy: 1.0000 - val_loss: 0.4101 - val_accuracy: 0.7941\n",
            "Epoch 38/200\n",
            "2/2 [==============================] - 0s 25ms/step - loss: 0.0270 - accuracy: 1.0000 - val_loss: 0.4021 - val_accuracy: 0.7941\n",
            "Epoch 39/200\n",
            "2/2 [==============================] - 0s 30ms/step - loss: 0.0243 - accuracy: 1.0000 - val_loss: 0.3933 - val_accuracy: 0.7941\n",
            "Epoch 40/200\n",
            "2/2 [==============================] - 0s 27ms/step - loss: 0.0219 - accuracy: 1.0000 - val_loss: 0.3856 - val_accuracy: 0.7941\n",
            "Epoch 41/200\n",
            "2/2 [==============================] - 0s 27ms/step - loss: 0.0202 - accuracy: 1.0000 - val_loss: 0.3797 - val_accuracy: 0.7941\n",
            "Epoch 42/200\n",
            "2/2 [==============================] - 0s 29ms/step - loss: 0.0185 - accuracy: 1.0000 - val_loss: 0.3761 - val_accuracy: 0.7941\n",
            "Epoch 43/200\n",
            "2/2 [==============================] - 0s 28ms/step - loss: 0.0171 - accuracy: 1.0000 - val_loss: 0.3739 - val_accuracy: 0.7941\n",
            "Epoch 44/200\n",
            "2/2 [==============================] - 0s 27ms/step - loss: 0.0158 - accuracy: 1.0000 - val_loss: 0.3755 - val_accuracy: 0.7941\n",
            "Epoch 45/200\n",
            "2/2 [==============================] - 0s 46ms/step - loss: 0.0144 - accuracy: 1.0000 - val_loss: 0.3787 - val_accuracy: 0.7941\n",
            "Epoch 46/200\n",
            "2/2 [==============================] - 0s 28ms/step - loss: 0.0132 - accuracy: 1.0000 - val_loss: 0.3823 - val_accuracy: 0.7941\n",
            "Epoch 47/200\n",
            "2/2 [==============================] - 0s 27ms/step - loss: 0.0121 - accuracy: 1.0000 - val_loss: 0.3883 - val_accuracy: 0.7941\n",
            "Epoch 48/200\n",
            "2/2 [==============================] - 0s 29ms/step - loss: 0.0111 - accuracy: 1.0000 - val_loss: 0.3946 - val_accuracy: 0.7941\n",
            "Epoch 49/200\n",
            "2/2 [==============================] - 0s 28ms/step - loss: 0.0103 - accuracy: 1.0000 - val_loss: 0.3998 - val_accuracy: 0.7941\n",
            "Epoch 50/200\n",
            "2/2 [==============================] - 0s 26ms/step - loss: 0.0094 - accuracy: 1.0000 - val_loss: 0.4045 - val_accuracy: 0.7941\n"
          ]
        }
      ]
    },
    {
      "cell_type": "code",
      "source": [
        "best_model = load_model('sonar_best.h5')\n",
        "best_model.evaluate(X_test, y_test)"
      ],
      "metadata": {
        "colab": {
          "base_uri": "https://localhost:8080/"
        },
        "id": "bjEw1JKCKttO",
        "outputId": "78fb5e5e-4cd3-4ada-efa9-a3b02134e69d"
      },
      "execution_count": 125,
      "outputs": [
        {
          "output_type": "stream",
          "name": "stdout",
          "text": [
            "2/2 [==============================] - 0s 6ms/step - loss: 0.5825 - accuracy: 0.7143\n"
          ]
        },
        {
          "output_type": "execute_result",
          "data": {
            "text/plain": [
              "[0.5824726819992065, 0.7142857313156128]"
            ]
          },
          "metadata": {},
          "execution_count": 125
        }
      ]
    },
    {
      "cell_type": "code",
      "source": [
        ""
      ],
      "metadata": {
        "id": "omNKRIVPLBK4"
      },
      "execution_count": null,
      "outputs": []
    }
  ]
}