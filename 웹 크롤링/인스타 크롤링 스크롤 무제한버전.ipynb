{
 "cells": [
  {
   "cell_type": "code",
   "execution_count": 1,
   "id": "4324e7dd",
   "metadata": {},
   "outputs": [],
   "source": [
    "from selenium.webdriver import Chrome\n",
    "from selenium.webdriver.common.by import By\n",
    "from bs4 import BeautifulSoup as bs \n",
    "import pandas as pd\n",
    "import re\n",
    "import time\n",
    "import sys"
   ]
  },
  {
   "cell_type": "code",
   "execution_count": 9,
   "id": "2040d7f5",
   "metadata": {},
   "outputs": [],
   "source": [
    "def pg_Dn():\n",
    "    browser.execute_script('window.scrollTo(0, document.body.scrollHeight)')"
   ]
  },
  {
   "cell_type": "code",
   "execution_count": 5,
   "id": "56258025",
   "metadata": {},
   "outputs": [
    {
     "name": "stdout",
     "output_type": "stream",
     "text": [
      "검색어: 제주도맛집\n",
      "스크롤 횟수: 8\n"
     ]
    },
    {
     "name": "stderr",
     "output_type": "stream",
     "text": [
      "C:\\Users\\kwoni\\AppData\\Local\\Temp\\ipykernel_21616\\3157488521.py:3: DeprecationWarning: executable_path has been deprecated, please pass in a Service object\n",
      "  browser = Chrome('C:/Users/kwoni/Desktop/pycode/chromedriver.exe') # 크롬 드라이브 받아오는 거\n"
     ]
    },
    {
     "name": "stdout",
     "output_type": "stream",
     "text": [
      "로그인 되었습니까?[y/n]:ㅛ\n"
     ]
    }
   ],
   "source": [
    "kwrd = input('검색어: ') # 검색어 받는 거\n",
    "cntdwn= int(input('스크롤 횟수: ')) # 스크롤 내리는 횟수 결정\n",
    "browser = Chrome('C:/Users/kwoni/Desktop/pycode/chromedriver.exe') # 크롬 드라이브 받아오는 거\n",
    "\n",
    "browser.get(\"https://www.instagram.com/\") # 인스타그램 실행문\n",
    "time.sleep(2)\n",
    "\n",
    "user_id = 'kwongiil'\n",
    "pw = 'rnjsrldlf1513!@'\n",
    "\n",
    "# 아이디 입력\n",
    "input_id=browser.find_element(By.CSS_SELECTOR, \"#loginForm > div > div:nth-child(1) > div > label > input\")\n",
    "input_id.send_keys(user_id)\n",
    "\n",
    "# 패스워드 입력\n",
    "input_pw=browser.find_element(By.CSS_SELECTOR, \"#loginForm > div > div:nth-child(2) > div > label > input\")\n",
    "input_pw.send_keys(pw)\n",
    "\n",
    "# 로그인 정보 전송 / 로그인 버튼을 클릭해도 됨\n",
    "input_pw.submit()  \n",
    "time.sleep(3)\n",
    "\n",
    "state = input(\"로그인 되었습니까?[y/n]:\") # 로그인 되었는지 확인\n",
    "if state == \"n\" or state == \"ㅜ\" or state == \"N\":\n",
    "    print(\"작업을 종료합니다.\")\n",
    "    browser.close()\n",
    "    sys.exit()"
   ]
  },
  {
   "cell_type": "code",
   "execution_count": 6,
   "id": "46495216",
   "metadata": {},
   "outputs": [],
   "source": [
    "# 인스타 검색 url 확인 및 사용자 키워드 적용\n",
    "\n",
    "url=\"https://www.instagram.com/explore/tags/\" + kwrd\n",
    "browser.get(url)\n",
    "time.sleep(5)\n",
    "\n",
    "body = browser.find_element(By.TAG_NAME, \"body\")"
   ]
  },
  {
   "cell_type": "code",
   "execution_count": 12,
   "id": "04e8d84a",
   "metadata": {},
   "outputs": [
    {
     "name": "stdout",
     "output_type": "stream",
     "text": [
      "['https://www.instagram.com/p/CbsBC9vv1A5/', 'https://www.instagram.com/p/Cbrgys0JPg5/', 'https://www.instagram.com/p/Cbr_b_EF3rx/', 'https://www.instagram.com/p/Cbr_CK9J4CL/', 'https://www.instagram.com/p/CbsBFQXPOv1/', 'https://www.instagram.com/p/Cbr_FbIBEmO/', 'https://www.instagram.com/p/CbcGagJLuW6/', 'https://www.instagram.com/p/Cboikw_DONk/', 'https://www.instagram.com/p/CbqxeCshE2y/', 'https://www.instagram.com/p/Cbr-yBfARFb/', 'https://www.instagram.com/p/Cbmxg6LFqCj/', 'https://www.instagram.com/p/CbsArtuvvtV/', 'https://www.instagram.com/p/Cbr-xIPLtC2/', 'https://www.instagram.com/p/Cbr-wCWP6rO/', 'https://www.instagram.com/p/Cbr-vB1p5Jg/', 'https://www.instagram.com/p/CbrJDVqAt2S/', 'https://www.instagram.com/p/CbsBPaBJrWc/', 'https://www.instagram.com/p/CbqsyZohzAE/', 'https://www.instagram.com/p/Cbr-lPjPLpJ/', 'https://www.instagram.com/p/Cbr-s1fpTKt/', 'https://www.instagram.com/p/CbsBq_ZvoNR/', 'https://www.instagram.com/p/CbsA7lLBWEX/', 'https://www.instagram.com/p/Cbr_LU3rZKy/', 'https://www.instagram.com/p/Cbr-lvGJr6x/', 'https://www.instagram.com/p/Cbr-cGcvH3-/', 'https://www.instagram.com/p/CbrYtBGLZhK/', 'https://www.instagram.com/p/Cbr-bngL9xh/', 'https://www.instagram.com/p/Cbr_oJHD3BB/', 'https://www.instagram.com/p/CbsAoLQv-XU/', 'https://www.instagram.com/p/CbqxeEBBeA5/', 'https://www.instagram.com/p/Cbr_t9qvqxk/', 'https://www.instagram.com/p/Cbr-ggQF2vA/', 'https://www.instagram.com/p/Cbr_TnzvEOV/', 'https://www.instagram.com/p/Cbr-X5WBvm1/', 'https://www.instagram.com/p/Cbr_TBkrBHt/', 'https://www.instagram.com/p/CbqsyZ6BIm-/', 'https://www.instagram.com/p/Cbr_mNvrZpu/', 'https://www.instagram.com/p/Cbr-pI2LGKB/', 'https://www.instagram.com/p/Cbq5JqKvHAs/', 'https://www.instagram.com/p/CbogW3kv3di/', 'https://www.instagram.com/p/Cbr_2JLBLcI/', 'https://www.instagram.com/p/Cbr_THBvTFL/']\n"
     ]
    }
   ],
   "source": [
    "# 하이퍼 링크 주소 추출\n",
    "link_url = []\n",
    "\n",
    "for down in range(cntdwn):\n",
    "    pg_Dn()\n",
    "    #content = body.find_element_by_class_name(\"v1Nh3\")\n",
    "    contents = body.find_elements(By.CLASS_NAME, \"v1Nh3\")\n",
    "    \n",
    "    # 게시글 리스트 URL 추출\n",
    "    for content in contents:\n",
    "        url = content.find_element(By.TAG_NAME, \"a\").get_attribute(\"href\")\n",
    "        link_url.append(url)\n",
    "        \n",
    "link_url=list(set(link_url))  # 중복 데이터 제거"
   ]
  },
  {
   "cell_type": "code",
   "execution_count": 14,
   "id": "46d67b58",
   "metadata": {},
   "outputs": [],
   "source": [
    "# 링크를 이용하여 데이터 가져오기\n",
    "conttxt = []\n",
    "#for link in link_url:\n",
    "    \n",
    "for i in range(5):    \n",
    "    browser.get(link_url[i])\n",
    "    time.sleep(2)\n",
    "\n",
    "    html =  browser.page_source\n",
    "    soup = bs(html, \"html.parser\")\n",
    "    conttxt.append(soup.find(\"div\", class_=\"C4VMK\").find_all(\"span\")[1].text)"
   ]
  },
  {
   "cell_type": "code",
   "execution_count": 15,
   "id": "c102812f",
   "metadata": {},
   "outputs": [
    {
     "data": {
      "text/plain": [
       "'계속 변화하는 인스타그램모두 대응 가능합니다비용이 부담된다면 사실상 오래가지 못하죠그리고 결과가 좋지 못해도 오래가지 못하고오로지 1개월로만 결제를 받는 이유가 다 있습니다이 원칙은 변하지 않을거에요!비용 부담은 낮추고관리는 확실히 올리고어떻게든 현재의 문제를 해결하려고 합니다언제든지 상담가능합니다#맛집#맛집추천#맛집스타그램 #분당맛집#강남맛집#하남맛집#인천맛집#대전맛집 #속초맛집#양양맛집#제주도맛집#여수맛집#안면도맛집 #가평맛집#팔당맛집#부산맛집#대구맛집#수원맛집 #해운대맛집#제주맛집#강릉맛집#울산맛집#춘천맛집'"
      ]
     },
     "execution_count": 15,
     "metadata": {},
     "output_type": "execute_result"
    }
   ],
   "source": [
    "# 정규식 표현을 이용한 불필요한 데이터 제거하기\n",
    "re.sub('[^0-9a-zA-Zㄱ-ㅣ가-힣#?! ]' ,\"\", conttxt[0])"
   ]
  },
  {
   "cell_type": "code",
   "execution_count": 16,
   "id": "4f986f70",
   "metadata": {},
   "outputs": [
    {
     "data": {
      "text/plain": [
       "'leplica_shop7777'"
      ]
     },
     "execution_count": 16,
     "metadata": {},
     "output_type": "execute_result"
    }
   ],
   "source": [
    "# 아이디 가져오기\n",
    "soup.find(\"div\", class_=\"C4VMK\").find(\"a\").get_text()"
   ]
  },
  {
   "cell_type": "code",
   "execution_count": 17,
   "id": "92f18e11",
   "metadata": {},
   "outputs": [
    {
     "data": {
      "text/plain": [
       "'💕 💕 💕 💕 💕 💕 💕 💕 💕 💕광저우 현지에서 사입하여 꼼꼼히검품후 보내드리고있어요 💕백화점가서 일일이보진못하더라도 정품사진 한번씩찾아보시고 구입하세요 💕시중에 풀린 싸구려 저가제품 로고 가죽만봐도 답나오는건데 그런가방구입해서 들고다닐바엔 💕보세가방 만원짜리가 나아요🛍 제대로된가방구입하셔서 오래착용하시길바랍니다 💕모임나가셔서가방 뒤돌려놓는일 절대없으실거에요 제대로된 프리미엄급 만나보세요🤟정품1/10가격에 고퀄리티상품 만나보세요💕가짜후기들에 속지마세요구성품 : 더스트백,케이스,영수증,쇼핑백,보증서 등 풀셋배송일은 기본2~3주 소요되며 간혹그전에 받거나 늦어질수도있으니 참고 하신후 주문 부탁드립니다해외배송으로 배송되다보니 구매후 반품,교환,환불불가합니다💕'"
      ]
     },
     "execution_count": 17,
     "metadata": {},
     "output_type": "execute_result"
    }
   ],
   "source": [
    "# 본문 가져오기\n",
    "soup.find('div', class_=\"MOdxS\").find('span').text.split(\"#\")[0]"
   ]
  },
  {
   "cell_type": "code",
   "execution_count": 18,
   "id": "71ba09ad",
   "metadata": {},
   "outputs": [
    {
     "name": "stdout",
     "output_type": "stream",
     "text": [
      "#선물\n",
      "#아줌마\n",
      "#부산맘\n",
      "#인천맘\n",
      "#강원도\n",
      "#금능맛집\n",
      "#우리집\n",
      "#남편\n",
      "#주말\n",
      "#분위기맛집\n",
      "#부산여행\n",
      "#필무드\n",
      "#외동맘\n",
      "#조양방직\n",
      "#뻘다방\n",
      "#생일선물\n",
      "#원앤온리\n",
      "#워킹맘\n",
      "#청양알프스마을\n",
      "#강원도\n",
      "#스케줄청담\n",
      "#데일리청담\n",
      "#아베크청담\n",
      "#올드문래\n",
      "#강화도카페\n",
      "#경주여행\n",
      "#롯데몰\n",
      "#퇴근길\n",
      "#제주하얏트호텔\n",
      "#제주도맛집\n"
     ]
    }
   ],
   "source": [
    "# 해시태그 가져오기\n",
    "tags = soup.find('div', class_=\"MOdxS\").find_all('a')\n",
    "for tag in tags:\n",
    "    if \"#\" in tag.text:\n",
    "        print(tag.text)"
   ]
  },
  {
   "cell_type": "code",
   "execution_count": 19,
   "id": "90589242",
   "metadata": {},
   "outputs": [
    {
     "ename": "IndexError",
     "evalue": "list index out of range",
     "output_type": "error",
     "traceback": [
      "\u001b[1;31m---------------------------------------------------------------------------\u001b[0m",
      "\u001b[1;31mIndexError\u001b[0m                                Traceback (most recent call last)",
      "Input \u001b[1;32mIn [19]\u001b[0m, in \u001b[0;36m<cell line: 2>\u001b[1;34m()\u001b[0m\n\u001b[0;32m      1\u001b[0m \u001b[38;5;66;03m# 댓글 가져오기\u001b[39;00m\n\u001b[1;32m----> 2\u001b[0m li_soup\u001b[38;5;241m=\u001b[39m\u001b[43msoup\u001b[49m\u001b[38;5;241;43m.\u001b[39;49m\u001b[43mfind\u001b[49m\u001b[43m(\u001b[49m\u001b[38;5;124;43m\"\u001b[39;49m\u001b[38;5;124;43mdiv\u001b[39;49m\u001b[38;5;124;43m\"\u001b[39;49m\u001b[43m,\u001b[49m\u001b[43m \u001b[49m\u001b[43mclass_\u001b[49m\u001b[38;5;241;43m=\u001b[39;49m\u001b[38;5;124;43m\"\u001b[39;49m\u001b[38;5;124;43mEtaWk\u001b[39;49m\u001b[38;5;124;43m\"\u001b[39;49m\u001b[43m)\u001b[49m\u001b[38;5;241;43m.\u001b[39;49m\u001b[43mfind_all\u001b[49m\u001b[43m(\u001b[49m\u001b[38;5;124;43m\"\u001b[39;49m\u001b[38;5;124;43mli\u001b[39;49m\u001b[38;5;124;43m\"\u001b[39;49m\u001b[43m,\u001b[49m\u001b[43m \u001b[49m\u001b[43mclass_\u001b[49m\u001b[38;5;241;43m=\u001b[39;49m\u001b[38;5;124;43m\"\u001b[39;49m\u001b[38;5;124;43mgElp9 rUo9f\u001b[39;49m\u001b[38;5;124;43m\"\u001b[39;49m\u001b[43m)\u001b[49m\u001b[43m[\u001b[49m\u001b[38;5;241;43m2\u001b[39;49m\u001b[43m]\u001b[49m\n\u001b[0;32m      3\u001b[0m li_soup\u001b[38;5;241m.\u001b[39mfind_all(\u001b[38;5;124m\"\u001b[39m\u001b[38;5;124ma\u001b[39m\u001b[38;5;124m\"\u001b[39m)[\u001b[38;5;241m1\u001b[39m]\u001b[38;5;241m.\u001b[39mtext\n\u001b[0;32m      4\u001b[0m li_soup\u001b[38;5;241m.\u001b[39mfind(\u001b[38;5;124m\"\u001b[39m\u001b[38;5;124mspan\u001b[39m\u001b[38;5;124m\"\u001b[39m)\u001b[38;5;241m.\u001b[39mtext\n",
      "\u001b[1;31mIndexError\u001b[0m: list index out of range"
     ]
    }
   ],
   "source": [
    "# 댓글 가져오기\n",
    "li_soup=soup.find(\"div\", class_=\"EtaWk\").find_all(\"li\", class_=\"gElp9 rUo9f\")[2]\n",
    "li_soup.find_all(\"a\")[1].text\n",
    "li_soup.find(\"span\").text"
   ]
  },
  {
   "cell_type": "code",
   "execution_count": null,
   "id": "5422caf2",
   "metadata": {},
   "outputs": [],
   "source": []
  },
  {
   "cell_type": "code",
   "execution_count": null,
   "id": "d6840c37",
   "metadata": {},
   "outputs": [],
   "source": []
  },
  {
   "cell_type": "code",
   "execution_count": null,
   "id": "b106ed94",
   "metadata": {},
   "outputs": [],
   "source": []
  },
  {
   "cell_type": "code",
   "execution_count": null,
   "id": "4502dfe1",
   "metadata": {},
   "outputs": [],
   "source": []
  }
 ],
 "metadata": {
  "kernelspec": {
   "display_name": "Python 3 (ipykernel)",
   "language": "python",
   "name": "python3"
  },
  "language_info": {
   "codemirror_mode": {
    "name": "ipython",
    "version": 3
   },
   "file_extension": ".py",
   "mimetype": "text/x-python",
   "name": "python",
   "nbconvert_exporter": "python",
   "pygments_lexer": "ipython3",
   "version": "3.9.7"
  }
 },
 "nbformat": 4,
 "nbformat_minor": 5
}
