{
 "cells": [
  {
   "cell_type": "code",
   "execution_count": 1,
   "id": "e025a7d8",
   "metadata": {
    "id": "e025a7d8"
   },
   "outputs": [],
   "source": [
    "# 셀레이움 설치\n",
    "#!pip install selenium   \n",
    "\n",
    "# webdriver-manager 패키지 설치\n",
    "#!pip install webdriver-manager "
   ]
  },
  {
   "cell_type": "code",
   "execution_count": 2,
   "id": "b1f67f52",
   "metadata": {
    "id": "b1f67f52"
   },
   "outputs": [],
   "source": [
    "## 주피터노트북 경고 없애기, 상황에 따라 경고 메세지는 아주 중요할수 있음.\n",
    "# \n",
    "import warnings\n",
    "warnings.filterwarnings(action='ignore')\n",
    "# warnings.filterwarnings(action='default')  # 경고메세지 활성화\n",
    "\n"
   ]
  },
  {
   "cell_type": "markdown",
   "id": "46ba4bbb",
   "metadata": {
    "id": "46ba4bbb"
   },
   "source": [
    "### [이 코드를 사용하면 오피넷에서 싼주유소찾기를 클릭하지 않아도 됨.]\n",
    "- 이코드는 url='https://www.opinet.co.kr/'  지정하고, 크롬드라이버를 띄워서\n",
    "- driver.get(url)  로 사이트를 읽어서\n",
    "- driver.get('https://www.opinet.co.kr/searRgSelect.do') # 지역별 유류비 사이트 이동 하고\n",
    "- 부산, 동래구를 지정하여 엑셀다운로드까지 실행하는 자료임"
   ]
  },
  {
   "cell_type": "code",
   "execution_count": 4,
   "id": "cf646ea3",
   "metadata": {
    "id": "cf646ea3",
    "outputId": "60b7c803-608e-4e08-8421-171cb8259581"
   },
   "outputs": [],
   "source": [
    "from selenium import webdriver\n",
    "from selenium.webdriver.common.keys import Keys # 키보드 키사용\n",
    "\n",
    "# 처음보는 작업임. driver.find_element_by_id를\n",
    "# driver.find_element(By.ID )로 작업할수 있음.  이 노트차으이 19,20번 확인\n",
    "from selenium.webdriver.common.by import By   \n",
    "import time\n",
    "\n",
    "url='https://www.opinet.co.kr/'\n",
    "\n",
    "driver=webdriver.Chrome('C:/Users/kwoni/Desktop/pycode/chromedriver.exe') # 크롬 드라이브 본인폴더로 이동\n",
    "\n",
    "driver.get(url)  # 기본 오피넷 사이트 이동\n",
    "time.sleep(2)\n",
    "\n",
    "driver.get('https://www.opinet.co.kr/searRgSelect.do') # 지역별 유류비 사이트 이동\n",
    "time.sleep(5)\n"
   ]
  },
  {
   "cell_type": "code",
   "execution_count": 24,
   "id": "8fe67f3d",
   "metadata": {},
   "outputs": [
    {
     "name": "stdout",
     "output_type": "stream",
     "text": [
      "['서울', '부산', '대구', '인천', '광주', '대전', '울산', '세종', '경기', '강원', '충북', '충남', '전북', '전남', '경북', '경남', '제주']\n"
     ]
    }
   ],
   "source": [
    "sido_html = bs(driver.page_source, \"html.parser\")\n",
    "sido_soup=sido_html.find('select',id=\"SIDO_NM0\")       # 대분류 건수 확인\n",
    "sido_opt=sido_soup.find_all('option')\n",
    "\n",
    "sido_name=[sido_opt[i].text for i in range(1, len(sido_opt))]\n",
    "print(sido_name)"
   ]
  },
  {
   "cell_type": "code",
   "execution_count": 28,
   "id": "ff1bcd69",
   "metadata": {},
   "outputs": [],
   "source": [
    "sido=driver.find_element(By.ID,\"SIDO_NM0\") # 지역 대분류 선택, 아래와 같이 작업해도 됨\n",
    "                                           # sido=driver.find_element_by_id(\"SIDO_NM0\")\n",
    "sido.send_keys(sido_name[0])   \n",
    "time.sleep(3)"
   ]
  },
  {
   "cell_type": "code",
   "execution_count": 31,
   "id": "d04d876d",
   "metadata": {},
   "outputs": [
    {
     "name": "stdout",
     "output_type": "stream",
     "text": [
      "['강남구', '강동구', '강북구', '강서구', '관악구', '광진구', '구로구', '금천구', '노원구', '도봉구', '동대문구', '동작구', '마포구', '서대문구', '서초구', '성동구', '성북구', '송파구', '양천구', '영등포구', '용산구', '은평구', '종로구', '중구', '중랑구']\n"
     ]
    }
   ],
   "source": [
    "html = bs(driver.page_source, \"html.parser\")\n",
    "sigungu_soup=html.find('select',id=\"SIGUNGU_NM0\")       # 소분류 항목 추출\n",
    "sigungu_opt=sigungu_soup.find_all('option')\n",
    "\n",
    "sigungu_name=[sigungu_opt[i].text for i in range(1, len(sigungu_opt))]\n",
    "print(sigungu_name)"
   ]
  },
  {
   "cell_type": "code",
   "execution_count": 32,
   "id": "e84f0811",
   "metadata": {},
   "outputs": [
    {
     "data": {
      "text/plain": [
       "<bound method WebDriver.close of <selenium.webdriver.chrome.webdriver.WebDriver (session=\"8b5f15857f366d13cb29f8567115547a\")>>"
      ]
     },
     "execution_count": 32,
     "metadata": {},
     "output_type": "execute_result"
    }
   ],
   "source": [
    "sido=driver.find_element(By.ID,\"SIGUNGU_NM0\") # 소분류 선택\n",
    "\n",
    "sido.send_keys(sigungu_name[0]) # 소분류로 동래구 입력\n",
    "time.sleep(3)\n",
    "\n",
    "\n",
    "driver.find_element(By.XPATH,'//*[@id=\"glopopd_excel\"]').click() # 엑셀 저장버튼 클릭\n",
    "driver.close"
   ]
  },
  {
   "cell_type": "markdown",
   "id": "a465f062",
   "metadata": {},
   "source": [
    "전체 코드"
   ]
  },
  {
   "cell_type": "code",
   "execution_count": 44,
   "id": "444f60d9",
   "metadata": {},
   "outputs": [
    {
     "name": "stdout",
     "output_type": "stream",
     "text": [
      "['서울', '부산', '대구', '인천', '광주', '대전', '울산', '세종', '경기', '강원', '충북', '충남', '전북', '전남', '경북', '경남', '제주']\n"
     ]
    }
   ],
   "source": [
    "from selenium import webdriver\n",
    "from selenium.webdriver.common.keys import Keys # 키보드 키사용\n",
    "from selenium.webdriver.common.by import By   \n",
    "from bs4 import BeautifulSoup as bs\n",
    "import time\n",
    "\n",
    "url='https://www.opinet.co.kr/'\n",
    "\n",
    "driver=webdriver.Chrome('C:/Users/kwoni/Desktop/pycode/chromedriver.exe') # 크롬 드라이브 본인폴더로 이동\n",
    "\n",
    "driver.get(url)  # 기본 오피넷 사이트 이동\n",
    "time.sleep(2)\n",
    "\n",
    "driver.get('https://www.opinet.co.kr/searRgSelect.do') # 지역별 유류비 사이트 이동\n",
    "time.sleep(5)\n",
    "\n",
    "# 대분류 항목 추출하기\n",
    "html = bs(driver.page_source, \"html.parser\")\n",
    "sido_soup=html.find('select',id=\"SIDO_NM0\")       # 대분류 건수 확인\n",
    "sido_opt=sido_soup.find_all('option')\n",
    "\n",
    "sido_name=[sido_opt[i].text for i in range(1, len(sido_opt))]\n",
    "print(sido_name)\n",
    "\n",
    "sigungu_all = []\n",
    "for sn in sido_name:\n",
    "    sido=driver.find_element(By.ID,\"SIDO_NM0\")\n",
    "    sido.send_keys(sn)   \n",
    "    time.sleep(3)\n",
    "    \n",
    "    # 소분류 추출하기\n",
    "    html = bs(driver.page_source, \"html.parser\")\n",
    "    sigungu_soup=html.find('select',id=\"SIGUNGU_NM0\")    \n",
    "    sigungu_opt=sigungu_soup.find_all('option')\n",
    "\n",
    "    sigungu_name=[sigungu_opt[i].text for i in range(1, len(sigungu_opt))]\n",
    "    sigungu_all.append([sn]+sigungu_name)"
   ]
  },
  {
   "cell_type": "code",
   "execution_count": 45,
   "id": "ffa999c9",
   "metadata": {},
   "outputs": [],
   "source": [
    "#print(sigungu_all)"
   ]
  },
  {
   "cell_type": "code",
   "execution_count": null,
   "id": "cd29bf3a",
   "metadata": {},
   "outputs": [],
   "source": [
    "sch_name=[\"서울\", \"부산\", '대전', '광주']\n",
    "\n",
    "for si in sigungu_all:\n",
    "    if si[0] in sch_name:\n",
    "        sido=driver.find_element(By.ID,\"SIDO_NM0\")\n",
    "        sido.send_keys(si[0])   \n",
    "        time.sleep(3)\n",
    "        \n",
    "        for i in range(1, len(si)):\n",
    "            sido=driver.find_element(By.ID,\"SIGUNGU_NM0\") # 소분류 선택\n",
    "            sido.send_keys(si[i]) # 소분류로 동래구 입력\n",
    "            time.sleep(1)\n",
    "\n",
    "            driver.find_element(By.XPATH,'//*[@id=\"glopopd_excel\"]').click() # 엑셀 저장버튼 클릭\n",
    "            time.sleep(3)\n",
    "            \n",
    "driver.close()"
   ]
  },
  {
   "cell_type": "code",
   "execution_count": null,
   "id": "dcdb9d8e",
   "metadata": {},
   "outputs": [],
   "source": []
  }
 ],
 "metadata": {
  "colab": {
   "name": "참고_오피넷_곧바로 주유소 가격표들어가기.ipynb",
   "provenance": []
  },
  "kernelspec": {
   "display_name": "Python 3 (ipykernel)",
   "language": "python",
   "name": "python3"
  },
  "language_info": {
   "codemirror_mode": {
    "name": "ipython",
    "version": 3
   },
   "file_extension": ".py",
   "mimetype": "text/x-python",
   "name": "python",
   "nbconvert_exporter": "python",
   "pygments_lexer": "ipython3",
   "version": "3.9.7"
  }
 },
 "nbformat": 4,
 "nbformat_minor": 5
}
