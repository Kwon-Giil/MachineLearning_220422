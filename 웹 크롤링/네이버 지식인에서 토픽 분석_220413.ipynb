{
 "cells": [
  {
   "cell_type": "code",
   "execution_count": null,
   "id": "09e68b6b",
   "metadata": {},
   "outputs": [],
   "source": [
    "# 네이버 지식인 검색 결과에 대한 토픽 분석\n",
    "# - naver_kin.py 모듈을 참조해서 작업\n",
    "# 검색어: 제주도\n",
    "# 데이터: 크롤링을 이용하여 수집(500개 이상)\n",
    "# 네이버 API 이용 데이터 수집\n",
    "# 수집 결과 저장은 질문.txt / 답변.txt"
   ]
  },
  {
   "cell_type": "code",
   "execution_count": null,
   "id": "486016df",
   "metadata": {},
   "outputs": [],
   "source": [
    "# 데이터 갖고 왔으면 토픽 분석\n",
    "# - 형태소 분석 (명사, 형용사, 부사만 추출)\n",
    "# - 질문에 대한 단어 빈도 수(상위 50개 차트 출력) + 워드 클라우드\n",
    "# - 답변에 대해서도 단어 빈도 + 워드 클라우드\n",
    "# - TF - IDF 계산\n",
    "# - 단어에 대한 연관 분석 및 networkx 이용해서 시각화"
   ]
  },
  {
   "cell_type": "code",
   "execution_count": 15,
   "id": "f46c6c46",
   "metadata": {},
   "outputs": [],
   "source": [
    "all = [var for var in globals() if var[0] != \"_\"]\n",
    "for var in all:\n",
    "    del globals()[var]"
   ]
  },
  {
   "cell_type": "code",
   "execution_count": 16,
   "id": "9f2a55b5",
   "metadata": {},
   "outputs": [],
   "source": [
    "from bs4 import BeautifulSoup as bs\n",
    "from urllib import request\n",
    "from urllib.request import quote\n",
    "import urllib\n",
    "import requests\n",
    "import pandas as pd\n",
    "import matplotlib.pyplot as plt\n",
    "import naver_kin\n",
    "from tqdm import tqdm\n",
    "import re\n",
    "import os\n",
    "import sys\n",
    "import json\n",
    "from konlpy.tag import Okt\n",
    "from mlxtend.preprocessing import TransactionEncoder\n",
    "from mlxtend.frequent_patterns import apriori"
   ]
  },
  {
   "cell_type": "code",
   "execution_count": 17,
   "id": "7d2da386",
   "metadata": {},
   "outputs": [
    {
     "name": "stderr",
     "output_type": "stream",
     "text": [
      "100%|████████████████████████████████████████████████████████████████████████████████████| 5/5 [07:24<00:00, 88.84s/it]"
     ]
    },
    {
     "name": "stdout",
     "output_type": "stream",
     "text": [
      "=== End ===\n"
     ]
    },
    {
     "name": "stderr",
     "output_type": "stream",
     "text": [
      "\n"
     ]
    }
   ],
   "source": [
    "encText = \"제주도\"\n",
    "for i in tqdm(range(1, 501,100)):\n",
    "  \n",
    "    reg_link=naver_kin.get_Nav_client(encText, i) # 질문을 txt로 저장\n",
    "\n",
    "    # link를 이용해 세부 내용 가져와 파일에 기록하기\n",
    "    for link in reg_link:\n",
    "        naver_kin.get_write(encText, link)\n",
    "\n",
    "print(\"=== End ===\")"
   ]
  },
  {
   "cell_type": "code",
   "execution_count": 18,
   "id": "2d325024",
   "metadata": {},
   "outputs": [
    {
     "name": "stdout",
     "output_type": "stream",
     "text": [
      "['제주도 농사\\n', '제주도는 지표수가 부족해서 밭농사가 주로 이루어지잖아요제주도의 용천대를 따라서는 논농사가 이루어지나요?\\n', '\\n', '제주도 북쪽 코스\\n', '안녕하세요 군대 가기전에 여자친구와 제주도를 갈려고 합니다 제주도 북쪽으로 가볼만한곳 맛집 추천해주세요!!!\\n', '\\n', '\\n', '\\n', '\\n', '제주도 혼자 여행\\n']\n"
     ]
    }
   ],
   "source": [
    "# 저장한 파일 읽어오기\n",
    "f= open('./제주도_질문.txt')\n",
    "txtData = f.readlines()\n",
    "print(txtData[:10])\n",
    "f.close()"
   ]
  },
  {
   "cell_type": "code",
   "execution_count": 19,
   "id": "167c3da7",
   "metadata": {},
   "outputs": [],
   "source": [
    "# 데이터를 한 줄 단위로 갖고 와서 명사, 형용사, 부사만 추출\n",
    "okt = Okt()\n",
    "New_text=[]\n",
    "\n",
    "for i in range(len(txtData)):\n",
    "    if len(re.sub('[\\s]','',txtData[i])) == 0:\n",
    "        continue\n",
    "    else:\n",
    "        New_text.append(okt.pos(re.sub('[\\s]','',txtData[i])))"
   ]
  },
  {
   "cell_type": "code",
   "execution_count": 20,
   "id": "4d71746a",
   "metadata": {},
   "outputs": [
    {
     "data": {
      "text/plain": [
       "['제주도', '농사', '제주도', '지표수', '밭농사']"
      ]
     },
     "execution_count": 20,
     "metadata": {},
     "output_type": "execute_result"
    }
   ],
   "source": [
    "# 명사 / 동사만 추출\n",
    "Noun_Verb=[]\n",
    "\n",
    "for wl in New_text:\n",
    "    \n",
    "    for t, p in wl:\n",
    "        \n",
    "        if p == 'Noun' or p == 'Verb':\n",
    "            Noun_Verb.append(t)\n",
    "\n",
    "Noun_Verb[:5]"
   ]
  },
  {
   "cell_type": "code",
   "execution_count": 21,
   "id": "0437c6cc",
   "metadata": {},
   "outputs": [
    {
     "data": {
      "text/html": [
       "<div>\n",
       "<style scoped>\n",
       "    .dataframe tbody tr th:only-of-type {\n",
       "        vertical-align: middle;\n",
       "    }\n",
       "\n",
       "    .dataframe tbody tr th {\n",
       "        vertical-align: top;\n",
       "    }\n",
       "\n",
       "    .dataframe thead th {\n",
       "        text-align: right;\n",
       "    }\n",
       "</style>\n",
       "<table border=\"1\" class=\"dataframe\">\n",
       "  <thead>\n",
       "    <tr style=\"text-align: right;\">\n",
       "      <th></th>\n",
       "      <th>단어</th>\n",
       "      <th>빈도 수</th>\n",
       "    </tr>\n",
       "  </thead>\n",
       "  <tbody>\n",
       "    <tr>\n",
       "      <th>0</th>\n",
       "      <td>제주도</td>\n",
       "      <td>256</td>\n",
       "    </tr>\n",
       "    <tr>\n",
       "      <th>1</th>\n",
       "      <td>여행</td>\n",
       "      <td>63</td>\n",
       "    </tr>\n",
       "    <tr>\n",
       "      <th>2</th>\n",
       "      <td>박</td>\n",
       "      <td>39</td>\n",
       "    </tr>\n",
       "    <tr>\n",
       "      <th>3</th>\n",
       "      <td>곳</td>\n",
       "      <td>36</td>\n",
       "    </tr>\n",
       "    <tr>\n",
       "      <th>4</th>\n",
       "      <td>렌트카</td>\n",
       "      <td>36</td>\n",
       "    </tr>\n",
       "    <tr>\n",
       "      <th>...</th>\n",
       "      <td>...</td>\n",
       "      <td>...</td>\n",
       "    </tr>\n",
       "    <tr>\n",
       "      <th>489</th>\n",
       "      <td>알고있고</td>\n",
       "      <td>1</td>\n",
       "    </tr>\n",
       "    <tr>\n",
       "      <th>490</th>\n",
       "      <td>않는것</td>\n",
       "      <td>1</td>\n",
       "    </tr>\n",
       "    <tr>\n",
       "      <th>491</th>\n",
       "      <td>가고싶다는</td>\n",
       "      <td>1</td>\n",
       "    </tr>\n",
       "    <tr>\n",
       "      <th>492</th>\n",
       "      <td>해주고싶다는</td>\n",
       "      <td>1</td>\n",
       "    </tr>\n",
       "    <tr>\n",
       "      <th>888</th>\n",
       "      <td>겨울</td>\n",
       "      <td>1</td>\n",
       "    </tr>\n",
       "  </tbody>\n",
       "</table>\n",
       "<p>889 rows × 2 columns</p>\n",
       "</div>"
      ],
      "text/plain": [
       "         단어  빈도 수\n",
       "0       제주도   256\n",
       "1        여행    63\n",
       "2         박    39\n",
       "3         곳    36\n",
       "4       렌트카    36\n",
       "..      ...   ...\n",
       "489    알고있고     1\n",
       "490     않는것     1\n",
       "491   가고싶다는     1\n",
       "492  해주고싶다는     1\n",
       "888      겨울     1\n",
       "\n",
       "[889 rows x 2 columns]"
      ]
     },
     "execution_count": 21,
     "metadata": {},
     "output_type": "execute_result"
    }
   ],
   "source": [
    "# 단어 빈도수 계산\n",
    "from collections import Counter\n",
    "\n",
    "txt_cnt_df=pd.DataFrame(Counter(Noun_Verb).most_common(), columns = ['단어', '빈도 수'])\n",
    "txt_cnt_df.sort_values(by = '빈도 수', ascending = False)"
   ]
  },
  {
   "cell_type": "code",
   "execution_count": 22,
   "id": "197b0974",
   "metadata": {},
   "outputs": [
    {
     "data": {
      "text/plain": [
       "<AxesSubplot:>"
      ]
     },
     "execution_count": 22,
     "metadata": {},
     "output_type": "execute_result"
    },
    {
     "data": {
      "image/png": "[encoded data removed]",
      "text/plain": [
       "<Figure size 432x720 with 1 Axes>"
      ]
     },
     "metadata": {
      "needs_background": "light"
     },
     "output_type": "display_data"
    }
   ],
   "source": [
    "txt_cnt_df.iloc[:50].plot(kind='barh',figsize=(6,10))"
   ]
  },
  {
   "cell_type": "code",
   "execution_count": 23,
   "id": "c38d97b6",
   "metadata": {},
   "outputs": [
    {
     "data": {
      "image/png": "[encoded data removed]",
      "text/plain": [
       "<Figure size 720x720 with 1 Axes>"
      ]
     },
     "metadata": {
      "needs_background": "light"
     },
     "output_type": "display_data"
    }
   ],
   "source": [
    "# 검색 단어를 제외한 가장 많이 언급되는 상위 50개 단어 현황을 그래프로 표시\n",
    "plt.figure(figsize=(10,10))\n",
    "\n",
    "plt.rc('font', family = 'Nexon Lv2 Gothic')\n",
    "\n",
    "txt_cnt_df = txt_cnt_df[txt_cnt_df['단어'] != encText]\n",
    "\n",
    "plt.barh(txt_cnt_df['단어'].iloc[:50], txt_cnt_df['빈도 수'].iloc[:50])\n",
    "plt.show()"
   ]
  },
  {
   "cell_type": "code",
   "execution_count": 24,
   "id": "6690dfa8",
   "metadata": {},
   "outputs": [
    {
     "data": {
      "text/plain": [
       "['제주도 농사 ',\n",
       " '제주도 지표수 밭농사 가주 이루어지잖아요 제주도 용천 따라서 논 농사 이루어지나요 ',\n",
       " '제주도 북쪽 코스 ',\n",
       " '군대 기전 여자친구 제주도 갈려 고합 제주도 북쪽 볼 곳 맛집 추천 해주세요 ',\n",
       " '제주도 혼자 여행 ']"
      ]
     },
     "execution_count": 24,
     "metadata": {},
     "output_type": "execute_result"
    }
   ],
   "source": [
    "# 명사 / 동사만 추출\n",
    "Noun_Verb = []\n",
    "for wl in New_text:\n",
    "    txt=\"\"\n",
    "    for t, p in wl:\n",
    "        if p == \"Noun\" or p == \"Verb\":\n",
    "            txt += t+\" \"\n",
    "    Noun_Verb.append(txt)\n",
    "\n",
    "Noun_Verb[:5]"
   ]
  },
  {
   "cell_type": "code",
   "execution_count": 25,
   "id": "3f295033",
   "metadata": {},
   "outputs": [
    {
     "name": "stdout",
     "output_type": "stream",
     "text": [
      "[[0. 0. 0. ... 0. 0. 0.]\n",
      " [0. 0. 0. ... 0. 0. 0.]\n",
      " [0. 0. 0. ... 0. 0. 0.]\n",
      " ...\n",
      " [0. 0. 0. ... 0. 0. 0.]\n",
      " [0. 0. 0. ... 0. 0. 0.]\n",
      " [0. 0. 0. ... 0. 0. 0.]]\n"
     ]
    }
   ],
   "source": [
    "from sklearn.feature_extraction.text import TfidfVectorizer\n",
    "import numpy as np\n",
    "\n",
    "tv=TfidfVectorizer().fit(txtData)\n",
    "print(tv.transform(txtData).toarray())"
   ]
  },
  {
   "cell_type": "code",
   "execution_count": 26,
   "id": "dcd668c9",
   "metadata": {},
   "outputs": [
    {
     "name": "stderr",
     "output_type": "stream",
     "text": [
      "C:\\ProgramData\\Miniconda3\\envs\\kdig\\lib\\site-packages\\sklearn\\utils\\deprecation.py:87: FutureWarning: Function get_feature_names is deprecated; get_feature_names is deprecated in 1.0 and will be removed in 1.2. Please use get_feature_names_out instead.\n",
      "  warnings.warn(msg, category=FutureWarning)\n"
     ]
    },
    {
     "data": {
      "text/html": [
       "<div>\n",
       "<style scoped>\n",
       "    .dataframe tbody tr th:only-of-type {\n",
       "        vertical-align: middle;\n",
       "    }\n",
       "\n",
       "    .dataframe tbody tr th {\n",
       "        vertical-align: top;\n",
       "    }\n",
       "\n",
       "    .dataframe thead th {\n",
       "        text-align: right;\n",
       "    }\n",
       "</style>\n",
       "<table border=\"1\" class=\"dataframe\">\n",
       "  <thead>\n",
       "    <tr style=\"text-align: right;\">\n",
       "      <th></th>\n",
       "      <th>100</th>\n",
       "      <th>10년정도</th>\n",
       "      <th>10대</th>\n",
       "      <th>10만원</th>\n",
       "      <th>10만원이</th>\n",
       "      <th>10월</th>\n",
       "      <th>10월2일부터8일까지</th>\n",
       "      <th>10월에</th>\n",
       "      <th>10월초</th>\n",
       "      <th>11</th>\n",
       "      <th>...</th>\n",
       "      <th>활성한곳여행</th>\n",
       "      <th>회사</th>\n",
       "      <th>후카도</th>\n",
       "      <th>휴가나와서</th>\n",
       "      <th>휴가보냈다</th>\n",
       "      <th>흐리고일요일은</th>\n",
       "      <th>흔치않은</th>\n",
       "      <th>힘들어하시는</th>\n",
       "      <th>힘들어하시지</th>\n",
       "      <th>힙한것도</th>\n",
       "    </tr>\n",
       "  </thead>\n",
       "  <tbody>\n",
       "    <tr>\n",
       "      <th>0</th>\n",
       "      <td>0.0</td>\n",
       "      <td>0.0</td>\n",
       "      <td>0.0</td>\n",
       "      <td>0.0</td>\n",
       "      <td>0.0</td>\n",
       "      <td>0.0</td>\n",
       "      <td>0.0</td>\n",
       "      <td>0.0</td>\n",
       "      <td>0.0</td>\n",
       "      <td>0.0</td>\n",
       "      <td>...</td>\n",
       "      <td>0.0</td>\n",
       "      <td>0.0</td>\n",
       "      <td>0.0</td>\n",
       "      <td>0.0</td>\n",
       "      <td>0.0</td>\n",
       "      <td>0.0</td>\n",
       "      <td>0.0</td>\n",
       "      <td>0.0</td>\n",
       "      <td>0.0</td>\n",
       "      <td>0.0</td>\n",
       "    </tr>\n",
       "    <tr>\n",
       "      <th>1</th>\n",
       "      <td>0.0</td>\n",
       "      <td>0.0</td>\n",
       "      <td>0.0</td>\n",
       "      <td>0.0</td>\n",
       "      <td>0.0</td>\n",
       "      <td>0.0</td>\n",
       "      <td>0.0</td>\n",
       "      <td>0.0</td>\n",
       "      <td>0.0</td>\n",
       "      <td>0.0</td>\n",
       "      <td>...</td>\n",
       "      <td>0.0</td>\n",
       "      <td>0.0</td>\n",
       "      <td>0.0</td>\n",
       "      <td>0.0</td>\n",
       "      <td>0.0</td>\n",
       "      <td>0.0</td>\n",
       "      <td>0.0</td>\n",
       "      <td>0.0</td>\n",
       "      <td>0.0</td>\n",
       "      <td>0.0</td>\n",
       "    </tr>\n",
       "    <tr>\n",
       "      <th>2</th>\n",
       "      <td>0.0</td>\n",
       "      <td>0.0</td>\n",
       "      <td>0.0</td>\n",
       "      <td>0.0</td>\n",
       "      <td>0.0</td>\n",
       "      <td>0.0</td>\n",
       "      <td>0.0</td>\n",
       "      <td>0.0</td>\n",
       "      <td>0.0</td>\n",
       "      <td>0.0</td>\n",
       "      <td>...</td>\n",
       "      <td>0.0</td>\n",
       "      <td>0.0</td>\n",
       "      <td>0.0</td>\n",
       "      <td>0.0</td>\n",
       "      <td>0.0</td>\n",
       "      <td>0.0</td>\n",
       "      <td>0.0</td>\n",
       "      <td>0.0</td>\n",
       "      <td>0.0</td>\n",
       "      <td>0.0</td>\n",
       "    </tr>\n",
       "    <tr>\n",
       "      <th>3</th>\n",
       "      <td>0.0</td>\n",
       "      <td>0.0</td>\n",
       "      <td>0.0</td>\n",
       "      <td>0.0</td>\n",
       "      <td>0.0</td>\n",
       "      <td>0.0</td>\n",
       "      <td>0.0</td>\n",
       "      <td>0.0</td>\n",
       "      <td>0.0</td>\n",
       "      <td>0.0</td>\n",
       "      <td>...</td>\n",
       "      <td>0.0</td>\n",
       "      <td>0.0</td>\n",
       "      <td>0.0</td>\n",
       "      <td>0.0</td>\n",
       "      <td>0.0</td>\n",
       "      <td>0.0</td>\n",
       "      <td>0.0</td>\n",
       "      <td>0.0</td>\n",
       "      <td>0.0</td>\n",
       "      <td>0.0</td>\n",
       "    </tr>\n",
       "    <tr>\n",
       "      <th>4</th>\n",
       "      <td>0.0</td>\n",
       "      <td>0.0</td>\n",
       "      <td>0.0</td>\n",
       "      <td>0.0</td>\n",
       "      <td>0.0</td>\n",
       "      <td>0.0</td>\n",
       "      <td>0.0</td>\n",
       "      <td>0.0</td>\n",
       "      <td>0.0</td>\n",
       "      <td>0.0</td>\n",
       "      <td>...</td>\n",
       "      <td>0.0</td>\n",
       "      <td>0.0</td>\n",
       "      <td>0.0</td>\n",
       "      <td>0.0</td>\n",
       "      <td>0.0</td>\n",
       "      <td>0.0</td>\n",
       "      <td>0.0</td>\n",
       "      <td>0.0</td>\n",
       "      <td>0.0</td>\n",
       "      <td>0.0</td>\n",
       "    </tr>\n",
       "  </tbody>\n",
       "</table>\n",
       "<p>5 rows × 1579 columns</p>\n",
       "</div>"
      ],
      "text/plain": [
       "   100  10년정도  10대  10만원  10만원이  10월  10월2일부터8일까지  10월에  10월초   11  ...  \\\n",
       "0  0.0    0.0  0.0   0.0    0.0  0.0          0.0   0.0   0.0  0.0  ...   \n",
       "1  0.0    0.0  0.0   0.0    0.0  0.0          0.0   0.0   0.0  0.0  ...   \n",
       "2  0.0    0.0  0.0   0.0    0.0  0.0          0.0   0.0   0.0  0.0  ...   \n",
       "3  0.0    0.0  0.0   0.0    0.0  0.0          0.0   0.0   0.0  0.0  ...   \n",
       "4  0.0    0.0  0.0   0.0    0.0  0.0          0.0   0.0   0.0  0.0  ...   \n",
       "\n",
       "   활성한곳여행   회사  후카도  휴가나와서  휴가보냈다  흐리고일요일은  흔치않은  힘들어하시는  힘들어하시지  힙한것도  \n",
       "0     0.0  0.0  0.0    0.0    0.0      0.0   0.0     0.0     0.0   0.0  \n",
       "1     0.0  0.0  0.0    0.0    0.0      0.0   0.0     0.0     0.0   0.0  \n",
       "2     0.0  0.0  0.0    0.0    0.0      0.0   0.0     0.0     0.0   0.0  \n",
       "3     0.0  0.0  0.0    0.0    0.0      0.0   0.0     0.0     0.0   0.0  \n",
       "4     0.0  0.0  0.0    0.0    0.0      0.0   0.0     0.0     0.0   0.0  \n",
       "\n",
       "[5 rows x 1579 columns]"
      ]
     },
     "execution_count": 26,
     "metadata": {},
     "output_type": "execute_result"
    }
   ],
   "source": [
    "features = tv.get_feature_names()\n",
    "df=pd.DataFrame(tv.transform(Noun_Verb).toarray(),columns=features)\n",
    "df.head()"
   ]
  },
  {
   "cell_type": "code",
   "execution_count": 27,
   "id": "98358a6f",
   "metadata": {},
   "outputs": [
    {
     "data": {
      "text/plain": [
       "['제 내년 일단 정도 숙소 구해 여행 겸 숙소 제공 되는 일자리 구해 남자 이구 살 제주도 숙소 제공 되는 일자리 일자리 추천 하시나요 차는 배타 제주도 가져갈 생각 가져가는게나 까요 안 가지고가는게 나을까요 제주도 여름 가을 겨울 날씨 좀 알려주세요 ',\n",
       " '제 내년 일단 정도 숙소 구해 여행 겸 숙소 제공 되는 일자리 구해 남자 이구 살 제주도 숙소 제공 되는 일자리 일자리 추천 하시나요 차는 배타 제주도 가져갈 생각 가져가는게나 까요 안 가지고가는게 나을까요 제주도 여름 가을 겨울 날씨 좀 알려주세요 ']"
      ]
     },
     "execution_count": 27,
     "metadata": {},
     "output_type": "execute_result"
    }
   ],
   "source": [
    "# 명사 / 동사만 추출\n",
    "Noun_Verb = []\n",
    "for wl in New_text:\n",
    "    lst=[]\n",
    "    \n",
    "    for t, p in wl:\n",
    "        \n",
    "        if p == \"Noun\" or p == \"Verb\":\n",
    "            \n",
    "            lst.append(t)\n",
    "    \n",
    "    Noun_Verb.append(txt)\n",
    "\n",
    "Noun_Verb[:2]"
   ]
  },
  {
   "cell_type": "code",
   "execution_count": null,
   "id": "5ef8aea2",
   "metadata": {},
   "outputs": [],
   "source": [
    "tren = TransactionEncoder()\n",
    "tren_arr = tren.fit(Noun_Verb).transform(Noun_Verb)\n",
    "tren_df = pd.DataFrame(tren_arr, columns = tren.columns_)\n",
    "\n",
    "aprItem = apriori(tren_df, min_support=0.3, use_colnames=True)\n",
    "aprItem"
   ]
  },
  {
   "cell_type": "code",
   "execution_count": null,
   "id": "e353a651",
   "metadata": {},
   "outputs": [],
   "source": [
    "from mlxtend.frequent_patterns import association_rules\n",
    "association_rules(aprItem, metric='lift', min_threshold=0.2)"
   ]
  },
  {
   "cell_type": "code",
   "execution_count": null,
   "id": "ec642535",
   "metadata": {},
   "outputs": [],
   "source": [
    "# 네트워크 그래프\n",
    "from apyori import apriori\n",
    "\n",
    "result=(list(apriori(Noun_Verb, min_support=0.3)))\n",
    "df_apy = pd.DataFrame(result)\n",
    "df_apy.head()"
   ]
  },
  {
   "cell_type": "code",
   "execution_count": null,
   "id": "cbb089d0",
   "metadata": {},
   "outputs": [],
   "source": [
    "df_apy['length'] = df['items'].apply(lambda x: len(x))\n",
    "df_apy = df_apy[(df_apy['length']==2) & \n",
    "                (df_apy['support'] >=0.1)].sort_values(by='support', ascending=False)\n",
    "df_apy.head(10)"
   ]
  },
  {
   "cell_type": "code",
   "execution_count": null,
   "id": "22e4de90",
   "metadata": {},
   "outputs": [],
   "source": [
    "import networkx as nx\n",
    "\n",
    "# 그래프 정의\n",
    "G1 = np.Graph()\n",
    "arn = df_apy['items']\n",
    "G1.add_edges_from(arn)"
   ]
  },
  {
   "cell_type": "code",
   "execution_count": null,
   "id": "914262a7",
   "metadata": {},
   "outputs": [],
   "source": [
    "# 노드와 엣지, 페이지 랭크\n",
    "pr = nx.pagerank(G1)\n",
    "nsize = np.array([v for v in pr.values()])\n",
    "nsiz = 2000*(nsiz - min(nsize)) / (max(nsize - min(nsize))"
   ]
  },
  {
   "cell_type": "code",
   "execution_count": null,
   "id": "54b9c556",
   "metadata": {},
   "outputs": [],
   "source": [
    "# 레이아웃\n",
    "#pos = nx.random_layout(G)\n",
    "#pos = nx.shell_layout(G)\n",
    "pos = nx.circular_layout(G)\n",
    "\n",
    "# 그래프 그리기\n",
    "plt.figure(figsize=(16,12))\n",
    "plt.axis('off')\n",
    "nx.draw_networkx(G1, font_family = 'Nexon Lv2 Gothic', font_size = 15, pos = pos,\n",
    "                node_color = list(pr.values()), node_size = nsize, alpha = 0.8,\n",
    "                edge_color = '0.5', cmap = plt.cm.YlGn)"
   ]
  }
 ],
 "metadata": {
  "kernelspec": {
   "display_name": "Python 3 (ipykernel)",
   "language": "python",
   "name": "python3"
  },
  "language_info": {
   "codemirror_mode": {
    "name": "ipython",
    "version": 3
   },
   "file_extension": ".py",
   "mimetype": "text/x-python",
   "name": "python",
   "nbconvert_exporter": "python",
   "pygments_lexer": "ipython3",
   "version": "3.9.7"
  }
 },
 "nbformat": 4,
 "nbformat_minor": 5
}
