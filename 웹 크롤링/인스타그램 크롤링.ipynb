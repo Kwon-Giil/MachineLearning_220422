{
 "cells": [
  {
   "cell_type": "code",
   "execution_count": null,
   "id": "d82b115e",
   "metadata": {},
   "outputs": [],
   "source": [
    "# 인스타그램 크롤링 (해시태그만 긁어오기)\n",
    "# - 셀레니움 이용한 크롤링\n",
    "# - 결과에 대한 단어 단위 분석"
   ]
  },
  {
   "cell_type": "code",
   "execution_count": 2,
   "id": "dc1ce9bd",
   "metadata": {},
   "outputs": [],
   "source": [
    "from selenium.webdriver import Chrome\n",
    "from selenium.webdriver.common.by import By\n",
    "from bs4 import BeautifulSoup as bs\n",
    "import time\n",
    "import pandas as pd"
   ]
  },
  {
   "cell_type": "code",
   "execution_count": 3,
   "id": "87985816",
   "metadata": {},
   "outputs": [
    {
     "name": "stderr",
     "output_type": "stream",
     "text": [
      "C:\\Users\\kwoni\\AppData\\Local\\Temp\\ipykernel_7220\\4221468968.py:2: DeprecationWarning: executable_path has been deprecated, please pass in a Service object\n",
      "  browser = Chrome('C:/Users/kwoni/Desktop/pycode/chromedriver.exe')\n"
     ]
    }
   ],
   "source": [
    "# 인스타그램 로그인\n",
    "browser = Chrome('C:/Users/kwoni/Desktop/pycode/chromedriver.exe')\n",
    "\n",
    "# 인스타그램 접속\n",
    "browser.get('https://www.instagram.com/')\n",
    "time.sleep(2)"
   ]
  },
  {
   "cell_type": "code",
   "execution_count": 4,
   "id": "c80a137d",
   "metadata": {},
   "outputs": [],
   "source": [
    "user_id = 'kwongiil'\n",
    "pw = 'rnjsrldlf1513!@'\n",
    "\n",
    "#input_id = browser.find_element_by_css_selector('#loginForm > div > div:nth-child(1) > div > label > input').click()\n",
    "input_id = browser.find_element(By.CSS_SELECTOR,'#loginForm > div > div:nth-child(1) > div > label > input')\n",
    "input_id.clear()\n",
    "input_id.click()\n",
    "input_id.send_keys(user_id)\n",
    "\n",
    "input_pw = browser.find_element(By.CSS_SELECTOR, '#loginForm > div > div:nth-child(2) > div > label > input')\n",
    "input_pw.clear()\n",
    "input_pw.click()\n",
    "input_pw.send_keys(pw)\n",
    "\n",
    "input_pw.submit()\n",
    "time.sleep(2)"
   ]
  },
  {
   "cell_type": "code",
   "execution_count": 5,
   "id": "ca681d94",
   "metadata": {},
   "outputs": [
    {
     "name": "stdout",
     "output_type": "stream",
     "text": [
      "검색어 입력: 제주도맛집\n"
     ]
    }
   ],
   "source": [
    "# 인스타그램에서 검색\n",
    "kwrd = input('검색어 입력: ')\n",
    "url = 'https://www.instagram.com/explore/tags/' + kwrd\n",
    "browser.get(url)"
   ]
  },
  {
   "cell_type": "code",
   "execution_count": 6,
   "id": "d353e57b",
   "metadata": {},
   "outputs": [
    {
     "data": {
      "text/plain": [
       "'<협찬>재철 식재료로 매일 신선한 스시,숙성회를 맛보실수 있는 스시오타루🏠제주 제주시 인다2길 30🏠제주 제주시 아라일동 6117-8🕓매일 11:30 - 22:00(브레이크타임 15:00 - 17:00)☎064-752-5271🌟포장가능🌟스시오타루#제주맛집 #제주도맛집 #제주시맛집 #제주오마카세 #제주도오마카세#제주스시 #아라동맛집 #연동맛집#제주시청맛집 #신제주맛집 #구제주맛집#제주도시락 #제주도도시락 #제주회포장#제주초밥 #제주도초밥'"
      ]
     },
     "execution_count": 6,
     "metadata": {},
     "output_type": "execute_result"
    }
   ],
   "source": [
    "# 게시글 가져오기\n",
    "\n",
    "# 첫번째 게시물 클릭\n",
    "#browser.find_element_by_css_selector(\"div._9AhH0\").click()\n",
    "browser.find_element(By.CSS_SELECTOR,\"div._9AhH0\").click()\n",
    "time.sleep(3)\n",
    "\n",
    "# 첫번째 게시물 정보 가져오기\n",
    "html =  browser.page_source\n",
    "soup = bs(html, \"html.parser\")\n",
    "#print(soup)\n",
    "\n",
    "#content = soup.select(\"div.C4VMK > div.MOdxS > span\")\n",
    "content = soup.find(\"div\", class_=\"C4VMK\").find_all(\"span\")[1].text\n",
    "content"
   ]
  },
  {
   "cell_type": "code",
   "execution_count": 7,
   "id": "99dd1385",
   "metadata": {},
   "outputs": [],
   "source": [
    "# 다음 게시물로 이동(두번째)\n",
    "#driver.find_element(By.CSS_SELECTOR,\"div.l8mY4 > button.wpO6b\").click()\n",
    "browser.find_element(By.XPATH, \"/html/body/div[6]/div[2]/div/div/button\").click()\n",
    "time.sleep(3)"
   ]
  },
  {
   "cell_type": "code",
   "execution_count": 8,
   "id": "5b49c8c3",
   "metadata": {},
   "outputs": [],
   "source": [
    "# 두번째 이후 게시물 이동\n",
    "browser.find_element(By.XPATH, \"/html/body/div[6]/div[2]/div/div[2]/button\").click()\n",
    "time.sleep(3)"
   ]
  },
  {
   "cell_type": "code",
   "execution_count": 14,
   "id": "7151ac7c",
   "metadata": {},
   "outputs": [],
   "source": [
    "# 첫번째 게시물 클릭\n",
    "def get_first(browser):\n",
    "    #driver.find_element_by_css_selector(\"div._9AhH0\").click()\n",
    "    browser.find_element(By.CSS_SELECTOR,\"div._9AhH0\").click()\n",
    "    time.sleep(3)\n",
    "\n",
    "    #content = soup.select('div.C4VMK > div.MOdxS > span')\n",
    "\n",
    "# 첫번째 게시물 정보 가져오기\n"
   ]
  },
  {
   "cell_type": "code",
   "execution_count": 10,
   "id": "507de57a",
   "metadata": {},
   "outputs": [],
   "source": [
    "def get_content(browser):\n",
    "    html =  browser.page_source\n",
    "    soup = bs(html, \"html.parser\")\n",
    "    #print(soup)\n",
    "\n",
    "    #content = soup.select(\"div.C4VMK > div.MOdxS > span\")\n",
    "    content = soup.find(\"div\", class_=\"C4VMK\").find_all(\"span\")[1].text\n",
    "    \n",
    "    # 협찬/광고가 아닌 데이터만 출력하기\n",
    "    if content.split(\"#\")[0][:4] == \"<협찬>\" or content.split(\"#\")[0][:4] == \"<광고>\":\n",
    "        pass\n",
    "    else:\n",
    "        print(content.split(\"#\")[0])  # 내용만 출력하기\n",
    "    print()"
   ]
  },
  {
   "cell_type": "code",
   "execution_count": 12,
   "id": "cd080f62",
   "metadata": {},
   "outputs": [],
   "source": [
    "# 다음 내용으로 이동하기\n",
    "def get_nxt(browser, cnt):\n",
    "    if cnt == 0:\n",
    "        browser.find_element(By.XPATH, \"/html/body/div[6]/div[2]/div/div/button\").click()\n",
    "        time.sleep(3)\n",
    "    else:\n",
    "        browser.find_element(By.XPATH, \"/html/body/div[6]/div[2]/div/div[2]/button\").click()\n",
    "        time.sleep(3)"
   ]
  },
  {
   "cell_type": "code",
   "execution_count": 17,
   "id": "5c00e388",
   "metadata": {},
   "outputs": [
    {
     "name": "stdout",
     "output_type": "stream",
     "text": [
      "검색어 입력:제주도맛집\n",
      "\n",
      "\n",
      "제주도 동쪽 갈치 1등.jpg하루에 갈치만 150마리 판다고 함..ㄷㄷㄷㄷㄷㄷㄷㄷ히밥이 먹고 극찬한 보리김치도 여기 꺼였음!!+ 고등어조림이랑 같이 나오는 세트 강츄⠀출처: @muk__dam⠀\n",
      "\n",
      "제주황해식당 tvn 더짠내투어 가성비 갈치조림으로 소개된@hwanghae.jeju매일 목요일 정기휴무입니다방문에 참고부탁드려요 오픈 직후. 그리고 저녁시간엔대기 없이 식사 가능하십니다.참고해주시고 방문해주세요. 🥰    \n",
      "\n",
      "\n"
     ]
    }
   ],
   "source": [
    "# 인스타 검색 url 확인 및 사용자 키워드 적용\n",
    "kwrd = input(\"검색어 입력:\")\n",
    "\n",
    "url=\"https://www.instagram.com/explore/tags/\" + kwrd\n",
    "browser.get(url)\n",
    "time.sleep(5)\n",
    "\n",
    "get_first(browser)\n",
    "\n",
    "for i in range(5):\n",
    "    get_content(browser)\n",
    "    get_nxt(browser, i)"
   ]
  },
  {
   "cell_type": "code",
   "execution_count": null,
   "id": "7ddbdeb7",
   "metadata": {},
   "outputs": [],
   "source": []
  }
 ],
 "metadata": {
  "kernelspec": {
   "display_name": "Python 3 (ipykernel)",
   "language": "python",
   "name": "python3"
  },
  "language_info": {
   "codemirror_mode": {
    "name": "ipython",
    "version": 3
   },
   "file_extension": ".py",
   "mimetype": "text/x-python",
   "name": "python",
   "nbconvert_exporter": "python",
   "pygments_lexer": "ipython3",
   "version": "3.9.7"
  }
 },
 "nbformat": 4,
 "nbformat_minor": 5
}
