{
 "cells": [
  {
   "cell_type": "code",
   "execution_count": null,
   "id": "c1317324",
   "metadata": {},
   "outputs": [],
   "source": [
    "# 네이버 이미지 갖고 오기\n",
    "# - 셀레니움 가지고 이미지 크롤링 하기\n",
    "# - 폴더 생성 / 기존폴더. 파일명에 따른 다른 이름 저장"
   ]
  },
  {
   "cell_type": "code",
   "execution_count": 1,
   "id": "21cbe22e",
   "metadata": {},
   "outputs": [],
   "source": [
    "# 필요한 모듈 갖고 오기\n",
    "from selenium.webdriver import Chrome\n",
    "from selenium.webdriver.common.by import By\n",
    "from bs4 import BeautifulSoup as bs\n",
    "import time\n",
    "import os # 파일 갖고 와야 되니까\n",
    "from tqdm import tqdm\n",
    "from urllib import request # 이미지 다운로드를 위해 필요한 모듈"
   ]
  },
  {
   "cell_type": "code",
   "execution_count": 2,
   "id": "a44057ae",
   "metadata": {},
   "outputs": [
    {
     "name": "stderr",
     "output_type": "stream",
     "text": [
      "C:\\Users\\kwoni\\AppData\\Local\\Temp\\ipykernel_8876\\2350673581.py:1: DeprecationWarning: executable_path has been deprecated, please pass in a Service object\n",
      "  browser = Chrome('C:/Users/kwoni/Desktop/pycode/chromedriver.exe')\n"
     ]
    }
   ],
   "source": [
    "browser = Chrome('C:/Users/kwoni/Desktop/pycode/chromedriver.exe')\n",
    "time.sleep(1)"
   ]
  },
  {
   "cell_type": "code",
   "execution_count": 4,
   "id": "a5d0e761",
   "metadata": {},
   "outputs": [
    {
     "name": "stdout",
     "output_type": "stream",
     "text": [
      "이미지 검색어 입력: 시노부\n",
      "스크롤 횟수 입력(최대 6): 8\n"
     ]
    }
   ],
   "source": [
    "# 준비 작업\n",
    "# 키워드 입력 및 url 생성\n",
    "kwrd=input('이미지 검색어 입력: ')\n",
    "\n",
    "\n",
    "url = 'https://search.naver.com/search.naver?where=image&sm=tab_jum&query='\n",
    "url = url + kwrd # url = url += kwrd\n",
    "\n",
    "browser.get(url)\n",
    "\n",
    "# 사용자가 요구한 스크롤 다운 횟수 확인하기\n",
    "cntDn=int(input('스크롤 횟수 입력(최대 6): '))\n",
    "\n",
    "if cntDn > 7:\n",
    "    cntDn =7\n",
    "cntDn\n",
    "\n",
    "# windows.scrollTo(0,Height) : 스크롤을 아래로 이동\n",
    "# Height 대신 document.body.scrollHeight를 입력하면 페이지의 끝으로 이동한다\n",
    "for i in range(cntDn):\n",
    "    browser.execute_script('window.scrollTo(0,document.body.scrollHeight)')\n",
    "    time.sleep(1)"
   ]
  },
  {
   "cell_type": "code",
   "execution_count": null,
   "id": "7989d37b",
   "metadata": {},
   "outputs": [],
   "source": [
    "# 화면에서 이미지 추출하기\n",
    "# - 드라이브의 소스 코드 받아오기\n",
    "# - 이미지가 있는 태그 찾기\n",
    "# - 태그에서 이미지 소스('src') 받아오기\n",
    "# - src 주소를 이용해여 이미지 다운로드 하기"
   ]
  },
  {
   "cell_type": "code",
   "execution_count": 5,
   "id": "88ee2fce",
   "metadata": {},
   "outputs": [],
   "source": [
    "# 드라이브 소스 코드 가져오기\n",
    "html = browser.page_source\n",
    "soup = bs(html,'html.parser')"
   ]
  },
  {
   "cell_type": "code",
   "execution_count": 6,
   "id": "7cb6a099",
   "metadata": {},
   "outputs": [
    {
     "name": "stdout",
     "output_type": "stream",
     "text": [
      "https://search.pstatic.net/common/?src=http%3A%2F%2Fcafefiles.naver.net%2FMjAyMDAzMDlfMjUx%2FMDAxNTgzNzQ5MzkwMDY5.olQe-AdAaJmjFi18wr8cYGz1qr5wUPWrw9mcB6rSSv4g.W5Hvub9Ecp__PN2oXpo6nqXP1fPdB2QmV0NVPK9xdzog.JPEG%2F77556768_p0_master1200.jpg&type=a340\n"
     ]
    }
   ],
   "source": [
    "# 이미지 대표 태그 찾기(find_all이니까 리스트 구조로 저장)\n",
    "# image lazy src : 이미지만 불러오는 기능\n",
    "tag_img = soup.find_all('div',class_='thumb')\n",
    "tag_img[2].find('img')['src'] # 가장 첫번째 이미지의 이미지 소스 코드 뽑아온거\n",
    "img=tag_img[4].find(\"img\", class_=\"_image _listImage\")\n",
    "if img.get('data-lazy-src') == None: # data-lazy-src가 없으면 \n",
    "    print(img['src'])\n",
    "else:\n",
    "    print(img.get('data-lazy-src'))"
   ]
  },
  {
   "cell_type": "code",
   "execution_count": 7,
   "id": "278fa0fe",
   "metadata": {},
   "outputs": [],
   "source": [
    "# 태그에서 이미지 소스(\"src\") 받아오기\n",
    "tag_src=[]\n",
    "for tag in tag_img:\n",
    "    img=tag.find(\"img\", class_=\"_image _listImage\")\n",
    "    if img.get(\"data-lazy-src\") == None:\n",
    "        tag_src.append(tag.find(\"img\")['src'])\n",
    "    else:\n",
    "        tag_src.append(img.get(\"data-lazy-src\"))\n",
    "        \n",
    "#tag_src=[tag.find(\"img\")['src'] for tag in tag_img]\n",
    "#print(len(tag_src))\n",
    "browser.close()"
   ]
  },
  {
   "cell_type": "code",
   "execution_count": 8,
   "id": "7c553e79",
   "metadata": {},
   "outputs": [
    {
     "data": {
      "text/plain": [
       "('C:/Users/kwoni/Desktop/pycode/data/시노부.jpg',\n",
       " <http.client.HTTPMessage at 0x1ee5f64afd0>)"
      ]
     },
     "execution_count": 8,
     "metadata": {},
     "output_type": "execute_result"
    }
   ],
   "source": [
    "# 이미지 src를 이용해 이미지 데이터 다운로드 후 저장하기\n",
    "img_nm = 'C:/Users/kwoni/Desktop/pycode/data/' + kwrd +'.jpg'\n",
    "#urllib.requests.urlretrieve (대상 url, '저장 경로와 파일명')\n",
    "request.urlretrieve(tag_src[0],img_nm) # 웹 상의 이미지를 다운로드 후 저장"
   ]
  },
  {
   "cell_type": "code",
   "execution_count": null,
   "id": "821040c0",
   "metadata": {},
   "outputs": [],
   "source": [
    "# 검색어를 이용해 폴더를 생성 후 전체 이미지 저장\n",
    "# - os.mkdir('디렉토리 경로 / 생성 폴더명') => 디렉토리 생성 명령어\n",
    "# - 폴더가 없으면 생성 후 저장\n",
    "# - 기존에 폴더가 존재하면 해당 폴더 이름 뒤에 1,2 ...와 같이 번호를 부여하고 생성"
   ]
  },
  {
   "cell_type": "code",
   "execution_count": 10,
   "id": "788a1503",
   "metadata": {},
   "outputs": [
    {
     "data": {
      "text/plain": [
       "['images',\n",
       " 'imgs',\n",
       " 'Starbucks_gg.csv',\n",
       " 'Starbucks_Seoul.csv',\n",
       " 'subwayfree.csv',\n",
       " '스타벅스_전국.csv',\n",
       " '시노부.jpg',\n",
       " '지역_위치별(주유소) (1).xls',\n",
       " '지역_위치별(주유소) (2).xls',\n",
       " '지역_위치별(주유소).xls']"
      ]
     },
     "execution_count": 10,
     "metadata": {},
     "output_type": "execute_result"
    }
   ],
   "source": [
    "# 폴더 생성\n",
    "os.makedirs('C:/Users/kwoni/Desktop/pycode/data/imgs')\n",
    "os.listdir('C:/Users/kwoni/Desktop/pycode/data/')"
   ]
  },
  {
   "cell_type": "code",
   "execution_count": 11,
   "id": "1b42d46f",
   "metadata": {},
   "outputs": [
    {
     "data": {
      "text/plain": [
       "True"
      ]
     },
     "execution_count": 11,
     "metadata": {},
     "output_type": "execute_result"
    }
   ],
   "source": [
    "os.path.exists('C:/Users/kwoni/Desktop/pycode/data/') # 폴더, 파일 존재 여부 확인\n",
    "# 있으면 ture, 없으면 false 출력"
   ]
  },
  {
   "cell_type": "code",
   "execution_count": 12,
   "id": "8f95d602",
   "metadata": {},
   "outputs": [],
   "source": [
    "# 이미지를 저장할 대표 폴더를 생성(images)\n",
    "fdir = 'C:/Users/kwoni/Desktop/pycode/data/images'\n",
    "\n",
    "if os.path.exists(fdir): # 폴더가 있다면 뒤에 '/'만 붙여라\n",
    "    fdir += '/'\n",
    "else:\n",
    "    os.makedirs(fdir) # 폴더가 없다면 폴더 생성 후 뒤에 '/' 붙여라\n",
    "    fdir += '/'\n",
    "\n",
    "#images 폴더에 검색 키워드를 이용해 폴더 생성 후 저장\n",
    "# 키워드에 동일한 폴더가 있는 경우 뒤에 번호를 1씩 증가시키며 폴더명 확인\n",
    "# 없으면 생성\n",
    "\n",
    "if not os.path.exists(fdir + kwrd): \n",
    "    os.makedirs(fdir + kwrd) # 폴더가 없다면 폴더 생성 후 뒤에 '/' 붙여라\n",
    "    fdir = fdir + kwrd + '/'\n",
    "else: # 그 폴더가 있으면 새로운 폴더를 생성(번호를 증가시키는 방식으로)\n",
    "    num = 0\n",
    "    while True:\n",
    "        num += 1 # 번호를 1씩 증가\n",
    "        # 증가된 번호와 기존 폴더명을 연결해서 존재 여부 확인\n",
    "        if not os.path.exists(fdir + kwrd + str(num)):\n",
    "            os.makedirs(fdir + kwrd + str(num))#없으면 폴더 생성 후 while문 종료\n",
    "            fdir = fdir + kwrd + str(num) +'/'\n",
    "            break"
   ]
  },
  {
   "cell_type": "code",
   "execution_count": 13,
   "id": "d4b1f6b3",
   "metadata": {},
   "outputs": [
    {
     "name": "stderr",
     "output_type": "stream",
     "text": [
      "100%|████████████████████████████████████████████████████████████████████████████████| 532/532 [21:18<00:00,  2.40s/it]"
     ]
    },
    {
     "name": "stdout",
     "output_type": "stream",
     "text": [
      "===작업 끝===\n"
     ]
    },
    {
     "name": "stderr",
     "output_type": "stream",
     "text": [
      "\n"
     ]
    }
   ],
   "source": [
    "# 이미지 저장하기\n",
    "# - 저장 이미지 이름 뒤에 번호를 붙이기\n",
    "\n",
    "num = 0\n",
    "for tag in tqdm(tag_src):\n",
    "    img_name = fdir + kwrd +str(num)+'.jpg'\n",
    "    request.urlretrieve(tag,img_name) # 웹 상의 이미지를 다운로드 후 저장\n",
    "    time.sleep(2)\n",
    "    num += 1\n",
    "\n",
    "print('===작업 끝===')\n",
    "\n"
   ]
  },
  {
   "cell_type": "code",
   "execution_count": 17,
   "id": "57065e28",
   "metadata": {},
   "outputs": [
    {
     "name": "stderr",
     "output_type": "stream",
     "text": [
      "C:\\Users\\kwoni\\AppData\\Local\\Temp\\ipykernel_8876\\34278016.py:3: DeprecationWarning: executable_path has been deprecated, please pass in a Service object\n",
      "  browser = Chrome('C:/Users/kwoni/Desktop/pycode/chromedriver.exe')\n"
     ]
    },
    {
     "name": "stdout",
     "output_type": "stream",
     "text": [
      "이미지 검색어 입력: 고양이\n",
      "스크롤 횟수 입력(최대 6): 8\n"
     ]
    }
   ],
   "source": [
    "# 구글에서 고양이 이미지 크롤링 하기\n",
    "# - 스크롤바를 이용하여 검색한 기본 이미지를 폴더 생성 후 저장\n",
    "browser = Chrome('C:/Users/kwoni/Desktop/pycode/chromedriver.exe')\n",
    "time.sleep(1)\n",
    "\n",
    "kwrd=input('이미지 검색어 입력: ')\n",
    "\n",
    "\n",
    "url = 'https://www.google.com/search?q='\n",
    "url = url + kwrd+'&tbm=isch&ved='+ kwrd# url = url += kwrd\n",
    "\n",
    "browser.get(url)\n",
    "\n",
    "# 사용자가 요구한 스크롤 다운 횟수 확인하기\n",
    "cntDn=int(input('스크롤 횟수 입력(최대 6): '))\n",
    "\n",
    "if cntDn > 6:\n",
    "    cntDn =6\n",
    "cntDn\n",
    "\n",
    "# windows.scrollTo(0,Height) : 스크롤을 아래로 이동\n",
    "# Height 대신 document.body.scrollHeight를 입력하면 페이지의 끝으로 이동한다\n",
    "for i in range(cntDn):\n",
    "    browser.execute_script('window.scrollTo(0,document.body.scrollHeight)')\n",
    "    time.sleep(1)"
   ]
  },
  {
   "cell_type": "code",
   "execution_count": 18,
   "id": "084db26a",
   "metadata": {
    "collapsed": true
   },
   "outputs": [
    {
     "name": "stdout",
     "output_type": "stream",
     "text": [
      "data:image/jpeg;base64,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\n"
     ]
    }
   ],
   "source": [
    "# 드라이브 소스 코드 가져오기\n",
    "html = browser.page_source\n",
    "soup = bs(html,'html.parser')\n",
    "\n",
    "tag_img = soup.find_all('div',class_='bRMDJf islir')\n",
    "tag_img[0].find('img')['src'] # 가장 첫번째 이미지의 이미지 소스 코드 뽑아온거\n",
    "img = tag_img[0].find('img',class_='rg_i Q4LuWd')\n",
    "\n",
    "if img.get('data-lazy-src') == None: # data-lazy-src가 없으면 \n",
    "    print(img['src'])\n",
    "else:\n",
    "    print(img.get('data-lazy-src'))"
   ]
  },
  {
   "cell_type": "code",
   "execution_count": 23,
   "id": "420e8dac",
   "metadata": {},
   "outputs": [
    {
     "ename": "KeyError",
     "evalue": "'src'",
     "output_type": "error",
     "traceback": [
      "\u001b[1;31m---------------------------------------------------------------------------\u001b[0m",
      "\u001b[1;31mKeyError\u001b[0m                                  Traceback (most recent call last)",
      "Input \u001b[1;32mIn [23]\u001b[0m, in \u001b[0;36m<cell line: 3>\u001b[1;34m()\u001b[0m\n\u001b[0;32m      4\u001b[0m img\u001b[38;5;241m=\u001b[39mtag\u001b[38;5;241m.\u001b[39mfind(\u001b[38;5;124m\"\u001b[39m\u001b[38;5;124mimg\u001b[39m\u001b[38;5;124m\"\u001b[39m, class_\u001b[38;5;241m=\u001b[39m\u001b[38;5;124m'\u001b[39m\u001b[38;5;124mrg_i Q4LuWd\u001b[39m\u001b[38;5;124m'\u001b[39m)\n\u001b[0;32m      5\u001b[0m \u001b[38;5;28;01mif\u001b[39;00m img\u001b[38;5;241m.\u001b[39mget(\u001b[38;5;124m\"\u001b[39m\u001b[38;5;124mdata-lazy-src\u001b[39m\u001b[38;5;124m\"\u001b[39m) \u001b[38;5;241m==\u001b[39m \u001b[38;5;28;01mNone\u001b[39;00m:\n\u001b[1;32m----> 6\u001b[0m     tag_src\u001b[38;5;241m.\u001b[39mappend(\u001b[43mtag\u001b[49m\u001b[38;5;241;43m.\u001b[39;49m\u001b[43mfind\u001b[49m\u001b[43m(\u001b[49m\u001b[38;5;124;43m\"\u001b[39;49m\u001b[38;5;124;43mimg\u001b[39;49m\u001b[38;5;124;43m\"\u001b[39;49m\u001b[43m)\u001b[49m\u001b[43m[\u001b[49m\u001b[38;5;124;43m'\u001b[39;49m\u001b[38;5;124;43msrc\u001b[39;49m\u001b[38;5;124;43m'\u001b[39;49m\u001b[43m]\u001b[49m)\n\u001b[0;32m      7\u001b[0m \u001b[38;5;28;01melse\u001b[39;00m:\n\u001b[0;32m      8\u001b[0m     tag_src\u001b[38;5;241m.\u001b[39mappend(img\u001b[38;5;241m.\u001b[39mget(\u001b[38;5;124m\"\u001b[39m\u001b[38;5;124mdata-lazy-src\u001b[39m\u001b[38;5;124m\"\u001b[39m))\n",
      "File \u001b[1;32mC:\\ProgramData\\Miniconda3\\envs\\kdig\\lib\\site-packages\\bs4\\element.py:1486\u001b[0m, in \u001b[0;36mTag.__getitem__\u001b[1;34m(self, key)\u001b[0m\n\u001b[0;32m   1483\u001b[0m \u001b[38;5;28;01mdef\u001b[39;00m \u001b[38;5;21m__getitem__\u001b[39m(\u001b[38;5;28mself\u001b[39m, key):\n\u001b[0;32m   1484\u001b[0m     \u001b[38;5;124;03m\"\"\"tag[key] returns the value of the 'key' attribute for the Tag,\u001b[39;00m\n\u001b[0;32m   1485\u001b[0m \u001b[38;5;124;03m    and throws an exception if it's not there.\"\"\"\u001b[39;00m\n\u001b[1;32m-> 1486\u001b[0m     \u001b[38;5;28;01mreturn\u001b[39;00m \u001b[38;5;28;43mself\u001b[39;49m\u001b[38;5;241;43m.\u001b[39;49m\u001b[43mattrs\u001b[49m\u001b[43m[\u001b[49m\u001b[43mkey\u001b[49m\u001b[43m]\u001b[49m\n",
      "\u001b[1;31mKeyError\u001b[0m: 'src'"
     ]
    }
   ],
   "source": [
    "# 태그에서 이미지 소스(\"src\") 받아오기\n",
    "tag_src=[]\n",
    "for tag in tag_img:\n",
    "    img=tag.find(\"img\", class_='rg_i Q4LuWd')\n",
    "    if img.get(\"data-lazy-src\") == None:\n",
    "        tag_src.append(tag.find(\"img\")['src'])\n",
    "    else:\n",
    "        tag_src.append(img.get(\"data-lazy-src\"))\n",
    "        \n",
    "#tag_src=[tag.find(\"img\")['src'] for tag in tag_img]\n",
    "#print(len(tag_src))\n",
    "browser.close()"
   ]
  },
  {
   "cell_type": "code",
   "execution_count": null,
   "id": "aa6dcebd",
   "metadata": {},
   "outputs": [],
   "source": [
    "img_nm = 'C:/Users/kwoni/Desktop/pycode/data/' + kwrd +'.jpg'"
   ]
  },
  {
   "cell_type": "code",
   "execution_count": null,
   "id": "6f395a08",
   "metadata": {},
   "outputs": [],
   "source": []
  },
  {
   "cell_type": "code",
   "execution_count": null,
   "id": "89033c38",
   "metadata": {},
   "outputs": [],
   "source": []
  },
  {
   "cell_type": "code",
   "execution_count": null,
   "id": "71449ac1",
   "metadata": {},
   "outputs": [],
   "source": []
  },
  {
   "cell_type": "code",
   "execution_count": null,
   "id": "e309b6bf",
   "metadata": {},
   "outputs": [],
   "source": []
  }
 ],
 "metadata": {
  "kernelspec": {
   "display_name": "Python 3 (ipykernel)",
   "language": "python",
   "name": "python3"
  },
  "language_info": {
   "codemirror_mode": {
    "name": "ipython",
    "version": 3
   },
   "file_extension": ".py",
   "mimetype": "text/x-python",
   "name": "python",
   "nbconvert_exporter": "python",
   "pygments_lexer": "ipython3",
   "version": "3.9.7"
  }
 },
 "nbformat": 4,
 "nbformat_minor": 5
}
